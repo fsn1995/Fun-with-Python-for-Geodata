{
 "cells": [
  {
   "cell_type": "markdown",
   "metadata": {},
   "source": [
    "# Georaster Visualization\n",
    "## 1. DEM \n",
    "A 3d viewer of a subset of downloaded ALOS DEM, JAXA.\n",
    "\n",
    "rasterio, matplotlib, plotly, earthpy, numpy"
   ]
  },
  {
   "cell_type": "code",
   "execution_count": 1,
   "metadata": {},
   "outputs": [],
   "source": [
    "import matplotlib.pyplot as plt\n",
    "from mpl_toolkits.mplot3d import Axes3D\n",
    "import earthpy.plot as ep\n",
    "import rasterio \n",
    "import numpy as np\n",
    "from matplotlib import cm\n",
    "import plotly.graph_objects as go"
   ]
  },
  {
   "cell_type": "code",
   "execution_count": 2,
   "metadata": {},
   "outputs": [],
   "source": [
    "src = rasterio.open(r'raster\\waterDEM30m.tif')\n",
    "band1 = src.read(1)\n",
    "\n",
    "from geopyfsn import getxy # personal function\n",
    "x, y = getxy(src)\n",
    "X, Y = np.meshgrid(x,y)"
   ]
  },
  {
   "cell_type": "markdown",
   "metadata": {},
   "source": [
    "static 3d surface plot with contour"
   ]
  },
  {
   "cell_type": "code",
   "execution_count": 3,
   "metadata": {},
   "outputs": [
    {
     "output_type": "display_data",
     "data": {
      "text/plain": "<Figure size 720x360 with 2 Axes>",
      "image/svg+xml": "<?xml version=\"1.0\" encoding=\"utf-8\" standalone=\"no\"?>\r\n<!DOCTYPE svg PUBLIC \"-//W3C//DTD SVG 1.1//EN\"\r\n  \"http://www.w3.org/Graphics/SVG/1.1/DTD/svg11.dtd\">\r\n<!-- Created with matplotlib (https://matplotlib.org/) -->\r\n<svg height=\"286.2pt\" version=\"1.1\" viewBox=\"0 0 542.055625 286.2\" width=\"542.055625pt\" xmlns=\"http://www.w3.org/2000/svg\" xmlns:xlink=\"http://www.w3.org/1999/xlink\">\r\n <defs>\r\n  <style type=\"text/css\">\r\n*{stroke-linecap:butt;stroke-linejoin:round;}\r\n  </style>\r\n </defs>\r\n <g id=\"figure_1\">\r\n  <g id=\"patch_1\">\r\n   <path d=\"M 0 286.2 \r\nL 542.055625 286.2 \r\nL 542.055625 0 \r\nL 0 0 \r\nz\r\n\" style=\"fill:none;\"/>\r\n  </g>\r\n  <g id=\"patch_2\">\r\n   <path d=\"M 7.2 279 \r\nL 453.6 279 \r\nL 453.6 7.2 \r\nL 7.2 7.2 \r\nz\r\n\" style=\"fill:#ffffff;\"/>\r\n  </g>\r\n  <g id=\"pane3d_1\">\r\n   <g id=\"patch_3\">\r\n    <path d=\"M 66.377218 218.941779 \r\nL 194.139234 152.302577 \r\nL 192.012132 24.966001 \r\nL 57.126546 84.839953 \r\n\" style=\"fill:#f2f2f2;opacity:0.5;stroke:#f2f2f2;stroke-linejoin:miter;\"/>\r\n   </g>\r\n  </g>\r\n  <g id=\"pane3d_2\">\r\n   <g id=\"patch_4\">\r\n    <path d=\"M 194.139234 152.302577 \r\nL 401.101687 189.558191 \r\nL 409.760748 58.381832 \r\nL 192.012132 24.966001 \r\n\" style=\"fill:#e6e6e6;opacity:0.5;stroke:#e6e6e6;stroke-linejoin:miter;\"/>\r\n   </g>\r\n  </g>\r\n  <g id=\"pane3d_3\">\r\n   <g id=\"patch_5\">\r\n    <path d=\"M 66.377218 218.941779 \r\nL 284.129684 262.332012 \r\nL 401.101687 189.558191 \r\nL 194.139234 152.302577 \r\n\" style=\"fill:#ececec;opacity:0.5;stroke:#ececec;stroke-linejoin:miter;\"/>\r\n   </g>\r\n  </g>\r\n  <g id=\"axis3d_1\">\r\n   <g id=\"line2d_1\">\r\n    <path d=\"M 66.377218 218.941779 \r\nL 284.129684 262.332012 \r\n\" style=\"fill:none;stroke:#000000;stroke-linecap:square;stroke-width:0.8;\"/>\r\n   </g>\r\n   <g id=\"text_1\">\r\n    <!-- lon -->\r\n    <defs>\r\n     <path d=\"M 9.421875 75.984375 \r\nL 18.40625 75.984375 \r\nL 18.40625 0 \r\nL 9.421875 0 \r\nz\r\n\" id=\"DejaVuSans-108\"/>\r\n     <path d=\"M 30.609375 48.390625 \r\nQ 23.390625 48.390625 19.1875 42.75 \r\nQ 14.984375 37.109375 14.984375 27.296875 \r\nQ 14.984375 17.484375 19.15625 11.84375 \r\nQ 23.34375 6.203125 30.609375 6.203125 \r\nQ 37.796875 6.203125 41.984375 11.859375 \r\nQ 46.1875 17.53125 46.1875 27.296875 \r\nQ 46.1875 37.015625 41.984375 42.703125 \r\nQ 37.796875 48.390625 30.609375 48.390625 \r\nz\r\nM 30.609375 56 \r\nQ 42.328125 56 49.015625 48.375 \r\nQ 55.71875 40.765625 55.71875 27.296875 \r\nQ 55.71875 13.875 49.015625 6.21875 \r\nQ 42.328125 -1.421875 30.609375 -1.421875 \r\nQ 18.84375 -1.421875 12.171875 6.21875 \r\nQ 5.515625 13.875 5.515625 27.296875 \r\nQ 5.515625 40.765625 12.171875 48.375 \r\nQ 18.84375 56 30.609375 56 \r\nz\r\n\" id=\"DejaVuSans-111\"/>\r\n     <path d=\"M 54.890625 33.015625 \r\nL 54.890625 0 \r\nL 45.90625 0 \r\nL 45.90625 32.71875 \r\nQ 45.90625 40.484375 42.875 44.328125 \r\nQ 39.84375 48.1875 33.796875 48.1875 \r\nQ 26.515625 48.1875 22.3125 43.546875 \r\nQ 18.109375 38.921875 18.109375 30.90625 \r\nL 18.109375 0 \r\nL 9.078125 0 \r\nL 9.078125 54.6875 \r\nL 18.109375 54.6875 \r\nL 18.109375 46.1875 \r\nQ 21.34375 51.125 25.703125 53.5625 \r\nQ 30.078125 56 35.796875 56 \r\nQ 45.21875 56 50.046875 50.171875 \r\nQ 54.890625 44.34375 54.890625 33.015625 \r\nz\r\n\" id=\"DejaVuSans-110\"/>\r\n    </defs>\r\n    <g transform=\"translate(147.84246 270.276698)scale(0.1 -0.1)\">\r\n     <use xlink:href=\"#DejaVuSans-108\"/>\r\n     <use x=\"27.783203\" xlink:href=\"#DejaVuSans-111\"/>\r\n     <use x=\"88.964844\" xlink:href=\"#DejaVuSans-110\"/>\r\n    </g>\r\n   </g>\r\n   <g id=\"text_2\">\r\n    <!-- −6.183e1 -->\r\n    <defs>\r\n     <path d=\"M 10.59375 35.5 \r\nL 73.1875 35.5 \r\nL 73.1875 27.203125 \r\nL 10.59375 27.203125 \r\nz\r\n\" id=\"DejaVuSans-8722\"/>\r\n     <path d=\"M 33.015625 40.375 \r\nQ 26.375 40.375 22.484375 35.828125 \r\nQ 18.609375 31.296875 18.609375 23.390625 \r\nQ 18.609375 15.53125 22.484375 10.953125 \r\nQ 26.375 6.390625 33.015625 6.390625 \r\nQ 39.65625 6.390625 43.53125 10.953125 \r\nQ 47.40625 15.53125 47.40625 23.390625 \r\nQ 47.40625 31.296875 43.53125 35.828125 \r\nQ 39.65625 40.375 33.015625 40.375 \r\nz\r\nM 52.59375 71.296875 \r\nL 52.59375 62.3125 \r\nQ 48.875 64.0625 45.09375 64.984375 \r\nQ 41.3125 65.921875 37.59375 65.921875 \r\nQ 27.828125 65.921875 22.671875 59.328125 \r\nQ 17.53125 52.734375 16.796875 39.40625 \r\nQ 19.671875 43.65625 24.015625 45.921875 \r\nQ 28.375 48.1875 33.59375 48.1875 \r\nQ 44.578125 48.1875 50.953125 41.515625 \r\nQ 57.328125 34.859375 57.328125 23.390625 \r\nQ 57.328125 12.15625 50.6875 5.359375 \r\nQ 44.046875 -1.421875 33.015625 -1.421875 \r\nQ 20.359375 -1.421875 13.671875 8.265625 \r\nQ 6.984375 17.96875 6.984375 36.375 \r\nQ 6.984375 53.65625 15.1875 63.9375 \r\nQ 23.390625 74.21875 37.203125 74.21875 \r\nQ 40.921875 74.21875 44.703125 73.484375 \r\nQ 48.484375 72.75 52.59375 71.296875 \r\nz\r\n\" id=\"DejaVuSans-54\"/>\r\n     <path d=\"M 10.6875 12.40625 \r\nL 21 12.40625 \r\nL 21 0 \r\nL 10.6875 0 \r\nz\r\n\" id=\"DejaVuSans-46\"/>\r\n     <path d=\"M 12.40625 8.296875 \r\nL 28.515625 8.296875 \r\nL 28.515625 63.921875 \r\nL 10.984375 60.40625 \r\nL 10.984375 69.390625 \r\nL 28.421875 72.90625 \r\nL 38.28125 72.90625 \r\nL 38.28125 8.296875 \r\nL 54.390625 8.296875 \r\nL 54.390625 0 \r\nL 12.40625 0 \r\nz\r\n\" id=\"DejaVuSans-49\"/>\r\n     <path d=\"M 31.78125 34.625 \r\nQ 24.75 34.625 20.71875 30.859375 \r\nQ 16.703125 27.09375 16.703125 20.515625 \r\nQ 16.703125 13.921875 20.71875 10.15625 \r\nQ 24.75 6.390625 31.78125 6.390625 \r\nQ 38.8125 6.390625 42.859375 10.171875 \r\nQ 46.921875 13.96875 46.921875 20.515625 \r\nQ 46.921875 27.09375 42.890625 30.859375 \r\nQ 38.875 34.625 31.78125 34.625 \r\nz\r\nM 21.921875 38.8125 \r\nQ 15.578125 40.375 12.03125 44.71875 \r\nQ 8.5 49.078125 8.5 55.328125 \r\nQ 8.5 64.0625 14.71875 69.140625 \r\nQ 20.953125 74.21875 31.78125 74.21875 \r\nQ 42.671875 74.21875 48.875 69.140625 \r\nQ 55.078125 64.0625 55.078125 55.328125 \r\nQ 55.078125 49.078125 51.53125 44.71875 \r\nQ 48 40.375 41.703125 38.8125 \r\nQ 48.828125 37.15625 52.796875 32.3125 \r\nQ 56.78125 27.484375 56.78125 20.515625 \r\nQ 56.78125 9.90625 50.3125 4.234375 \r\nQ 43.84375 -1.421875 31.78125 -1.421875 \r\nQ 19.734375 -1.421875 13.25 4.234375 \r\nQ 6.78125 9.90625 6.78125 20.515625 \r\nQ 6.78125 27.484375 10.78125 32.3125 \r\nQ 14.796875 37.15625 21.921875 38.8125 \r\nz\r\nM 18.3125 54.390625 \r\nQ 18.3125 48.734375 21.84375 45.5625 \r\nQ 25.390625 42.390625 31.78125 42.390625 \r\nQ 38.140625 42.390625 41.71875 45.5625 \r\nQ 45.3125 48.734375 45.3125 54.390625 \r\nQ 45.3125 60.0625 41.71875 63.234375 \r\nQ 38.140625 66.40625 31.78125 66.40625 \r\nQ 25.390625 66.40625 21.84375 63.234375 \r\nQ 18.3125 60.0625 18.3125 54.390625 \r\nz\r\n\" id=\"DejaVuSans-56\"/>\r\n     <path d=\"M 40.578125 39.3125 \r\nQ 47.65625 37.796875 51.625 33 \r\nQ 55.609375 28.21875 55.609375 21.1875 \r\nQ 55.609375 10.40625 48.1875 4.484375 \r\nQ 40.765625 -1.421875 27.09375 -1.421875 \r\nQ 22.515625 -1.421875 17.65625 -0.515625 \r\nQ 12.796875 0.390625 7.625 2.203125 \r\nL 7.625 11.71875 \r\nQ 11.71875 9.328125 16.59375 8.109375 \r\nQ 21.484375 6.890625 26.8125 6.890625 \r\nQ 36.078125 6.890625 40.9375 10.546875 \r\nQ 45.796875 14.203125 45.796875 21.1875 \r\nQ 45.796875 27.640625 41.28125 31.265625 \r\nQ 36.765625 34.90625 28.71875 34.90625 \r\nL 20.21875 34.90625 \r\nL 20.21875 43.015625 \r\nL 29.109375 43.015625 \r\nQ 36.375 43.015625 40.234375 45.921875 \r\nQ 44.09375 48.828125 44.09375 54.296875 \r\nQ 44.09375 59.90625 40.109375 62.90625 \r\nQ 36.140625 65.921875 28.71875 65.921875 \r\nQ 24.65625 65.921875 20.015625 65.03125 \r\nQ 15.375 64.15625 9.8125 62.3125 \r\nL 9.8125 71.09375 \r\nQ 15.4375 72.65625 20.34375 73.4375 \r\nQ 25.25 74.21875 29.59375 74.21875 \r\nQ 40.828125 74.21875 47.359375 69.109375 \r\nQ 53.90625 64.015625 53.90625 55.328125 \r\nQ 53.90625 49.265625 50.4375 45.09375 \r\nQ 46.96875 40.921875 40.578125 39.3125 \r\nz\r\n\" id=\"DejaVuSans-51\"/>\r\n     <path d=\"M 56.203125 29.59375 \r\nL 56.203125 25.203125 \r\nL 14.890625 25.203125 \r\nQ 15.484375 15.921875 20.484375 11.0625 \r\nQ 25.484375 6.203125 34.421875 6.203125 \r\nQ 39.59375 6.203125 44.453125 7.46875 \r\nQ 49.3125 8.734375 54.109375 11.28125 \r\nL 54.109375 2.78125 \r\nQ 49.265625 0.734375 44.1875 -0.34375 \r\nQ 39.109375 -1.421875 33.890625 -1.421875 \r\nQ 20.796875 -1.421875 13.15625 6.1875 \r\nQ 5.515625 13.8125 5.515625 26.8125 \r\nQ 5.515625 40.234375 12.765625 48.109375 \r\nQ 20.015625 56 32.328125 56 \r\nQ 43.359375 56 49.78125 48.890625 \r\nQ 56.203125 41.796875 56.203125 29.59375 \r\nz\r\nM 47.21875 32.234375 \r\nQ 47.125 39.59375 43.09375 43.984375 \r\nQ 39.0625 48.390625 32.421875 48.390625 \r\nQ 24.90625 48.390625 20.390625 44.140625 \r\nQ 15.875 39.890625 15.1875 32.171875 \r\nz\r\n\" id=\"DejaVuSans-101\"/>\r\n    </defs>\r\n    <g transform=\"translate(48.55187 248.337074)rotate(-348.73062)scale(0.1 -0.1)\">\r\n     <use xlink:href=\"#DejaVuSans-8722\"/>\r\n     <use x=\"83.789062\" xlink:href=\"#DejaVuSans-54\"/>\r\n     <use x=\"147.412109\" xlink:href=\"#DejaVuSans-46\"/>\r\n     <use x=\"179.199219\" xlink:href=\"#DejaVuSans-49\"/>\r\n     <use x=\"242.822266\" xlink:href=\"#DejaVuSans-56\"/>\r\n     <use x=\"306.445312\" xlink:href=\"#DejaVuSans-51\"/>\r\n     <use x=\"370.068359\" xlink:href=\"#DejaVuSans-101\"/>\r\n     <use x=\"431.591797\" xlink:href=\"#DejaVuSans-49\"/>\r\n    </g>\r\n   </g>\r\n   <g id=\"Line3DCollection_1\">\r\n    <path d=\"M 92.386239 224.124441 \r\nL 218.932559 156.76566 \r\nL 218.047624 28.961423 \r\n\" style=\"fill:none;stroke:#b0b0b0;stroke-width:0.8;\"/>\r\n    <path d=\"M 125.194015 230.661851 \r\nL 250.178504 162.390288 \r\nL 250.878362 33.999647 \r\n\" style=\"fill:none;stroke:#b0b0b0;stroke-width:0.8;\"/>\r\n    <path d=\"M 158.464828 237.291527 \r\nL 281.833185 168.088494 \r\nL 284.160584 39.107157 \r\n\" style=\"fill:none;stroke:#b0b0b0;stroke-width:0.8;\"/>\r\n    <path d=\"M 192.20855 244.015436 \r\nL 313.904677 173.86173 \r\nL 317.903668 44.28539 \r\n\" style=\"fill:none;stroke:#b0b0b0;stroke-width:0.8;\"/>\r\n    <path d=\"M 226.435336 250.835604 \r\nL 346.401266 179.711488 \r\nL 352.117253 49.535827 \r\n\" style=\"fill:none;stroke:#b0b0b0;stroke-width:0.8;\"/>\r\n    <path d=\"M 261.155634 257.75411 \r\nL 379.331459 185.639301 \r\nL 386.811248 54.859988 \r\n\" style=\"fill:none;stroke:#b0b0b0;stroke-width:0.8;\"/>\r\n   </g>\r\n   <g id=\"xtick_1\">\r\n    <g id=\"line2d_2\">\r\n     <path d=\"M 93.476713 223.543997 \r\nL 90.201213 225.287499 \r\n\" style=\"fill:none;stroke:#000000;stroke-linecap:square;stroke-width:0.8;\"/>\r\n    </g>\r\n    <g id=\"text_3\">\r\n     <!-- −0.007 -->\r\n     <defs>\r\n      <path d=\"M 31.78125 66.40625 \r\nQ 24.171875 66.40625 20.328125 58.90625 \r\nQ 16.5 51.421875 16.5 36.375 \r\nQ 16.5 21.390625 20.328125 13.890625 \r\nQ 24.171875 6.390625 31.78125 6.390625 \r\nQ 39.453125 6.390625 43.28125 13.890625 \r\nQ 47.125 21.390625 47.125 36.375 \r\nQ 47.125 51.421875 43.28125 58.90625 \r\nQ 39.453125 66.40625 31.78125 66.40625 \r\nz\r\nM 31.78125 74.21875 \r\nQ 44.046875 74.21875 50.515625 64.515625 \r\nQ 56.984375 54.828125 56.984375 36.375 \r\nQ 56.984375 17.96875 50.515625 8.265625 \r\nQ 44.046875 -1.421875 31.78125 -1.421875 \r\nQ 19.53125 -1.421875 13.0625 8.265625 \r\nQ 6.59375 17.96875 6.59375 36.375 \r\nQ 6.59375 54.828125 13.0625 64.515625 \r\nQ 19.53125 74.21875 31.78125 74.21875 \r\nz\r\n\" id=\"DejaVuSans-48\"/>\r\n      <path d=\"M 8.203125 72.90625 \r\nL 55.078125 72.90625 \r\nL 55.078125 68.703125 \r\nL 28.609375 0 \r\nL 18.3125 0 \r\nL 43.21875 64.59375 \r\nL 8.203125 64.59375 \r\nz\r\n\" id=\"DejaVuSans-55\"/>\r\n     </defs>\r\n     <g transform=\"translate(65.942696 244.053823)scale(0.1 -0.1)\">\r\n      <use xlink:href=\"#DejaVuSans-8722\"/>\r\n      <use x=\"83.789062\" xlink:href=\"#DejaVuSans-48\"/>\r\n      <use x=\"147.412109\" xlink:href=\"#DejaVuSans-46\"/>\r\n      <use x=\"179.199219\" xlink:href=\"#DejaVuSans-48\"/>\r\n      <use x=\"242.822266\" xlink:href=\"#DejaVuSans-48\"/>\r\n      <use x=\"306.445312\" xlink:href=\"#DejaVuSans-55\"/>\r\n     </g>\r\n    </g>\r\n   </g>\r\n   <g id=\"xtick_2\">\r\n    <g id=\"line2d_3\">\r\n     <path d=\"M 126.271571 230.073246 \r\nL 123.034846 231.841276 \r\n\" style=\"fill:none;stroke:#000000;stroke-linecap:square;stroke-width:0.8;\"/>\r\n    </g>\r\n    <g id=\"text_4\">\r\n     <!-- −0.006 -->\r\n     <g transform=\"translate(98.747525 250.688296)scale(0.1 -0.1)\">\r\n      <use xlink:href=\"#DejaVuSans-8722\"/>\r\n      <use x=\"83.789062\" xlink:href=\"#DejaVuSans-48\"/>\r\n      <use x=\"147.412109\" xlink:href=\"#DejaVuSans-46\"/>\r\n      <use x=\"179.199219\" xlink:href=\"#DejaVuSans-48\"/>\r\n      <use x=\"242.822266\" xlink:href=\"#DejaVuSans-48\"/>\r\n      <use x=\"306.445312\" xlink:href=\"#DejaVuSans-54\"/>\r\n     </g>\r\n    </g>\r\n   </g>\r\n   <g id=\"xtick_3\">\r\n    <g id=\"line2d_4\">\r\n     <path d=\"M 159.528991 236.694588 \r\nL 156.332466 238.487667 \r\n\" style=\"fill:none;stroke:#000000;stroke-linecap:square;stroke-width:0.8;\"/>\r\n    </g>\r\n    <g id=\"text_5\">\r\n     <!-- −0.005 -->\r\n     <defs>\r\n      <path d=\"M 10.796875 72.90625 \r\nL 49.515625 72.90625 \r\nL 49.515625 64.59375 \r\nL 19.828125 64.59375 \r\nL 19.828125 46.734375 \r\nQ 21.96875 47.46875 24.109375 47.828125 \r\nQ 26.265625 48.1875 28.421875 48.1875 \r\nQ 40.625 48.1875 47.75 41.5 \r\nQ 54.890625 34.8125 54.890625 23.390625 \r\nQ 54.890625 11.625 47.5625 5.09375 \r\nQ 40.234375 -1.421875 26.90625 -1.421875 \r\nQ 22.3125 -1.421875 17.546875 -0.640625 \r\nQ 12.796875 0.140625 7.71875 1.703125 \r\nL 7.71875 11.625 \r\nQ 12.109375 9.234375 16.796875 8.0625 \r\nQ 21.484375 6.890625 26.703125 6.890625 \r\nQ 35.15625 6.890625 40.078125 11.328125 \r\nQ 45.015625 15.765625 45.015625 23.390625 \r\nQ 45.015625 31 40.078125 35.4375 \r\nQ 35.15625 39.890625 26.703125 39.890625 \r\nQ 22.75 39.890625 18.8125 39.015625 \r\nQ 14.890625 38.140625 10.796875 36.28125 \r\nz\r\n\" id=\"DejaVuSans-53\"/>\r\n     </defs>\r\n     <g transform=\"translate(132.0161 257.416557)scale(0.1 -0.1)\">\r\n      <use xlink:href=\"#DejaVuSans-8722\"/>\r\n      <use x=\"83.789062\" xlink:href=\"#DejaVuSans-48\"/>\r\n      <use x=\"147.412109\" xlink:href=\"#DejaVuSans-46\"/>\r\n      <use x=\"179.199219\" xlink:href=\"#DejaVuSans-48\"/>\r\n      <use x=\"242.822266\" xlink:href=\"#DejaVuSans-48\"/>\r\n      <use x=\"306.445312\" xlink:href=\"#DejaVuSans-53\"/>\r\n     </g>\r\n    </g>\r\n   </g>\r\n   <g id=\"xtick_4\">\r\n    <g id=\"line2d_5\">\r\n     <path d=\"M 193.258829 243.409986 \r\nL 190.10398 245.22865 \r\n\" style=\"fill:none;stroke:#000000;stroke-linecap:square;stroke-width:0.8;\"/>\r\n    </g>\r\n    <g id=\"text_6\">\r\n     <!-- −0.004 -->\r\n     <defs>\r\n      <path d=\"M 37.796875 64.3125 \r\nL 12.890625 25.390625 \r\nL 37.796875 25.390625 \r\nz\r\nM 35.203125 72.90625 \r\nL 47.609375 72.90625 \r\nL 47.609375 25.390625 \r\nL 58.015625 25.390625 \r\nL 58.015625 17.1875 \r\nL 47.609375 17.1875 \r\nL 47.609375 0 \r\nL 37.796875 0 \r\nL 37.796875 17.1875 \r\nL 4.890625 17.1875 \r\nL 4.890625 26.703125 \r\nz\r\n\" id=\"DejaVuSans-52\"/>\r\n     </defs>\r\n     <g transform=\"translate(165.758323 264.240609)scale(0.1 -0.1)\">\r\n      <use xlink:href=\"#DejaVuSans-8722\"/>\r\n      <use x=\"83.789062\" xlink:href=\"#DejaVuSans-48\"/>\r\n      <use x=\"147.412109\" xlink:href=\"#DejaVuSans-46\"/>\r\n      <use x=\"179.199219\" xlink:href=\"#DejaVuSans-48\"/>\r\n      <use x=\"242.822266\" xlink:href=\"#DejaVuSans-48\"/>\r\n      <use x=\"306.445312\" xlink:href=\"#DejaVuSans-52\"/>\r\n     </g>\r\n    </g>\r\n   </g>\r\n   <g id=\"xtick_5\">\r\n    <g id=\"line2d_6\">\r\n     <path d=\"M 227.471224 250.221457 \r\nL 224.359575 252.066259 \r\n\" style=\"fill:none;stroke:#000000;stroke-linecap:square;stroke-width:0.8;\"/>\r\n    </g>\r\n    <g id=\"text_7\">\r\n     <!-- −0.003 -->\r\n     <g transform=\"translate(199.984383 271.162513)scale(0.1 -0.1)\">\r\n      <use xlink:href=\"#DejaVuSans-8722\"/>\r\n      <use x=\"83.789062\" xlink:href=\"#DejaVuSans-48\"/>\r\n      <use x=\"147.412109\" xlink:href=\"#DejaVuSans-46\"/>\r\n      <use x=\"179.199219\" xlink:href=\"#DejaVuSans-48\"/>\r\n      <use x=\"242.822266\" xlink:href=\"#DejaVuSans-48\"/>\r\n      <use x=\"306.445312\" xlink:href=\"#DejaVuSans-51\"/>\r\n     </g>\r\n    </g>\r\n   </g>\r\n   <g id=\"xtick_6\">\r\n    <g id=\"line2d_7\">\r\n     <path d=\"M 262.176606 257.131079 \r\nL 259.109735 259.002585 \r\n\" style=\"fill:none;stroke:#000000;stroke-linecap:square;stroke-width:0.8;\"/>\r\n    </g>\r\n    <g id=\"text_8\">\r\n     <!-- −0.002 -->\r\n     <defs>\r\n      <path d=\"M 19.1875 8.296875 \r\nL 53.609375 8.296875 \r\nL 53.609375 0 \r\nL 7.328125 0 \r\nL 7.328125 8.296875 \r\nQ 12.9375 14.109375 22.625 23.890625 \r\nQ 32.328125 33.6875 34.8125 36.53125 \r\nQ 39.546875 41.84375 41.421875 45.53125 \r\nQ 43.3125 49.21875 43.3125 52.78125 \r\nQ 43.3125 58.59375 39.234375 62.25 \r\nQ 35.15625 65.921875 28.609375 65.921875 \r\nQ 23.96875 65.921875 18.8125 64.3125 \r\nQ 13.671875 62.703125 7.8125 59.421875 \r\nL 7.8125 69.390625 \r\nQ 13.765625 71.78125 18.9375 73 \r\nQ 24.125 74.21875 28.421875 74.21875 \r\nQ 39.75 74.21875 46.484375 68.546875 \r\nQ 53.21875 62.890625 53.21875 53.421875 \r\nQ 53.21875 48.921875 51.53125 44.890625 \r\nQ 49.859375 40.875 45.40625 35.40625 \r\nQ 44.1875 33.984375 37.640625 27.21875 \r\nQ 31.109375 20.453125 19.1875 8.296875 \r\nz\r\n\" id=\"DejaVuSans-50\"/>\r\n     </defs>\r\n     <g transform=\"translate(234.704762 278.184387)scale(0.1 -0.1)\">\r\n      <use xlink:href=\"#DejaVuSans-8722\"/>\r\n      <use x=\"83.789062\" xlink:href=\"#DejaVuSans-48\"/>\r\n      <use x=\"147.412109\" xlink:href=\"#DejaVuSans-46\"/>\r\n      <use x=\"179.199219\" xlink:href=\"#DejaVuSans-48\"/>\r\n      <use x=\"242.822266\" xlink:href=\"#DejaVuSans-48\"/>\r\n      <use x=\"306.445312\" xlink:href=\"#DejaVuSans-50\"/>\r\n     </g>\r\n    </g>\r\n   </g>\r\n  </g>\r\n  <g id=\"axis3d_2\">\r\n   <g id=\"line2d_8\">\r\n    <path d=\"M 401.101687 189.558191 \r\nL 284.129684 262.332012 \r\n\" style=\"fill:none;stroke:#000000;stroke-linecap:square;stroke-width:0.8;\"/>\r\n   </g>\r\n   <g id=\"text_9\">\r\n    <!-- lat -->\r\n    <defs>\r\n     <path d=\"M 34.28125 27.484375 \r\nQ 23.390625 27.484375 19.1875 25 \r\nQ 14.984375 22.515625 14.984375 16.5 \r\nQ 14.984375 11.71875 18.140625 8.90625 \r\nQ 21.296875 6.109375 26.703125 6.109375 \r\nQ 34.1875 6.109375 38.703125 11.40625 \r\nQ 43.21875 16.703125 43.21875 25.484375 \r\nL 43.21875 27.484375 \r\nz\r\nM 52.203125 31.203125 \r\nL 52.203125 0 \r\nL 43.21875 0 \r\nL 43.21875 8.296875 \r\nQ 40.140625 3.328125 35.546875 0.953125 \r\nQ 30.953125 -1.421875 24.3125 -1.421875 \r\nQ 15.921875 -1.421875 10.953125 3.296875 \r\nQ 6 8.015625 6 15.921875 \r\nQ 6 25.140625 12.171875 29.828125 \r\nQ 18.359375 34.515625 30.609375 34.515625 \r\nL 43.21875 34.515625 \r\nL 43.21875 35.40625 \r\nQ 43.21875 41.609375 39.140625 45 \r\nQ 35.0625 48.390625 27.6875 48.390625 \r\nQ 23 48.390625 18.546875 47.265625 \r\nQ 14.109375 46.140625 10.015625 43.890625 \r\nL 10.015625 52.203125 \r\nQ 14.9375 54.109375 19.578125 55.046875 \r\nQ 24.21875 56 28.609375 56 \r\nQ 40.484375 56 46.34375 49.84375 \r\nQ 52.203125 43.703125 52.203125 31.203125 \r\nz\r\n\" id=\"DejaVuSans-97\"/>\r\n     <path d=\"M 18.3125 70.21875 \r\nL 18.3125 54.6875 \r\nL 36.8125 54.6875 \r\nL 36.8125 47.703125 \r\nL 18.3125 47.703125 \r\nL 18.3125 18.015625 \r\nQ 18.3125 11.328125 20.140625 9.421875 \r\nQ 21.96875 7.515625 27.59375 7.515625 \r\nL 36.8125 7.515625 \r\nL 36.8125 0 \r\nL 27.59375 0 \r\nQ 17.1875 0 13.234375 3.875 \r\nQ 9.28125 7.765625 9.28125 18.015625 \r\nL 9.28125 47.703125 \r\nL 2.6875 47.703125 \r\nL 2.6875 54.6875 \r\nL 9.28125 54.6875 \r\nL 9.28125 70.21875 \r\nz\r\n\" id=\"DejaVuSans-116\"/>\r\n    </defs>\r\n    <g transform=\"translate(367.346562 249.938553)scale(0.1 -0.1)\">\r\n     <use xlink:href=\"#DejaVuSans-108\"/>\r\n     <use x=\"27.783203\" xlink:href=\"#DejaVuSans-97\"/>\r\n     <use x=\"89.0625\" xlink:href=\"#DejaVuSans-116\"/>\r\n    </g>\r\n   </g>\r\n   <g id=\"Line3DCollection_2\">\r\n    <path d=\"M 69.311736 79.431106 \r\nL 77.878006 212.9431 \r\nL 294.691363 255.761091 \r\n\" style=\"fill:none;stroke:#b0b0b0;stroke-width:0.8;\"/>\r\n    <path d=\"M 94.579015 68.215291 \r\nL 101.751906 200.490747 \r\nL 316.595442 242.133527 \r\n\" style=\"fill:none;stroke:#b0b0b0;stroke-width:0.8;\"/>\r\n    <path d=\"M 119.137329 57.314175 \r\nL 124.98936 188.370358 \r\nL 337.889216 228.885662 \r\n\" style=\"fill:none;stroke:#b0b0b0;stroke-width:0.8;\"/>\r\n    <path d=\"M 143.016106 46.714698 \r\nL 147.615481 176.568833 \r\nL 358.597843 216.001845 \r\n\" style=\"fill:none;stroke:#b0b0b0;stroke-width:0.8;\"/>\r\n    <path d=\"M 166.243163 36.40451 \r\nL 169.654082 165.073752 \r\nL 378.745115 203.467273 \r\n\" style=\"fill:none;stroke:#b0b0b0;stroke-width:0.8;\"/>\r\n    <path d=\"M 188.844824 26.371927 \r\nL 191.127752 153.873332 \r\nL 398.353552 191.267936 \r\n\" style=\"fill:none;stroke:#b0b0b0;stroke-width:0.8;\"/>\r\n   </g>\r\n   <g id=\"xtick_7\">\r\n    <g id=\"line2d_9\">\r\n     <path d=\"M 292.876958 255.402768 \r\nL 298.324222 256.478537 \r\n\" style=\"fill:none;stroke:#000000;stroke-linecap:square;stroke-width:0.8;\"/>\r\n    </g>\r\n    <g id=\"text_10\">\r\n     <!-- 7.372 -->\r\n     <g transform=\"translate(294.129566 274.118872)scale(0.1 -0.1)\">\r\n      <use xlink:href=\"#DejaVuSans-55\"/>\r\n      <use x=\"63.623047\" xlink:href=\"#DejaVuSans-46\"/>\r\n      <use x=\"95.410156\" xlink:href=\"#DejaVuSans-51\"/>\r\n      <use x=\"159.033203\" xlink:href=\"#DejaVuSans-55\"/>\r\n      <use x=\"222.65625\" xlink:href=\"#DejaVuSans-50\"/>\r\n     </g>\r\n    </g>\r\n   </g>\r\n   <g id=\"xtick_8\">\r\n    <g id=\"line2d_10\">\r\n     <path d=\"M 314.798639 241.785256 \r\nL 320.193 242.830836 \r\n\" style=\"fill:none;stroke:#000000;stroke-linecap:square;stroke-width:0.8;\"/>\r\n    </g>\r\n    <g id=\"text_11\">\r\n     <!-- 7.373 -->\r\n     <g transform=\"translate(315.829898 260.345298)scale(0.1 -0.1)\">\r\n      <use xlink:href=\"#DejaVuSans-55\"/>\r\n      <use x=\"63.623047\" xlink:href=\"#DejaVuSans-46\"/>\r\n      <use x=\"95.410156\" xlink:href=\"#DejaVuSans-51\"/>\r\n      <use x=\"159.033203\" xlink:href=\"#DejaVuSans-55\"/>\r\n      <use x=\"222.65625\" xlink:href=\"#DejaVuSans-51\"/>\r\n     </g>\r\n    </g>\r\n   </g>\r\n   <g id=\"xtick_9\">\r\n    <g id=\"line2d_11\">\r\n     <path d=\"M 336.109746 228.547025 \r\nL 341.452016 229.563671 \r\n\" style=\"fill:none;stroke:#000000;stroke-linecap:square;stroke-width:0.8;\"/>\r\n    </g>\r\n    <g id=\"text_12\">\r\n     <!-- 7.374 -->\r\n     <g transform=\"translate(336.925862 246.955328)scale(0.1 -0.1)\">\r\n      <use xlink:href=\"#DejaVuSans-55\"/>\r\n      <use x=\"63.623047\" xlink:href=\"#DejaVuSans-46\"/>\r\n      <use x=\"95.410156\" xlink:href=\"#DejaVuSans-51\"/>\r\n      <use x=\"159.033203\" xlink:href=\"#DejaVuSans-55\"/>\r\n      <use x=\"222.65625\" xlink:href=\"#DejaVuSans-52\"/>\r\n     </g>\r\n    </g>\r\n   </g>\r\n   <g id=\"xtick_10\">\r\n    <g id=\"line2d_12\">\r\n     <path d=\"M 356.835438 215.672448 \r\nL 362.126423 216.661343 \r\n\" style=\"fill:none;stroke:#000000;stroke-linecap:square;stroke-width:0.8;\"/>\r\n    </g>\r\n    <g id=\"text_13\">\r\n     <!-- 7.375 -->\r\n     <g transform=\"translate(357.44236 233.933154)scale(0.1 -0.1)\">\r\n      <use xlink:href=\"#DejaVuSans-55\"/>\r\n      <use x=\"63.623047\" xlink:href=\"#DejaVuSans-46\"/>\r\n      <use x=\"95.410156\" xlink:href=\"#DejaVuSans-51\"/>\r\n      <use x=\"159.033203\" xlink:href=\"#DejaVuSans-55\"/>\r\n      <use x=\"222.65625\" xlink:href=\"#DejaVuSans-53\"/>\r\n     </g>\r\n    </g>\r\n   </g>\r\n   <g id=\"xtick_11\">\r\n    <g id=\"line2d_13\">\r\n     <path d=\"M 376.99951 203.146743 \r\nL 382.240008 204.10901 \r\n\" style=\"fill:none;stroke:#000000;stroke-linecap:square;stroke-width:0.8;\"/>\r\n    </g>\r\n    <g id=\"text_14\">\r\n     <!-- 7.376 -->\r\n     <g transform=\"translate(377.402943 221.263829)scale(0.1 -0.1)\">\r\n      <use xlink:href=\"#DejaVuSans-55\"/>\r\n      <use x=\"63.623047\" xlink:href=\"#DejaVuSans-46\"/>\r\n      <use x=\"95.410156\" xlink:href=\"#DejaVuSans-51\"/>\r\n      <use x=\"159.033203\" xlink:href=\"#DejaVuSans-55\"/>\r\n      <use x=\"222.65625\" xlink:href=\"#DejaVuSans-54\"/>\r\n     </g>\r\n    </g>\r\n   </g>\r\n   <g id=\"xtick_12\">\r\n    <g id=\"line2d_14\">\r\n     <path d=\"M 396.624484 190.95592 \r\nL 401.815287 191.892618 \r\n\" style=\"fill:none;stroke:#000000;stroke-linecap:square;stroke-width:0.8;\"/>\r\n    </g>\r\n    <g id=\"text_15\">\r\n     <!-- 7.377 -->\r\n     <g transform=\"translate(396.829905 208.933203)scale(0.1 -0.1)\">\r\n      <use xlink:href=\"#DejaVuSans-55\"/>\r\n      <use x=\"63.623047\" xlink:href=\"#DejaVuSans-46\"/>\r\n      <use x=\"95.410156\" xlink:href=\"#DejaVuSans-51\"/>\r\n      <use x=\"159.033203\" xlink:href=\"#DejaVuSans-55\"/>\r\n      <use x=\"222.65625\" xlink:href=\"#DejaVuSans-55\"/>\r\n     </g>\r\n    </g>\r\n   </g>\r\n  </g>\r\n  <g id=\"axis3d_3\">\r\n   <g id=\"line2d_15\">\r\n    <path d=\"M 401.101687 189.558191 \r\nL 409.760748 58.381832 \r\n\" style=\"fill:none;stroke:#000000;stroke-linecap:square;stroke-width:0.8;\"/>\r\n   </g>\r\n   <g id=\"text_16\">\r\n    <!-- altitude (m) -->\r\n    <defs>\r\n     <path d=\"M 9.421875 54.6875 \r\nL 18.40625 54.6875 \r\nL 18.40625 0 \r\nL 9.421875 0 \r\nz\r\nM 9.421875 75.984375 \r\nL 18.40625 75.984375 \r\nL 18.40625 64.59375 \r\nL 9.421875 64.59375 \r\nz\r\n\" id=\"DejaVuSans-105\"/>\r\n     <path d=\"M 8.5 21.578125 \r\nL 8.5 54.6875 \r\nL 17.484375 54.6875 \r\nL 17.484375 21.921875 \r\nQ 17.484375 14.15625 20.5 10.265625 \r\nQ 23.53125 6.390625 29.59375 6.390625 \r\nQ 36.859375 6.390625 41.078125 11.03125 \r\nQ 45.3125 15.671875 45.3125 23.6875 \r\nL 45.3125 54.6875 \r\nL 54.296875 54.6875 \r\nL 54.296875 0 \r\nL 45.3125 0 \r\nL 45.3125 8.40625 \r\nQ 42.046875 3.421875 37.71875 1 \r\nQ 33.40625 -1.421875 27.6875 -1.421875 \r\nQ 18.265625 -1.421875 13.375 4.4375 \r\nQ 8.5 10.296875 8.5 21.578125 \r\nz\r\nM 31.109375 56 \r\nz\r\n\" id=\"DejaVuSans-117\"/>\r\n     <path d=\"M 45.40625 46.390625 \r\nL 45.40625 75.984375 \r\nL 54.390625 75.984375 \r\nL 54.390625 0 \r\nL 45.40625 0 \r\nL 45.40625 8.203125 \r\nQ 42.578125 3.328125 38.25 0.953125 \r\nQ 33.9375 -1.421875 27.875 -1.421875 \r\nQ 17.96875 -1.421875 11.734375 6.484375 \r\nQ 5.515625 14.40625 5.515625 27.296875 \r\nQ 5.515625 40.1875 11.734375 48.09375 \r\nQ 17.96875 56 27.875 56 \r\nQ 33.9375 56 38.25 53.625 \r\nQ 42.578125 51.265625 45.40625 46.390625 \r\nz\r\nM 14.796875 27.296875 \r\nQ 14.796875 17.390625 18.875 11.75 \r\nQ 22.953125 6.109375 30.078125 6.109375 \r\nQ 37.203125 6.109375 41.296875 11.75 \r\nQ 45.40625 17.390625 45.40625 27.296875 \r\nQ 45.40625 37.203125 41.296875 42.84375 \r\nQ 37.203125 48.484375 30.078125 48.484375 \r\nQ 22.953125 48.484375 18.875 42.84375 \r\nQ 14.796875 37.203125 14.796875 27.296875 \r\nz\r\n\" id=\"DejaVuSans-100\"/>\r\n     <path id=\"DejaVuSans-32\"/>\r\n     <path d=\"M 31 75.875 \r\nQ 24.46875 64.65625 21.28125 53.65625 \r\nQ 18.109375 42.671875 18.109375 31.390625 \r\nQ 18.109375 20.125 21.3125 9.0625 \r\nQ 24.515625 -2 31 -13.1875 \r\nL 23.1875 -13.1875 \r\nQ 15.875 -1.703125 12.234375 9.375 \r\nQ 8.59375 20.453125 8.59375 31.390625 \r\nQ 8.59375 42.28125 12.203125 53.3125 \r\nQ 15.828125 64.359375 23.1875 75.875 \r\nz\r\n\" id=\"DejaVuSans-40\"/>\r\n     <path d=\"M 52 44.1875 \r\nQ 55.375 50.25 60.0625 53.125 \r\nQ 64.75 56 71.09375 56 \r\nQ 79.640625 56 84.28125 50.015625 \r\nQ 88.921875 44.046875 88.921875 33.015625 \r\nL 88.921875 0 \r\nL 79.890625 0 \r\nL 79.890625 32.71875 \r\nQ 79.890625 40.578125 77.09375 44.375 \r\nQ 74.3125 48.1875 68.609375 48.1875 \r\nQ 61.625 48.1875 57.5625 43.546875 \r\nQ 53.515625 38.921875 53.515625 30.90625 \r\nL 53.515625 0 \r\nL 44.484375 0 \r\nL 44.484375 32.71875 \r\nQ 44.484375 40.625 41.703125 44.40625 \r\nQ 38.921875 48.1875 33.109375 48.1875 \r\nQ 26.21875 48.1875 22.15625 43.53125 \r\nQ 18.109375 38.875 18.109375 30.90625 \r\nL 18.109375 0 \r\nL 9.078125 0 \r\nL 9.078125 54.6875 \r\nL 18.109375 54.6875 \r\nL 18.109375 46.1875 \r\nQ 21.1875 51.21875 25.484375 53.609375 \r\nQ 29.78125 56 35.6875 56 \r\nQ 41.65625 56 45.828125 52.96875 \r\nQ 50 49.953125 52 44.1875 \r\nz\r\n\" id=\"DejaVuSans-109\"/>\r\n     <path d=\"M 8.015625 75.875 \r\nL 15.828125 75.875 \r\nQ 23.140625 64.359375 26.78125 53.3125 \r\nQ 30.421875 42.28125 30.421875 31.390625 \r\nQ 30.421875 20.453125 26.78125 9.375 \r\nQ 23.140625 -1.703125 15.828125 -13.1875 \r\nL 8.015625 -13.1875 \r\nQ 14.5 -2 17.703125 9.0625 \r\nQ 20.90625 20.125 20.90625 31.390625 \r\nQ 20.90625 42.671875 17.703125 53.65625 \r\nQ 14.5 64.65625 8.015625 75.875 \r\nz\r\n\" id=\"DejaVuSans-41\"/>\r\n    </defs>\r\n    <g transform=\"translate(450.352079 151.703341)rotate(-86.223337)scale(0.1 -0.1)\">\r\n     <use xlink:href=\"#DejaVuSans-97\"/>\r\n     <use x=\"61.279297\" xlink:href=\"#DejaVuSans-108\"/>\r\n     <use x=\"89.0625\" xlink:href=\"#DejaVuSans-116\"/>\r\n     <use x=\"128.271484\" xlink:href=\"#DejaVuSans-105\"/>\r\n     <use x=\"156.054688\" xlink:href=\"#DejaVuSans-116\"/>\r\n     <use x=\"195.263672\" xlink:href=\"#DejaVuSans-117\"/>\r\n     <use x=\"258.642578\" xlink:href=\"#DejaVuSans-100\"/>\r\n     <use x=\"322.119141\" xlink:href=\"#DejaVuSans-101\"/>\r\n     <use x=\"383.642578\" xlink:href=\"#DejaVuSans-32\"/>\r\n     <use x=\"415.429688\" xlink:href=\"#DejaVuSans-40\"/>\r\n     <use x=\"454.443359\" xlink:href=\"#DejaVuSans-109\"/>\r\n     <use x=\"551.855469\" xlink:href=\"#DejaVuSans-41\"/>\r\n    </g>\r\n   </g>\r\n   <g id=\"Line3DCollection_3\">\r\n    <path d=\"M 401.415823 184.799344 \r\nL 194.061904 147.673323 \r\nL 66.042176 214.084865 \r\n\" style=\"fill:none;stroke:#b0b0b0;stroke-width:0.8;\"/>\r\n    <path d=\"M 402.925277 161.932581 \r\nL 193.690497 125.439478 \r\nL 64.431682 190.738426 \r\n\" style=\"fill:none;stroke:#b0b0b0;stroke-width:0.8;\"/>\r\n    <path d=\"M 404.462606 138.643532 \r\nL 193.312522 102.812397 \r\nL 62.790453 166.946443 \r\n\" style=\"fill:none;stroke:#b0b0b0;stroke-width:0.8;\"/>\r\n    <path d=\"M 406.028591 114.920391 \r\nL 192.927802 79.781554 \r\nL 61.117601 142.696041 \r\n\" style=\"fill:none;stroke:#b0b0b0;stroke-width:0.8;\"/>\r\n    <path d=\"M 407.624039 90.750907 \r\nL 192.536154 56.336043 \r\nL 59.412203 117.973842 \r\n\" style=\"fill:none;stroke:#b0b0b0;stroke-width:0.8;\"/>\r\n    <path d=\"M 409.249789 66.122364 \r\nL 192.137392 32.464565 \r\nL 57.6733 92.76594 \r\n\" style=\"fill:none;stroke:#b0b0b0;stroke-width:0.8;\"/>\r\n   </g>\r\n   <g id=\"xtick_13\">\r\n    <g id=\"line2d_16\">\r\n     <path d=\"M 399.685686 184.489569 \r\nL 404.879699 185.419539 \r\n\" style=\"fill:none;stroke:#000000;stroke-linecap:square;stroke-width:0.8;\"/>\r\n    </g>\r\n    <g id=\"text_17\">\r\n     <!-- 130 -->\r\n     <g transform=\"translate(411.799972 190.657636)scale(0.1 -0.1)\">\r\n      <use xlink:href=\"#DejaVuSans-49\"/>\r\n      <use x=\"63.623047\" xlink:href=\"#DejaVuSans-51\"/>\r\n      <use x=\"127.246094\" xlink:href=\"#DejaVuSans-48\"/>\r\n     </g>\r\n    </g>\r\n   </g>\r\n   <g id=\"xtick_14\">\r\n    <g id=\"line2d_17\">\r\n     <path d=\"M 401.178788 161.627972 \r\nL 406.421924 162.542439 \r\n\" style=\"fill:none;stroke:#000000;stroke-linecap:square;stroke-width:0.8;\"/>\r\n    </g>\r\n    <g id=\"text_18\">\r\n     <!-- 140 -->\r\n     <g transform=\"translate(413.488425 167.819919)scale(0.1 -0.1)\">\r\n      <use xlink:href=\"#DejaVuSans-49\"/>\r\n      <use x=\"63.623047\" xlink:href=\"#DejaVuSans-52\"/>\r\n      <use x=\"127.246094\" xlink:href=\"#DejaVuSans-48\"/>\r\n     </g>\r\n    </g>\r\n   </g>\r\n   <g id=\"xtick_15\">\r\n    <g id=\"line2d_18\">\r\n     <path d=\"M 402.699454 138.344334 \r\nL 407.992649 139.242563 \r\n\" style=\"fill:none;stroke:#000000;stroke-linecap:square;stroke-width:0.8;\"/>\r\n    </g>\r\n    <g id=\"text_19\">\r\n     <!-- 150 -->\r\n     <g transform=\"translate(415.207997 144.561289)scale(0.1 -0.1)\">\r\n      <use xlink:href=\"#DejaVuSans-49\"/>\r\n      <use x=\"63.623047\" xlink:href=\"#DejaVuSans-53\"/>\r\n      <use x=\"127.246094\" xlink:href=\"#DejaVuSans-48\"/>\r\n     </g>\r\n    </g>\r\n   </g>\r\n   <g id=\"xtick_16\">\r\n    <g id=\"line2d_19\">\r\n     <path d=\"M 404.248454 114.626859 \r\nL 409.592673 115.508083 \r\n\" style=\"fill:none;stroke:#000000;stroke-linecap:square;stroke-width:0.8;\"/>\r\n    </g>\r\n    <g id=\"text_20\">\r\n     <!-- 160 -->\r\n     <g transform=\"translate(416.959556 120.870002)scale(0.1 -0.1)\">\r\n      <use xlink:href=\"#DejaVuSans-49\"/>\r\n      <use x=\"63.623047\" xlink:href=\"#DejaVuSans-54\"/>\r\n      <use x=\"127.246094\" xlink:href=\"#DejaVuSans-48\"/>\r\n     </g>\r\n    </g>\r\n   </g>\r\n   <g id=\"xtick_17\">\r\n    <g id=\"line2d_20\">\r\n     <path d=\"M 405.826588 90.463308 \r\nL 411.222823 91.326726 \r\n\" style=\"fill:none;stroke:#000000;stroke-linecap:square;stroke-width:0.8;\"/>\r\n    </g>\r\n    <g id=\"text_21\">\r\n     <!-- 170 -->\r\n     <g transform=\"translate(418.744003 96.733871)scale(0.1 -0.1)\">\r\n      <use xlink:href=\"#DejaVuSans-49\"/>\r\n      <use x=\"63.623047\" xlink:href=\"#DejaVuSans-55\"/>\r\n      <use x=\"127.246094\" xlink:href=\"#DejaVuSans-48\"/>\r\n     </g>\r\n    </g>\r\n   </g>\r\n   <g id=\"xtick_18\">\r\n    <g id=\"line2d_21\">\r\n     <path d=\"M 407.434685 65.840978 \r\nL 412.883957 66.68575 \r\n\" style=\"fill:none;stroke:#000000;stroke-linecap:square;stroke-width:0.8;\"/>\r\n    </g>\r\n    <g id=\"text_22\">\r\n     <!-- 180 -->\r\n     <g transform=\"translate(420.562275 72.14025)scale(0.1 -0.1)\">\r\n      <use xlink:href=\"#DejaVuSans-49\"/>\r\n      <use x=\"63.623047\" xlink:href=\"#DejaVuSans-56\"/>\r\n      <use x=\"127.246094\" xlink:href=\"#DejaVuSans-48\"/>\r\n     </g>\r\n    </g>\r\n   </g>\r\n  </g>\r\n  <g id=\"axes_1\">\r\n   <g id=\"Line3DCollection_4\"/>\r\n   <g id=\"Line3DCollection_5\"/>\r\n   <g id=\"Line3DCollection_6\"/>\r\n   <g id=\"Line3DCollection_7\"/>\r\n   <g id=\"Line3DCollection_8\"/>\r\n   <g id=\"Line3DCollection_9\"/>\r\n   <g id=\"Line3DCollection_10\">\r\n    <path clip-path=\"url(#p362f777379)\" d=\"M 253.903286 198.576291 \r\nL 251.216807 197.302818 \r\nL 247.964883 194.967144 \r\nL 245.204333 191.589352 \r\nL 246.639084 188.822731 \r\nL 247.51646 187.476045 \r\nL 244.240975 183.368898 \r\nL 244.446332 182.411718 \r\nL 250.296775 179.034415 \r\nL 253.585146 178.161214 \r\nL 264.644156 178.711674 \r\nL 268.493492 182.372531 \r\nL 268.311912 183.453157 \r\nL 270.715626 187.254903 \r\nL 271.521423 188.529361 \r\nL 272.566203 192.117681 \r\nL 272.265595 195.101614 \r\nL 271.418246 196.471329 \r\nL 266.531807 200.169558 \r\nL 262.988925 200.433 \r\nL 253.903286 198.576291 \r\n\" style=\"fill:none;stroke:#6788ee;stroke-width:1.5;\"/>\r\n   </g>\r\n   <g id=\"Line3DCollection_11\">\r\n    <path clip-path=\"url(#p362f777379)\" d=\"M 193.952273 43.195036 \r\nL 203.117091 51.801671 \r\nL 212.294535 63.412281 \r\nL 221.422202 72.618424 \r\nL 230.511398 73.453824 \r\nL 239.65547 61.297229 \r\nL 248.848883 66.254202 \r\nL 257.911856 88.25705 \r\nL 266.96049 102.143151 \r\nL 276.106983 106.211919 \r\nL 285.205638 113.684583 \r\nL 294.220558 124.527402 \r\nL 303.297389 131.781296 \r\nL 312.455408 136.105116 \r\nL 322.015563 128.874674 \r\nL 332.148826 108.92076 \r\nL 342.547516 87.242314 \r\nL 352.306632 84.606467 \r\nL 361.666941 91.649025 \r\nL 370.932716 100.443211 \r\nL 380.280251 107.475845 \r\nL 389.663236 113.857502 \r\nL 399.240372 117.202854 \r\n\" style=\"fill:none;stroke:#dcdddd;stroke-width:1.5;\"/>\r\n   </g>\r\n   <g id=\"Line3DCollection_12\">\r\n    <path clip-path=\"url(#p362f777379)\" d=\"M 194.022323 47.549979 \r\nL 203.051108 46.588223 \r\nL 212.152792 48.022819 \r\nL 221.302909 51.863511 \r\nL 230.481483 60.263969 \r\nL 239.644542 70.190132 \r\nL 248.774915 81.849539 \r\nL 257.856977 94.889454 \r\nL 266.993483 99.352707 \r\nL 275.766253 128.351437 \r\nL 284.493147 151.234417 \r\nL 293.309269 164.891106 \r\nL 302.398949 166.076353 \r\nL 311.879801 155.397506 \r\nL 321.728491 137.445822 \r\nL 331.80817 118.085999 \r\nL 341.977799 101.18469 \r\nL 351.594087 100.591737 \r\nL 361.043636 104.552111 \r\nL 370.456137 109.598093 \r\nL 379.939815 113.573881 \r\nL 389.456561 117.324258 \r\nL 399.282526 116.538222 \r\n\" style=\"fill:none;stroke:#f4c5ad;stroke-width:1.5;\"/>\r\n   </g>\r\n   <g id=\"Line3DCollection_13\">\r\n    <path clip-path=\"url(#p362f777379)\" d=\"M 193.931 41.872515 \r\nL 203.127957 52.660214 \r\nL 212.292598 63.202031 \r\nL 221.402522 69.194458 \r\nL 230.505553 70.876571 \r\nL 239.641882 72.354464 \r\nL 248.794398 77.74171 \r\nL 257.936433 85.286834 \r\nL 266.995465 99.185089 \r\nL 275.795427 126.455836 \r\nL 284.74415 138.005996 \r\nL 294.273104 122.199973 \r\nL 303.935461 107.424927 \r\nL 313.623616 96.95076 \r\nL 323.447378 86.12486 \r\nL 333.126043 82.629064 \r\nL 342.673302 84.164027 \r\nL 352.149886 88.122905 \r\nL 361.529123 94.501995 \r\nL 370.898774 101.095213 \r\nL 380.280251 107.475845 \r\nL 389.936323 109.276773 \r\nL 399.3645 115.245771 \r\n\" style=\"fill:none;stroke:#8caffe;stroke-width:1.5;\"/>\r\n   </g>\r\n   <g id=\"Line3DCollection_14\">\r\n    <path clip-path=\"url(#p362f777379)\" d=\"M 193.96624 44.06337 \r\nL 203.100579 50.49706 \r\nL 212.212865 54.545145 \r\nL 221.36527 62.713172 \r\nL 230.500651 68.715115 \r\nL 239.649859 65.863173 \r\nL 248.876773 60.373793 \r\nL 258.09793 65.769199 \r\nL 267.147686 86.310542 \r\nL 276.054817 109.601474 \r\nL 284.902369 129.667499 \r\nL 293.941785 136.875079 \r\nL 303.435185 126.521377 \r\nL 313.302592 107.710388 \r\nL 323.30146 90.481558 \r\nL 333.207873 80.427477 \r\nL 342.763386 81.959468 \r\nL 352.248104 85.919475 \r\nL 361.635311 92.303804 \r\nL 370.898774 101.095213 \r\nL 380.158694 109.653221 \r\nL 389.805991 111.46295 \r\nL 399.503106 113.060413 \r\n\" style=\"fill:none;stroke:#b7cff9;stroke-width:1.5;\"/>\r\n   </g>\r\n   <g id=\"Line3DCollection_15\">\r\n    <path clip-path=\"url(#p362f777379)\" d=\"M 194.275938 63.31692 \r\nL 203.305463 66.685469 \r\nL 212.368103 71.399795 \r\nL 221.448182 77.138427 \r\nL 230.527446 80.529778 \r\nL 239.627113 84.373653 \r\nL 248.757944 85.427757 \r\nL 257.934957 85.465217 \r\nL 267.094588 90.801466 \r\nL 276.350247 90.405405 \r\nL 285.671921 89.110505 \r\nL 294.909032 94.032821 \r\nL 304.060202 102.663348 \r\nL 313.508023 100.825055 \r\nL 323.141978 95.243219 \r\nL 332.511006 99.176432 \r\nL 342.056898 99.248953 \r\nL 351.777774 96.470888 \r\nL 361.05494 104.318099 \r\nL 370.423579 110.223508 \r\nL 380.171774 109.418942 \r\nL 389.976088 108.609744 \r\nL 399.808111 108.251518 \r\n\" style=\"fill:none;stroke:#dd5f4b;stroke-width:1.5;\"/>\r\n   </g>\r\n   <g id=\"Line3DCollection_16\">\r\n    <path clip-path=\"url(#p362f777379)\" d=\"M 194.154513 55.768062 \r\nL 203.196657 58.088392 \r\nL 212.280744 61.914968 \r\nL 221.396348 68.120142 \r\nL 230.509993 72.834123 \r\nL 239.637638 75.808754 \r\nL 248.800657 76.42207 \r\nL 257.892459 90.60125 \r\nL 266.761559 118.968287 \r\nL 275.43384 149.950597 \r\nL 284.363502 158.066961 \r\nL 293.879848 139.618444 \r\nL 303.610374 119.834084 \r\nL 313.502226 101.019353 \r\nL 323.076537 97.197105 \r\nL 332.438421 101.129302 \r\nL 341.783213 105.946691 \r\nL 351.112659 111.39213 \r\nL 360.522182 115.346762 \r\nL 370.197808 114.560489 \r\nL 380.012994 112.263074 \r\nL 389.949011 109.063933 \r\nL 399.808111 108.251518 \r\n\" style=\"fill:none;stroke:#f4987a;stroke-width:1.5;\"/>\r\n   </g>\r\n   <g id=\"Line3DCollection_17\">\r\n    <path clip-path=\"url(#p362f777379)\" d=\"M 91.376891 219.410818 \r\nL 95.190925 215.179345 \r\nL 95.940012 210.391781 \r\nL 99.696553 206.241956 \r\nL 102.667964 201.983585 \r\nL 103.768483 199.79666 \r\n\" style=\"fill:none;stroke:#e26952;stroke-width:1.5;\"/>\r\n    <path clip-path=\"url(#p362f777379)\" d=\"M 120.342848 191.148257 \r\nL 131.348657 188.583399 \r\nL 136.344823 184.908451 \r\nL 139.820301 180.985039 \r\n\" style=\"fill:none;stroke:#e26952;stroke-width:1.5;\"/>\r\n   </g>\r\n   <g id=\"Line3DCollection_18\">\r\n    <path clip-path=\"url(#p362f777379)\" d=\"M 193.740727 30.043457 \r\nL 202.989981 41.758401 \r\nL 212.180535 51.034981 \r\nL 221.337642 57.906357 \r\nL 230.488814 63.496096 \r\nL 239.640841 73.201771 \r\nL 248.764004 84.149934 \r\nL 257.864544 93.974987 \r\nL 266.933798 104.400736 \r\nL 276.190228 100.802924 \r\nL 285.56695 94.642659 \r\nL 294.986027 90.622464 \r\nL 304.36903 90.8748 \r\nL 313.778221 91.768928 \r\nL 323.228265 92.666939 \r\nL 332.654404 95.318346 \r\nL 342.056387 99.261459 \r\nL 351.661844 99.071689 \r\nL 361.232784 100.636536 \r\nL 370.932388 100.449506 \r\nL 380.584602 102.024191 \r\nL 390.446346 100.721693 \r\nL 400.410134 98.759638 \r\n\" style=\"fill:none;stroke:#6180e9;stroke-width:1.5;\"/>\r\n   </g>\r\n   <g id=\"Line3DCollection_19\">\r\n    <path clip-path=\"url(#p362f777379)\" d=\"M 189.641368 220.830775 \r\nL 187.56492 218.462824 \r\nL 198.706406 215.740147 \r\nL 205.120887 212.137985 \r\nL 198.706406 215.740147 \r\nL 194.583299 219.825152 \r\nL 189.641368 220.830775 \r\n\" style=\"fill:none;stroke:#9abbff;stroke-width:1.5;\"/>\r\n    <path clip-path=\"url(#p362f777379)\" d=\"M 219.213683 211.236887 \r\nL 217.687345 209.748815 \r\nL 225.226033 206.428638 \r\nL 228.338342 206.07342 \r\nL 236.406599 208.553962 \r\nL 222.660306 210.699047 \r\nL 219.213683 211.236887 \r\n\" style=\"fill:none;stroke:#9abbff;stroke-width:1.5;\"/>\r\n    <path clip-path=\"url(#p362f777379)\" d=\"M 258.105349 203.239636 \r\nL 249.820747 200.904401 \r\nL 242.603719 198.000922 \r\nL 239.908917 195.186149 \r\nL 238.504477 193.390859 \r\nL 237.58392 190.170155 \r\nL 238.514004 186.560648 \r\nL 238.92003 185.883155 \r\nL 239.906719 181.574765 \r\nL 245.122724 178.085256 \r\nL 254.269142 175.347861 \r\nL 260.193044 174.478507 \r\nL 268.262241 176.679877 \r\nL 270.40607 178.293408 \r\nL 272.763268 180.934222 \r\nL 276.203157 183.786839 \r\nL 277.17597 185.304795 \r\nL 279.458786 188.866851 \r\nL 280.244283 190.516189 \r\nL 282.442407 193.947709 \r\nL 281.054145 197.117685 \r\nL 280.589222 198.179296 \r\nL 275.393574 201.828348 \r\nL 271.100674 202.883009 \r\nL 258.105349 203.239636 \r\n\" style=\"fill:none;stroke:#9abbff;stroke-width:1.5;\"/>\r\n   </g>\r\n   <g id=\"Line3DCollection_20\">\r\n    <path clip-path=\"url(#p362f777379)\" d=\"M 159.303274 223.652473 \r\nL 158.855266 222.73462 \r\nL 163.303861 218.654275 \r\nL 169.949692 217.76357 \r\nL 177.816013 216.570476 \r\nL 189.38618 213.940519 \r\nL 195.824466 210.35234 \r\nL 204.527692 207.234272 \r\nL 212.511512 204.011722 \r\nL 224.067896 201.497968 \r\nL 232.592674 198.439584 \r\nL 231.318473 197.426282 \r\nL 228.806512 193.107945 \r\nL 228.82042 191.963067 \r\nL 230.002304 188.758185 \r\nL 234.064795 184.983496 \r\nL 234.992438 181.78617 \r\nL 234.696694 180.614209 \r\nL 239.761368 177.101736 \r\nL 247.525818 174.116972 \r\nL 254.469616 171.012666 \r\nL 264.836343 171.890708 \r\nL 266.862667 173.263641 \r\nL 270.883187 175.20804 \r\nL 276.371758 178.892247 \r\nL 276.856447 179.470824 \r\nL 281.414862 182.887522 \r\nL 282.777825 184.992936 \r\nL 284.696823 187.957274 \r\nL 286.845883 190.228786 \r\nL 288.511244 192.798328 \r\nL 290.703278 195.478421 \r\nL 288.885725 199.724404 \r\nL 282.88124 203.229928 \r\nL 272.135469 205.879316 \r\nL 263.081261 207.528074 \r\nL 258.200136 207.952796 \r\nL 247.847716 210.728815 \r\nL 243.984667 211.35492 \r\nL 234.303991 212.923919 \r\nL 225.933514 214.52635 \r\nL 221.141924 215.215287 \r\nL 214.768799 218.84161 \r\nL 204.309318 221.713058 \r\nL 199.031827 222.657405 \r\nL 191.599508 224.175884 \r\nL 181.627175 225.331282 \r\nL 172.110717 225.335101 \r\nL 169.030543 225.285103 \r\nL 159.303274 223.652473 \r\n\" style=\"fill:none;stroke:#c9d7f0;stroke-width:1.5;\"/>\r\n    <path clip-path=\"url(#p362f777379)\" d=\"M 215.653879 192.482998 \r\nL 213.57635 190.257085 \r\nL 219.903086 190.132614 \r\nL 224.227332 192.25079 \r\nL 215.653879 192.482998 \r\n\" style=\"fill:none;stroke:#c9d7f0;stroke-width:1.5;\"/>\r\n   </g>\r\n   <g id=\"Line3DCollection_21\">\r\n    <path clip-path=\"url(#p362f777379)\" d=\"M 121.354963 225.355469 \r\nL 122.437636 223.055009 \r\nL 123.514989 220.76585 \r\nL 123.354836 215.770076 \r\nL 116.430465 212.771086 \r\nL 114.83083 209.195256 \r\nL 123.039641 205.937905 \r\nL 130.910759 205.051329 \r\nL 143.324056 205.046456 \r\nL 149.877921 201.526982 \r\nL 156.381499 198.034512 \r\nL 162.835366 194.568737 \r\nL 155.407713 191.991476 \r\nL 153.48314 188.149518 \r\nL 160.624021 184.899129 \r\nL 170.827024 183.77111 \r\nL 177.413831 183.488001 \r\nL 183.473924 183.485678 \r\nL 186.403314 185.170698 \r\nL 178.602006 188.281576 \r\nL 172.85639 191.813239 \r\nL 162.835366 194.568737 \r\nL 156.381499 198.034512 \r\nL 158.99651 203.278469 \r\nL 152.465308 206.811526 \r\nL 159.024446 210.009835 \r\nL 168.245932 211.794148 \r\nL 175.473674 211.254175 \r\nL 181.947233 207.686817 \r\nL 187.220887 203.927293 \r\nL 190.160193 199.762939 \r\nL 192.844696 195.593275 \r\nL 195.504671 191.461707 \r\nL 197.868793 188.841538 \r\nL 195.426766 186.859754 \r\nL 197.149205 182.639751 \r\nL 203.340751 179.290431 \r\nL 202.777747 174.729417 \r\nL 203.612212 172.671267 \r\nL 197.782064 169.400798 \r\nL 199.460202 165.343337 \r\nL 198.091497 162.927694 \r\nL 192.345814 159.728995 \r\nL 189.672345 154.972543 \r\n\" style=\"fill:none;stroke:#f7a889;stroke-width:1.5;\"/>\r\n    <path clip-path=\"url(#p362f777379)\" d=\"M 233.124143 232.278994 \r\nL 242.716965 234.150936 \r\nL 258.689156 232.268658 \r\nL 269.784093 229.464427 \r\nL 276.012394 225.754743 \r\nL 282.191639 222.074277 \r\nL 293.097466 219.330383 \r\nL 299.167577 215.700245 \r\nL 300.440766 211.204781 \r\nL 298.706813 208.529409 \r\nL 290.969116 209.422749 \r\nL 284.227876 209.722557 \r\nL 278.07251 211.710908 \r\nL 266.949704 214.35993 \r\nL 262.527284 215.112925 \r\nL 254.606408 216.803299 \r\nL 245.826309 219.956635 \r\nL 239.517726 223.620341 \r\nL 234.746919 227.621261 \r\nL 233.124143 232.278994 \r\n\" style=\"fill:none;stroke:#f7a889;stroke-width:1.5;\"/>\r\n   </g>\r\n   <g id=\"Line3DCollection_22\">\r\n    <path clip-path=\"url(#p362f777379)\" d=\"M 194.469017 75.32038 \r\nL 188.19336 74.977018 \r\nL 182.021896 82.648457 \r\nL 175.902902 93.639412 \r\nL 169.630109 99.028363 \r\nL 163.187918 99.752078 \r\nL 156.538496 95.748053 \r\nL 149.880784 94.079858 \r\nL 143.086038 90.705614 \r\nL 136.269566 88.987996 \r\nL 129.403937 87.97657 \r\nL 122.719859 92.828112 \r\nL 116.025723 98.439298 \r\nL 109.170764 101.639692 \r\nL 102.261235 104.865564 \r\nL 95.43115 110.575176 \r\nL 88.517228 115.586679 \r\nL 81.705675 123.091726 \r\nL 74.907916 131.36471 \r\nL 68.08154 139.67252 \r\n\" style=\"fill:none;stroke:#f18d6f;stroke-width:1.5;\"/>\r\n   </g>\r\n   <g id=\"Line3DCollection_23\">\r\n    <path clip-path=\"url(#p362f777379)\" d=\"M 301.084993 245.540863 \r\nL 307.293714 241.703227 \r\n\" style=\"fill:none;stroke:#edd1c2;stroke-width:1.5;\"/>\r\n    <path clip-path=\"url(#p362f777379)\" d=\"M 337.603084 222.968875 \r\nL 327.937659 221.141023 \r\nL 333.883033 217.496736 \r\nL 334.989552 212.983827 \r\nL 336.085341 208.514678 \r\nL 332.43144 203.210513 \r\nL 324.931845 200.292318 \r\nL 317.480091 197.392738 \r\nL 314.748271 195.373058 \r\nL 315.919495 191.072645 \r\nL 321.718945 187.659779 \r\nL 332.460838 188.505868 \r\nL 346.070947 187.6504 \r\nL 361.060837 185.949021 \r\nL 355.421984 189.348848 \r\nL 359.151698 194.49255 \r\nL 353.451473 197.957739 \r\nL 352.451984 202.324369 \r\nL 354.329855 204.963619 \r\nL 361.003693 208.504858 \r\n\" style=\"fill:none;stroke:#edd1c2;stroke-width:1.5;\"/>\r\n    <path clip-path=\"url(#p362f777379)\" d=\"M 144.401015 224.885312 \r\nL 145.518767 220.118239 \r\nL 154.023443 216.843296 \r\nL 161.031231 215.755111 \r\nL 168.022562 214.669482 \r\nL 176.387018 214.202861 \r\nL 183.192827 212.744655 \r\nL 189.646855 209.165751 \r\nL 196.050947 205.614538 \r\nL 200.871564 201.799074 \r\nL 205.652121 198.015317 \r\nL 202.785412 192.831533 \r\nL 204.833435 188.620542 \r\nL 214.337557 186.489258 \r\nL 217.487835 186.427538 \r\nL 216.760485 185.159039 \r\nL 214.590752 181.37502 \r\nL 227.466635 179.281227 \r\nL 234.213988 176.084091 \r\nL 239.53113 172.657665 \r\nL 246.491554 169.563595 \r\nL 259.714912 168.111311 \r\nL 268.451295 169.876027 \r\nL 275.448939 172.644063 \r\nL 281.591003 175.938778 \r\nL 290.445844 173.186182 \r\nL 299.393529 172.634996 \r\nL 305.62503 175.929643 \r\nL 290.699082 177.593097 \r\nL 287.89964 181.486588 \r\nL 290.104526 184.849418 \r\nL 291.213227 186.540377 \r\nL 295.014916 189.031222 \r\nL 298.433201 192.365102 \r\nL 299.578278 193.481904 \r\nL 301.068846 197.399127 \r\nL 296.376782 201.11951 \r\nL 289.708238 204.50784 \r\nL 279.651458 207.293402 \r\nL 272.261139 209.430129 \r\nL 269.386365 210.06825 \r\nL 256.333435 212.341873 \r\nL 254.123642 212.716573 \r\nL 243.047652 214.594655 \r\nL 233.228141 217.536793 \r\nL 226.886493 221.181396 \r\nL 216.708379 224.119823 \r\nL 204.572845 226.707498 \r\nL 189.681745 227.948434 \r\nL 187.013487 228.258756 \r\nL 175.027223 229.037598 \r\nL 163.122391 228.577828 \r\nL 149.717234 228.954845 \r\nL 144.401015 224.885312 \r\n\" style=\"fill:none;stroke:#edd1c2;stroke-width:1.5;\"/>\r\n   </g>\r\n   <g id=\"Line3DCollection_24\">\r\n    <path clip-path=\"url(#p362f777379)\" d=\"M 194.437414 73.355669 \r\nL 188.261251 78.649114 \r\nL 181.977928 80.546242 \r\nL 175.692223 84.622963 \r\nL 169.396925 90.004623 \r\nL 163.179058 99.439469 \r\nL 157.305104 120.584472 \r\nL 151.182749 133.041174 \r\nL 144.770556 137.506395 \r\nL 137.816397 129.065283 \r\nL 130.682829 118.998298 \r\nL 123.435865 109.14461 \r\nL 116.151762 101.145947 \r\nL 109.174102 101.707416 \r\nL 102.264768 104.933473 \r\nL 95.362011 109.313259 \r\nL 88.409979 113.724309 \r\nL 81.63754 121.963945 \r\nL 74.82379 130.035159 \r\nL 67.817666 135.684311 \r\n\" style=\"fill:none;stroke:#f7b89c;stroke-width:1.5;\"/>\r\n   </g>\r\n   <g id=\"Line3DCollection_25\">\r\n    <path clip-path=\"url(#p362f777379)\" d=\"M 194.495403 76.960797 \r\nL 188.294233 80.433077 \r\nL 182.626388 111.550584 \r\nL 176.780183 131.184654 \r\nL 170.855121 146.43374 \r\nL 164.573214 148.631355 \r\nL 157.65004 131.759643 \r\nL 150.900668 124.599886 \r\nL 144.287866 124.095861 \r\nL 137.506327 121.031602 \r\nL 130.715146 119.782192 \r\nL 124.102606 124.33848 \r\nL 117.420916 128.400651 \r\nL 110.808731 134.878649 \r\nL 103.994918 138.193431 \r\nL 97.939441 156.356624 \r\nL 91.437964 166.305323 \r\nL 83.756845 157.042794 \r\nL 75.474531 140.319638 \r\nL 67.792303 135.30097 \r\n\" style=\"fill:none;stroke:#cdd9ec;stroke-width:1.5;\"/>\r\n   </g>\r\n   <g id=\"Line3DCollection_26\">\r\n    <path clip-path=\"url(#p362f777379)\" d=\"M 194.490233 76.639379 \r\nL 188.322011 81.935542 \r\nL 182.069402 84.919815 \r\nL 175.816748 89.952259 \r\nL 169.474002 92.987335 \r\nL 163.149673 98.402653 \r\nL 156.735794 102.140074 \r\nL 150.196818 103.537176 \r\nL 143.575065 104.292184 \r\nL 136.88967 105.05445 \r\nL 130.238624 108.223327 \r\nL 123.521068 111.086249 \r\nL 116.861213 116.381188 \r\nL 109.954666 117.547272 \r\nL 103.090968 120.816121 \r\nL 96.154432 123.776566 \r\nL 88.918223 122.54997 \r\nL 81.726102 123.429832 \r\nL 74.7096 128.230473 \r\nL 67.734033 134.420278 \r\n\" style=\"fill:none;stroke:#d95847;stroke-width:1.5;\"/>\r\n   </g>\r\n   <g id=\"Line3DCollection_27\">\r\n    <path clip-path=\"url(#p362f777379)\" d=\"M 194.452441 74.289894 \r\nL 188.408114 86.592678 \r\nL 182.125124 87.584044 \r\nL 176.052796 100.054486 \r\nL 170.49687 132.570177 \r\nL 164.704317 153.257264 \r\nL 158.63863 163.787806 \r\nL 152.505628 172.628301 \r\nL 145.653675 162.041977 \r\nL 138.217257 139.451297 \r\nL 131.637413 142.153376 \r\nL 125.41336 154.208253 \r\nL 118.508392 151.753874 \r\nL 111.196224 142.741964 \r\nL 104.405029 146.07728 \r\nL 97.1678 142.2726 \r\nL 89.725896 136.575229 \r\nL 82.114627 129.860709 \r\nL 74.752437 128.907484 \r\nL 67.531269 131.355692 \r\n\" style=\"fill:none;stroke:#ead4c8;stroke-width:1.5;\"/>\r\n   </g>\r\n   <g id=\"Line3DCollection_28\">\r\n    <path clip-path=\"url(#p362f777379)\" d=\"M 194.460044 74.762577 \r\nL 188.2847 79.917437 \r\nL 181.980864 80.686614 \r\nL 175.504486 76.58831 \r\nL 169.124081 79.446149 \r\nL 163.018389 93.770366 \r\nL 156.559289 96.4217 \r\nL 149.612147 86.040916 \r\nL 143.024047 88.983338 \r\nL 136.109029 84.828597 \r\nL 129.314083 85.79699 \r\nL 122.548807 88.930127 \r\nL 115.521666 87.614818 \r\nL 108.992426 98.020708 \r\nL 102.072465 101.236693 \r\nL 95.737818 116.172504 \r\nL 89.014407 124.220202 \r\nL 82.114589 129.860089 \r\nL 74.870828 130.778569 \r\nL 67.391053 129.236466 \r\n\" style=\"fill:none;stroke:#aac7fd;stroke-width:1.5;\"/>\r\n   </g>\r\n   <g id=\"Line3DCollection_29\">\r\n    <path clip-path=\"url(#p362f777379)\" d=\"M 194.457798 74.622941 \r\nL 188.202331 75.462267 \r\nL 181.89429 76.547338 \r\nL 175.456915 74.552429 \r\nL 169.007191 74.922726 \r\nL 162.433684 73.139422 \r\nL 155.643071 66.738228 \r\nL 149.003059 67.813967 \r\nL 142.87829 84.933788 \r\nL 136.493629 94.793289 \r\nL 129.903955 100.105374 \r\nL 122.773824 94.057862 \r\nL 115.867045 95.031736 \r\nL 109.111 100.426899 \r\nL 102.197975 103.649462 \r\nL 95.485446 111.56619 \r\nL 88.630813 117.559081 \r\nL 81.124556 113.473009 \r\nL 73.371481 107.082516 \r\nL 65.646016 102.861875 \r\n\" style=\"fill:none;stroke:#82a6fb;stroke-width:1.5;\"/>\r\n   </g>\r\n   <g id=\"Line3DCollection_30\">\r\n    <path clip-path=\"url(#p362f777379)\" d=\"M 194.306701 65.229438 \r\nL 188.034943 66.408578 \r\nL 181.694126 66.977057 \r\nL 175.237479 65.161137 \r\nL 168.815458 67.503096 \r\nL 162.272575 67.454798 \r\nL 155.608388 65.614559 \r\nL 148.948916 66.193735 \r\nL 142.358899 70.503612 \r\nL 135.629094 72.393795 \r\nL 128.787075 73.013502 \r\nL 121.957955 75.465653 \r\nL 115.216525 81.062022 \r\nL 108.466061 87.339285 \r\nL 101.515298 90.525854 \r\nL 94.271295 89.405463 \r\nL 86.837369 86.415889 \r\nL 79.492862 86.465129 \r\nL 72.070082 86.514893 \r\nL 64.90526 91.666052 \r\n\" style=\"fill:none;stroke:#5d7ce6;stroke-width:1.5;\"/>\r\n   </g>\r\n   <g id=\"Poly3DCollection_1\">\r\n    <path clip-path=\"url(#p362f777379)\" d=\"M 251.660386 167.975471 \r\nL 260.700002 178.684925 \r\nL 266.892707 154.934768 \r\nL 257.76641 151.021696 \r\nz\r\n\" style=\"fill:#5875e1;fill-opacity:0.8;\"/>\r\n    <path clip-path=\"url(#p362f777379)\" d=\"M 188.023504 65.789859 \r\nL 197.088291 69.62216 \r\nL 203.305463 66.685469 \r\nL 194.306701 65.229438 \r\nz\r\n\" style=\"fill:#f59c7d;fill-opacity:0.8;\"/>\r\n    <path clip-path=\"url(#p362f777379)\" d=\"M 245.623991 171.297018 \r\nL 254.708234 182.041227 \r\nL 260.700002 178.684925 \r\nL 251.660386 167.975471 \r\nz\r\n\" style=\"fill:#4055c8;fill-opacity:0.8;\"/>\r\n    <path clip-path=\"url(#p362f777379)\" d=\"M 197.088291 69.62216 \r\nL 206.170919 73.462004 \r\nL 212.403261 75.217061 \r\nL 203.305463 66.685469 \r\nz\r\n\" style=\"fill:#f7a688;fill-opacity:0.8;\"/>\r\n    <path clip-path=\"url(#p362f777379)\" d=\"M 206.170919 73.462004 \r\nL 215.290614 79.671192 \r\nL 221.459139 79.044734 \r\nL 212.403261 75.217061 \r\nz\r\n\" style=\"fill:#f7b396;fill-opacity:0.8;\"/>\r\n    <path clip-path=\"url(#p362f777379)\" d=\"M 215.290614 79.671192 \r\nL 224.400834 83.525019 \r\nL 230.527446 80.529778 \r\nL 221.459139 79.044734 \r\nz\r\n\" style=\"fill:#f7b99e;fill-opacity:0.8;\"/>\r\n    <path clip-path=\"url(#p362f777379)\" d=\"M 254.708234 182.041227 \r\nL 263.934807 176.913172 \r\nL 270.040824 164.444008 \r\nL 260.700002 178.684925 \r\nz\r\n\" style=\"fill:#4358cb;fill-opacity:0.8;\"/>\r\n    <path clip-path=\"url(#p362f777379)\" d=\"M 224.400834 83.525019 \r\nL 233.529022 87.386448 \r\nL 239.627113 84.373653 \r\nL 230.527446 80.529778 \r\nz\r\n\" style=\"fill:#f6bea4;fill-opacity:0.8;\"/>\r\n    <path clip-path=\"url(#p362f777379)\" d=\"M 181.681127 66.355559 \r\nL 190.78238 70.206484 \r\nL 197.088291 69.62216 \r\nL 188.023504 65.789859 \r\nz\r\n\" style=\"fill:#f39577;fill-opacity:0.8;\"/>\r\n    <path clip-path=\"url(#p362f777379)\" d=\"M 242.645647 134.189481 \r\nL 251.660386 167.975471 \r\nL 257.76641 151.021696 \r\nL 248.769358 124.009541 \r\nz\r\n\" style=\"fill:#8db0fe;fill-opacity:0.8;\"/>\r\n    <path clip-path=\"url(#p362f777379)\" d=\"M 233.529022 87.386448 \r\nL 242.68091 88.897257 \r\nL 248.767008 83.516725 \r\nL 239.627113 84.373653 \r\nz\r\n\" style=\"fill:#f6bfa6;fill-opacity:0.8;\"/>\r\n    <path clip-path=\"url(#p362f777379)\" d=\"M 260.700002 178.684925 \r\nL 270.040824 164.444008 \r\nL 276.508566 128.784323 \r\nL 266.892707 154.934768 \r\nz\r\n\" style=\"fill:#7093f3;fill-opacity:0.8;\"/>\r\n    <path clip-path=\"url(#p362f777379)\" d=\"M 248.769358 124.009541 \r\nL 257.76641 151.021696 \r\nL 263.967252 127.070283 \r\nL 254.846367 118.519943 \r\nz\r\n\" style=\"fill:#afcafc;fill-opacity:0.8;\"/>\r\n    <path clip-path=\"url(#p362f777379)\" d=\"M 190.78238 70.206484 \r\nL 199.901631 74.065025 \r\nL 206.170919 73.462004 \r\nL 197.088291 69.62216 \r\nz\r\n\" style=\"fill:#f59d7e;fill-opacity:0.8;\"/>\r\n    <path clip-path=\"url(#p362f777379)\" d=\"M 257.76641 151.021696 \r\nL 266.892707 154.934768 \r\nL 273.442128 109.933688 \r\nL 263.967252 127.070283 \r\nz\r\n\" style=\"fill:#a3c2fe;fill-opacity:0.8;\"/>\r\n    <path clip-path=\"url(#p362f777379)\" d=\"M 199.901631 74.065025 \r\nL 209.06387 80.303561 \r\nL 215.290614 79.671192 \r\nL 206.170919 73.462004 \r\nz\r\n\" style=\"fill:#f7a98b;fill-opacity:0.8;\"/>\r\n    <path clip-path=\"url(#p362f777379)\" d=\"M 209.06387 80.303561 \r\nL 218.244106 88.905632 \r\nL 224.400834 83.525019 \r\nL 215.290614 79.671192 \r\nz\r\n\" style=\"fill:#f7b89c;fill-opacity:0.8;\"/>\r\n    <path clip-path=\"url(#p362f777379)\" d=\"M 248.726745 174.036557 \r\nL 257.865675 184.847068 \r\nL 263.934807 176.913172 \r\nL 254.708234 182.041227 \r\nz\r\n\" style=\"fill:#4257c9;fill-opacity:0.8;\"/>\r\n    <path clip-path=\"url(#p362f777379)\" d=\"M 218.244106 88.905632 \r\nL 227.38443 90.422218 \r\nL 233.529022 87.386448 \r\nL 224.400834 83.525019 \r\nz\r\n\" style=\"fill:#f6bfa6;fill-opacity:0.8;\"/>\r\n    <path clip-path=\"url(#p362f777379)\" d=\"M 236.509048 132.747498 \r\nL 245.623991 171.297018 \r\nL 251.660386 167.975471 \r\nL 242.645647 134.189481 \r\nz\r\n\" style=\"fill:#81a4fb;fill-opacity:0.8;\"/>\r\n    <path clip-path=\"url(#p362f777379)\" d=\"M 242.68091 88.897257 \r\nL 251.881674 88.048163 \r\nL 257.919129 87.378105 \r\nL 248.767008 83.516725 \r\nz\r\n\" style=\"fill:#f6bea4;fill-opacity:0.8;\"/>\r\n    <path clip-path=\"url(#p362f777379)\" d=\"M 239.567328 153.948251 \r\nL 248.726745 174.036557 \r\nL 254.708234 182.041227 \r\nL 245.623991 171.297018 \r\nz\r\n\" style=\"fill:#5673e0;fill-opacity:0.8;\"/>\r\n    <path clip-path=\"url(#p362f777379)\" d=\"M 251.881674 88.048163 \r\nL 261.066788 94.300589 \r\nL 267.117201 88.888883 \r\nL 257.919129 87.378105 \r\nz\r\n\" style=\"fill:#f5c1a9;fill-opacity:0.8;\"/>\r\n    <path clip-path=\"url(#p362f777379)\" d=\"M 227.38443 90.422218 \r\nL 236.559691 89.575796 \r\nL 242.68091 88.897257 \r\nL 233.529022 87.386448 \r\nz\r\n\" style=\"fill:#f6bfa6;fill-opacity:0.8;\"/>\r\n    <path clip-path=\"url(#p362f777379)\" d=\"M 254.846367 118.519943 \r\nL 263.967252 127.070283 \r\nL 270.346159 93.464284 \r\nL 261.066788 94.300589 \r\nz\r\n\" style=\"fill:#e0dbd8;fill-opacity:0.8;\"/>\r\n    <path clip-path=\"url(#p362f777379)\" d=\"M 257.865675 184.847068 \r\nL 267.140174 181.985016 \r\nL 273.280611 169.44361 \r\nL 263.934807 176.913172 \r\nz\r\n\" style=\"fill:#4a63d3;fill-opacity:0.8;\"/>\r\n    <path clip-path=\"url(#p362f777379)\" d=\"M 175.222865 64.535695 \r\nL 184.36917 68.40659 \r\nL 190.78238 70.206484 \r\nL 181.681127 66.355559 \r\nz\r\n\" style=\"fill:#ef886b;fill-opacity:0.8;\"/>\r\n    <path clip-path=\"url(#p362f777379)\" d=\"M 245.761206 95.84033 \r\nL 254.846367 118.519943 \r\nL 261.066788 94.300589 \r\nL 251.881674 88.048163 \r\nz\r\n\" style=\"fill:#efcfbf;fill-opacity:0.8;\"/>\r\n    <path clip-path=\"url(#p362f777379)\" d=\"M 263.934807 176.913172 \r\nL 273.280611 169.44361 \r\nL 279.65573 142.98774 \r\nL 270.040824 164.444008 \r\nz\r\n\" style=\"fill:#6b8df0;fill-opacity:0.8;\"/>\r\n    <path clip-path=\"url(#p362f777379)\" d=\"M 261.066788 94.300589 \r\nL 270.346159 93.464284 \r\nL 276.350247 90.405405 \r\nL 267.117201 88.888883 \r\nz\r\n\" style=\"fill:#f5c2aa;fill-opacity:0.8;\"/>\r\n    <path clip-path=\"url(#p362f777379)\" d=\"M 236.559691 89.575796 \r\nL 245.761206 95.84033 \r\nL 251.881674 88.048163 \r\nL 242.68091 88.897257 \r\nz\r\n\" style=\"fill:#f6bfa6;fill-opacity:0.8;\"/>\r\n    <path clip-path=\"url(#p362f777379)\" d=\"M 184.36917 68.40659 \r\nL 193.533666 72.285183 \r\nL 199.901631 74.065025 \r\nL 190.78238 70.206484 \r\nz\r\n\" style=\"fill:#f29274;fill-opacity:0.8;\"/>\r\n    <path clip-path=\"url(#p362f777379)\" d=\"M 239.619174 101.298524 \r\nL 248.769358 124.009541 \r\nL 254.846367 118.519943 \r\nL 245.761206 95.84033 \r\nz\r\n\" style=\"fill:#e0dbd8;fill-opacity:0.8;\"/>\r\n    <path clip-path=\"url(#p362f777379)\" d=\"M 251.800394 188.262029 \r\nL 260.997671 194.530642 \r\nL 267.140174 181.985016 \r\nL 257.865675 184.847068 \r\nz\r\n\" style=\"fill:#3b4cc0;fill-opacity:0.8;\"/>\r\n    <path clip-path=\"url(#p362f777379)\" d=\"M 202.74727 78.558896 \r\nL 211.962331 84.833601 \r\nL 218.244106 88.905632 \r\nL 209.06387 80.303561 \r\nz\r\n\" style=\"fill:#f7af91;fill-opacity:0.8;\"/>\r\n    <path clip-path=\"url(#p362f777379)\" d=\"M 193.533666 72.285183 \r\nL 202.74727 78.558896 \r\nL 209.06387 80.303561 \r\nL 199.901631 74.065025 \r\nz\r\n\" style=\"fill:#f59d7e;fill-opacity:0.8;\"/>\r\n    <path clip-path=\"url(#p362f777379)\" d=\"M 242.632878 170.517179 \r\nL 251.800394 188.262029 \r\nL 257.865675 184.847068 \r\nL 248.726745 174.036557 \r\nz\r\n\" style=\"fill:#4b64d5;fill-opacity:0.8;\"/>\r\n    <path clip-path=\"url(#p362f777379)\" d=\"M 211.962331 84.833601 \r\nL 221.150866 86.352388 \r\nL 227.38443 90.422218 \r\nL 218.244106 88.905632 \r\nz\r\n\" style=\"fill:#f7b89c;fill-opacity:0.8;\"/>\r\n    <path clip-path=\"url(#p362f777379)\" d=\"M 263.967252 127.070283 \r\nL 273.442128 109.933688 \r\nL 279.678071 92.623244 \r\nL 270.346159 93.464284 \r\nz\r\n\" style=\"fill:#e9d5cb;fill-opacity:0.8;\"/>\r\n    <path clip-path=\"url(#p362f777379)\" d=\"M 266.892707 154.934768 \r\nL 276.508566 128.784323 \r\nL 282.879015 104.400023 \r\nL 273.442128 109.933688 \r\nz\r\n\" style=\"fill:#c7d7f0;fill-opacity:0.8;\"/>\r\n    <path clip-path=\"url(#p362f777379)\" d=\"M 270.346159 93.464284 \r\nL 279.678071 92.623244 \r\nL 285.70844 87.18587 \r\nL 276.350247 90.405405 \r\nz\r\n\" style=\"fill:#f6bda2;fill-opacity:0.8;\"/>\r\n    <path clip-path=\"url(#p362f777379)\" d=\"M 233.435676 102.041553 \r\nL 242.645647 134.189481 \r\nL 248.769358 124.009541 \r\nL 239.619174 101.298524 \r\nz\r\n\" style=\"fill:#dbdcde;fill-opacity:0.8;\"/>\r\n    <path clip-path=\"url(#p362f777379)\" d=\"M 221.150866 86.352388 \r\nL 230.369064 85.488819 \r\nL 236.559691 89.575796 \r\nL 227.38443 90.422218 \r\nz\r\n\" style=\"fill:#f7b497;fill-opacity:0.8;\"/>\r\n    <path clip-path=\"url(#p362f777379)\" d=\"M 168.815458 67.503096 \r\nL 177.936809 68.991228 \r\nL 184.36917 68.40659 \r\nL 175.222865 64.535695 \r\nz\r\n\" style=\"fill:#eb7d62;fill-opacity:0.8;\"/>\r\n    <path clip-path=\"url(#p362f777379)\" d=\"M 230.369064 85.488819 \r\nL 239.619174 101.298524 \r\nL 245.761206 95.84033 \r\nL 236.559691 89.575796 \r\nz\r\n\" style=\"fill:#f6bea4;fill-opacity:0.8;\"/>\r\n    <path clip-path=\"url(#p362f777379)\" d=\"M 260.997671 194.530642 \r\nL 270.444941 182.520045 \r\nL 276.59459 172.194078 \r\nL 267.140174 181.985016 \r\nz\r\n\" style=\"fill:#4b64d5;fill-opacity:0.8;\"/>\r\n    <path clip-path=\"url(#p362f777379)\" d=\"M 230.268351 117.085584 \r\nL 239.567328 153.948251 \r\nL 245.623991 171.297018 \r\nL 236.509048 132.747498 \r\nz\r\n\" style=\"fill:#a3c2fe;fill-opacity:0.8;\"/>\r\n    <path clip-path=\"url(#p362f777379)\" d=\"M 270.040824 164.444008 \r\nL 279.65573 142.98774 \r\nL 286.191119 111.499622 \r\nL 276.508566 128.784323 \r\nz\r\n\" style=\"fill:#b2ccfb;fill-opacity:0.8;\"/>\r\n    <path clip-path=\"url(#p362f777379)\" d=\"M 279.678071 92.623244 \r\nL 288.918126 98.911934 \r\nL 295.083002 86.327133 \r\nL 285.70844 87.18587 \r\nz\r\n\" style=\"fill:#f7b99e;fill-opacity:0.8;\"/>\r\n    <path clip-path=\"url(#p362f777379)\" d=\"M 288.918126 98.911934 \r\nL 298.103066 107.565491 \r\nL 304.261229 94.989767 \r\nL 295.083002 86.327133 \r\nz\r\n\" style=\"fill:#f5c4ac;fill-opacity:0.8;\"/>\r\n    <path clip-path=\"url(#p362f777379)\" d=\"M 177.936809 68.991228 \r\nL 187.138574 72.888898 \r\nL 193.533666 72.285183 \r\nL 184.36917 68.40659 \r\nz\r\n\" style=\"fill:#ee8468;fill-opacity:0.8;\"/>\r\n    <path clip-path=\"url(#p362f777379)\" d=\"M 267.140174 181.985016 \r\nL 276.59459 172.194078 \r\nL 282.987331 147.918916 \r\nL 273.280611 169.44361 \r\nz\r\n\" style=\"fill:#6c8ff1;fill-opacity:0.8;\"/>\r\n    <path clip-path=\"url(#p362f777379)\" d=\"M 233.371054 143.245431 \r\nL 242.632878 170.517179 \r\nL 248.726745 174.036557 \r\nL 239.567328 153.948251 \r\nz\r\n\" style=\"fill:#7ea1fa;fill-opacity:0.8;\"/>\r\n    <path clip-path=\"url(#p362f777379)\" d=\"M 187.138574 72.888898 \r\nL 196.395604 79.192575 \r\nL 202.74727 78.558896 \r\nL 193.533666 72.285183 \r\nz\r\n\" style=\"fill:#f29274;fill-opacity:0.8;\"/>\r\n    <path clip-path=\"url(#p362f777379)\" d=\"M 298.103066 107.565491 \r\nL 307.598518 104.391387 \r\nL 313.565358 98.903381 \r\nL 304.261229 94.989767 \r\nz\r\n\" style=\"fill:#f2cbb7;fill-opacity:0.8;\"/>\r\n    <path clip-path=\"url(#p362f777379)\" d=\"M 273.442128 109.933688 \r\nL 282.879015 104.400023 \r\nL 288.918126 98.911934 \r\nL 279.678071 92.623244 \r\nz\r\n\" style=\"fill:#f2cbb7;fill-opacity:0.8;\"/>\r\n    <path clip-path=\"url(#p362f777379)\" d=\"M 245.756969 173.288054 \r\nL 255.005802 186.546533 \r\nL 260.997671 194.530642 \r\nL 251.800394 188.262029 \r\nz\r\n\" style=\"fill:#485fd1;fill-opacity:0.8;\"/>\r\n    <path clip-path=\"url(#p362f777379)\" d=\"M 196.395604 79.192575 \r\nL 205.625767 83.104657 \r\nL 211.962331 84.833601 \r\nL 202.74727 78.558896 \r\nz\r\n\" style=\"fill:#f5a081;fill-opacity:0.8;\"/>\r\n    <path clip-path=\"url(#p362f777379)\" d=\"M 227.209919 107.560174 \r\nL 236.509048 132.747498 \r\nL 242.645647 134.189481 \r\nL 233.435676 102.041553 \r\nz\r\n\" style=\"fill:#d9dce1;fill-opacity:0.8;\"/>\r\n    <path clip-path=\"url(#p362f777379)\" d=\"M 205.625767 83.104657 \r\nL 214.874413 87.024572 \r\nL 221.150866 86.352388 \r\nL 211.962331 84.833601 \r\nz\r\n\" style=\"fill:#f7a889;fill-opacity:0.8;\"/>\r\n    <path clip-path=\"url(#p362f777379)\" d=\"M 282.879015 104.400023 \r\nL 292.24985 105.96403 \r\nL 298.103066 107.565491 \r\nL 288.918126 98.911934 \r\nz\r\n\" style=\"fill:#f0cdbb;fill-opacity:0.8;\"/>\r\n    <path clip-path=\"url(#p362f777379)\" d=\"M 255.005802 186.546533 \r\nL 264.333277 188.270421 \r\nL 270.444941 182.520045 \r\nL 260.997671 194.530642 \r\nz\r\n\" style=\"fill:#465ecf;fill-opacity:0.8;\"/>\r\n    <path clip-path=\"url(#p362f777379)\" d=\"M 224.130247 88.557777 \r\nL 233.435676 102.041553 \r\nL 239.619174 101.298524 \r\nL 230.369064 85.488819 \r\nz\r\n\" style=\"fill:#f7b99e;fill-opacity:0.8;\"/>\r\n    <path clip-path=\"url(#p362f777379)\" d=\"M 162.290438 68.085087 \r\nL 171.382822 67.165481 \r\nL 177.936809 68.991228 \r\nL 168.815458 67.503096 \r\nz\r\n\" style=\"fill:#e7745b;fill-opacity:0.8;\"/>\r\n    <path clip-path=\"url(#p362f777379)\" d=\"M 214.874413 87.024572 \r\nL 224.130247 88.557777 \r\nL 230.369064 85.488819 \r\nL 221.150866 86.352388 \r\nz\r\n\" style=\"fill:#f7a889;fill-opacity:0.8;\"/>\r\n    <path clip-path=\"url(#p362f777379)\" d=\"M 276.508566 128.784323 \r\nL 286.191119 111.499622 \r\nL 292.24985 105.96403 \r\nL 282.879015 104.400023 \r\nz\r\n\" style=\"fill:#e8d6cc;fill-opacity:0.8;\"/>\r\n    <path clip-path=\"url(#p362f777379)\" d=\"M 236.458297 152.925992 \r\nL 245.756969 173.288054 \r\nL 251.800394 188.262029 \r\nL 242.632878 170.517179 \r\nz\r\n\" style=\"fill:#6c8ff1;fill-opacity:0.8;\"/>\r\n    <path clip-path=\"url(#p362f777379)\" d=\"M 307.598518 104.391387 \r\nL 317.240267 98.805704 \r\nL 323.206782 93.308364 \r\nL 313.565358 98.903381 \r\nz\r\n\" style=\"fill:#f5c1a9;fill-opacity:0.8;\"/>\r\n    <path clip-path=\"url(#p362f777379)\" d=\"M 292.24985 105.96403 \r\nL 301.777507 102.765706 \r\nL 307.598518 104.391387 \r\nL 298.103066 107.565491 \r\nz\r\n\" style=\"fill:#f1ccb8;fill-opacity:0.8;\"/>\r\n    <path clip-path=\"url(#p362f777379)\" d=\"M 273.280611 169.44361 \r\nL 282.987331 147.918916 \r\nL 289.585044 116.283025 \r\nL 279.65573 142.98774 \r\nz\r\n\" style=\"fill:#abc8fd;fill-opacity:0.8;\"/>\r\n    <path clip-path=\"url(#p362f777379)\" d=\"M 171.382822 67.165481 \r\nL 180.630638 71.083612 \r\nL 187.138574 72.888898 \r\nL 177.936809 68.991228 \r\nz\r\n\" style=\"fill:#e8765c;fill-opacity:0.8;\"/>\r\n    <path clip-path=\"url(#p362f777379)\" d=\"M 180.630638 71.083612 \r\nL 189.940106 77.423206 \r\nL 196.395604 79.192575 \r\nL 187.138574 72.888898 \r\nz\r\n\" style=\"fill:#ee8468;fill-opacity:0.8;\"/>\r\n    <path clip-path=\"url(#p362f777379)\" d=\"M 217.928795 103.611149 \r\nL 227.209919 107.560174 \r\nL 233.435676 102.041553 \r\nL 224.130247 88.557777 \r\nz\r\n\" style=\"fill:#f5c1a9;fill-opacity:0.8;\"/>\r\n    <path clip-path=\"url(#p362f777379)\" d=\"M 189.940106 77.423206 \r\nL 199.216631 81.355911 \r\nL 205.625767 83.104657 \r\nL 196.395604 79.192575 \r\nz\r\n\" style=\"fill:#f29274;fill-opacity:0.8;\"/>\r\n    <path clip-path=\"url(#p362f777379)\" d=\"M 208.589263 92.503214 \r\nL 217.928795 103.611149 \r\nL 224.130247 88.557777 \r\nL 214.874413 87.024572 \r\nz\r\n\" style=\"fill:#f7b194;fill-opacity:0.8;\"/>\r\n    <path clip-path=\"url(#p362f777379)\" d=\"M 220.97607 117.86595 \r\nL 230.268351 117.085584 \r\nL 236.509048 132.747498 \r\nL 227.209919 107.560174 \r\nz\r\n\" style=\"fill:#e1dad6;fill-opacity:0.8;\"/>\r\n    <path clip-path=\"url(#p362f777379)\" d=\"M 199.216631 81.355911 \r\nL 208.589263 92.503214 \r\nL 214.874413 87.024572 \r\nL 205.625767 83.104657 \r\nz\r\n\" style=\"fill:#f5a081;fill-opacity:0.8;\"/>\r\n    <path clip-path=\"url(#p362f777379)\" d=\"M 317.240267 98.805704 \r\nL 326.637997 102.757038 \r\nL 332.582884 97.24258 \r\nL 323.206782 93.308364 \r\nz\r\n\" style=\"fill:#f7ba9f;fill-opacity:0.8;\"/>\r\n    <path clip-path=\"url(#p362f777379)\" d=\"M 270.444941 182.520045 \r\nL 280.114841 165.659916 \r\nL 286.35773 152.907518 \r\nL 276.59459 172.194078 \r\nz\r\n\" style=\"fill:#7b9ff9;fill-opacity:0.8;\"/>\r\n    <path clip-path=\"url(#p362f777379)\" d=\"M 211.622296 106.759921 \r\nL 220.97607 117.86595 \r\nL 227.209919 107.560174 \r\nL 217.928795 103.611149 \r\nz\r\n\" style=\"fill:#f0cdbb;fill-opacity:0.8;\"/>\r\n    <path clip-path=\"url(#p362f777379)\" d=\"M 301.777507 102.765706 \r\nL 311.307941 101.941527 \r\nL 317.240267 98.805704 \r\nL 307.598518 104.391387 \r\nz\r\n\" style=\"fill:#f5c1a9;fill-opacity:0.8;\"/>\r\n    <path clip-path=\"url(#p362f777379)\" d=\"M 223.99005 122.687019 \r\nL 233.371054 143.245431 \r\nL 239.567328 153.948251 \r\nL 230.268351 117.085584 \r\nz\r\n\" style=\"fill:#c7d7f0;fill-opacity:0.8;\"/>\r\n    <path clip-path=\"url(#p362f777379)\" d=\"M 326.637997 102.757038 \r\nL 336.239529 101.932843 \r\nL 341.977799 101.18469 \r\nL 332.582884 97.24258 \r\nz\r\n\" style=\"fill:#f6bea4;fill-opacity:0.8;\"/>\r\n    <path clip-path=\"url(#p362f777379)\" d=\"M 286.191119 111.499622 \r\nL 295.779031 105.920118 \r\nL 301.777507 102.765706 \r\nL 292.24985 105.96403 \r\nz\r\n\" style=\"fill:#f3c8b2;fill-opacity:0.8;\"/>\r\n    <path clip-path=\"url(#p362f777379)\" d=\"M 279.65573 142.98774 \r\nL 289.585044 116.283025 \r\nL 295.779031 105.920118 \r\nL 286.191119 111.499622 \r\nz\r\n\" style=\"fill:#e4d9d2;fill-opacity:0.8;\"/>\r\n    <path clip-path=\"url(#p362f777379)\" d=\"M 155.627968 66.248905 \r\nL 164.753499 65.318748 \r\nL 171.382822 67.165481 \r\nL 162.290438 68.085087 \r\nz\r\n\" style=\"fill:#de614d;fill-opacity:0.8;\"/>\r\n    <path clip-path=\"url(#p362f777379)\" d=\"M 227.074408 137.095661 \r\nL 236.458297 152.925992 \r\nL 242.632878 170.517179 \r\nL 233.371054 143.245431 \r\nz\r\n\" style=\"fill:#a6c4fe;fill-opacity:0.8;\"/>\r\n    <path clip-path=\"url(#p362f777379)\" d=\"M 264.333277 188.270421 \r\nL 273.974436 171.414311 \r\nL 280.114841 165.659916 \r\nL 270.444941 182.520045 \r\nz\r\n\" style=\"fill:#6b8df0;fill-opacity:0.8;\"/>\r\n    <path clip-path=\"url(#p362f777379)\" d=\"M 202.139839 88.388397 \r\nL 211.622296 106.759921 \r\nL 217.928795 103.611149 \r\nL 208.589263 92.503214 \r\nz\r\n\" style=\"fill:#f7b79b;fill-opacity:0.8;\"/>\r\n    <path clip-path=\"url(#p362f777379)\" d=\"M 276.59459 172.194078 \r\nL 286.35773 152.907518 \r\nL 292.913118 125.908437 \r\nL 282.987331 147.918916 \r\nz\r\n\" style=\"fill:#aac7fd;fill-opacity:0.8;\"/>\r\n    <path clip-path=\"url(#p362f777379)\" d=\"M 311.307941 101.941527 \r\nL 320.814595 103.514229 \r\nL 326.637997 102.757038 \r\nL 317.240267 98.805704 \r\nz\r\n\" style=\"fill:#f6bda2;fill-opacity:0.8;\"/>\r\n    <path clip-path=\"url(#p362f777379)\" d=\"M 336.239529 101.932843 \r\nL 345.998182 98.697841 \r\nL 351.604524 100.357602 \r\nL 341.977799 101.18469 \r\nz\r\n\" style=\"fill:#f7b99e;fill-opacity:0.8;\"/>\r\n    <path clip-path=\"url(#p362f777379)\" d=\"M 164.753499 65.318748 \r\nL 173.989729 66.822666 \r\nL 180.630638 71.083612 \r\nL 171.382822 67.165481 \r\nz\r\n\" style=\"fill:#dd5f4b;fill-opacity:0.8;\"/>\r\n    <path clip-path=\"url(#p362f777379)\" d=\"M 192.692933 77.1591 \r\nL 202.139839 88.388397 \r\nL 208.589263 92.503214 \r\nL 199.216631 81.355911 \r\nz\r\n\" style=\"fill:#f29274;fill-opacity:0.8;\"/>\r\n    <path clip-path=\"url(#p362f777379)\" d=\"M 173.989729 66.822666 \r\nL 183.311477 70.770655 \r\nL 189.940106 77.423206 \r\nL 180.630638 71.083612 \r\nz\r\n\" style=\"fill:#e26952;fill-opacity:0.8;\"/>\r\n    <path clip-path=\"url(#p362f777379)\" d=\"M 214.587003 111.524701 \r\nL 223.99005 122.687019 \r\nL 230.268351 117.085584 \r\nL 220.97607 117.86595 \r\nz\r\n\" style=\"fill:#ebd3c6;fill-opacity:0.8;\"/>\r\n    <path clip-path=\"url(#p362f777379)\" d=\"M 295.779031 105.920118 \r\nL 305.329368 105.101796 \r\nL 311.307941 101.941527 \r\nL 301.777507 102.765706 \r\nz\r\n\" style=\"fill:#f6bea4;fill-opacity:0.8;\"/>\r\n    <path clip-path=\"url(#p362f777379)\" d=\"M 248.993372 162.026113 \r\nL 258.40934 168.441815 \r\nL 264.333277 188.270421 \r\nL 255.005802 186.546533 \r\nz\r\n\" style=\"fill:#7295f4;fill-opacity:0.8;\"/>\r\n    <path clip-path=\"url(#p362f777379)\" d=\"M 320.814595 103.514229 \r\nL 330.358202 105.093044 \r\nL 336.239529 101.932843 \r\nL 326.637997 102.757038 \r\nz\r\n\" style=\"fill:#f6bda2;fill-opacity:0.8;\"/>\r\n    <path clip-path=\"url(#p362f777379)\" d=\"M 217.778853 142.546581 \r\nL 227.074408 137.095661 \r\nL 233.371054 143.245431 \r\nL 223.99005 122.687019 \r\nz\r\n\" style=\"fill:#cbd8ee;fill-opacity:0.8;\"/>\r\n    <path clip-path=\"url(#p362f777379)\" d=\"M 183.311477 70.770655 \r\nL 192.692933 77.1591 \r\nL 199.216631 81.355911 \r\nL 189.940106 77.423206 \r\nz\r\n\" style=\"fill:#e9785d;fill-opacity:0.8;\"/>\r\n    <path clip-path=\"url(#p362f777379)\" d=\"M 345.998182 98.697841 \r\nL 355.275786 107.484614 \r\nL 361.05494 104.318099 \r\nL 351.604524 100.357602 \r\nz\r\n\" style=\"fill:#f7ba9f;fill-opacity:0.8;\"/>\r\n    <path clip-path=\"url(#p362f777379)\" d=\"M 239.581868 153.245224 \r\nL 248.993372 162.026113 \r\nL 255.005802 186.546533 \r\nL 245.756969 173.288054 \r\nz\r\n\" style=\"fill:#84a7fc;fill-opacity:0.8;\"/>\r\n    <path clip-path=\"url(#p362f777379)\" d=\"M 355.275786 107.484614 \r\nL 364.656863 113.86634 \r\nL 370.52441 108.286582 \r\nL 361.05494 104.318099 \r\nz\r\n\" style=\"fill:#f4c6af;fill-opacity:0.8;\"/>\r\n    <path clip-path=\"url(#p362f777379)\" d=\"M 205.091861 95.490202 \r\nL 214.587003 111.524701 \r\nL 220.97607 117.86595 \r\nL 211.622296 106.759921 \r\nz\r\n\" style=\"fill:#f5c4ac;fill-opacity:0.8;\"/>\r\n    <path clip-path=\"url(#p362f777379)\" d=\"M 208.389365 131.448787 \r\nL 217.778853 142.546581 \r\nL 223.99005 122.687019 \r\nL 214.587003 111.524701 \r\nz\r\n\" style=\"fill:#dddcdc;fill-opacity:0.8;\"/>\r\n    <path clip-path=\"url(#p362f777379)\" d=\"M 148.970212 66.831003 \r\nL 158.120734 65.898019 \r\nL 164.753499 65.318748 \r\nL 155.627968 66.248905 \r\nz\r\n\" style=\"fill:#d55042;fill-opacity:0.8;\"/>\r\n    <path clip-path=\"url(#p362f777379)\" d=\"M 282.987331 147.918916 \r\nL 292.913118 125.908437 \r\nL 299.24526 110.693564 \r\nL 289.585044 116.283025 \r\nz\r\n\" style=\"fill:#e1dad6;fill-opacity:0.8;\"/>\r\n    <path clip-path=\"url(#p362f777379)\" d=\"M 305.329368 105.101796 \r\nL 314.78837 109.090343 \r\nL 320.814595 103.514229 \r\nL 311.307941 101.941527 \r\nz\r\n\" style=\"fill:#f6bda2;fill-opacity:0.8;\"/>\r\n    <path clip-path=\"url(#p362f777379)\" d=\"M 364.656863 113.86634 \r\nL 374.424797 113.069269 \r\nL 380.280251 107.475845 \r\nL 370.52441 108.286582 \r\nz\r\n\" style=\"fill:#f3c7b1;fill-opacity:0.8;\"/>\r\n    <path clip-path=\"url(#p362f777379)\" d=\"M 330.358202 105.093044 \r\nL 339.938978 106.678008 \r\nL 345.998182 98.697841 \r\nL 336.239529 101.932843 \r\nz\r\n\" style=\"fill:#f7b89c;fill-opacity:0.8;\"/>\r\n    <path clip-path=\"url(#p362f777379)\" d=\"M 289.585044 116.283025 \r\nL 299.24526 110.693564 \r\nL 305.329368 105.101796 \r\nL 295.779031 105.920118 \r\nz\r\n\" style=\"fill:#f5c4ac;fill-opacity:0.8;\"/>\r\n    <path clip-path=\"url(#p362f777379)\" d=\"M 230.148371 142.068376 \r\nL 239.581868 153.245224 \r\nL 245.756969 173.288054 \r\nL 236.458297 152.925992 \r\nz\r\n\" style=\"fill:#a9c6fd;fill-opacity:0.8;\"/>\r\n    <path clip-path=\"url(#p362f777379)\" d=\"M 195.718027 91.504428 \r\nL 205.091861 95.490202 \r\nL 211.622296 106.759921 \r\nL 202.139839 88.388397 \r\nz\r\n\" style=\"fill:#f7a688;fill-opacity:0.8;\"/>\r\n    <path clip-path=\"url(#p362f777379)\" d=\"M 314.78837 109.090343 \r\nL 324.184641 115.484753 \r\nL 330.358202 105.093044 \r\nL 320.814595 103.514229 \r\nz\r\n\" style=\"fill:#f5c1a9;fill-opacity:0.8;\"/>\r\n    <path clip-path=\"url(#p362f777379)\" d=\"M 339.938978 106.678008 \r\nL 349.240644 115.47588 \r\nL 355.275786 107.484614 \r\nL 345.998182 98.697841 \r\nz\r\n\" style=\"fill:#f6bea4;fill-opacity:0.8;\"/>\r\n    <path clip-path=\"url(#p362f777379)\" d=\"M 349.240644 115.47588 \r\nL 358.86873 117.082823 \r\nL 364.656863 113.86634 \r\nL 355.275786 107.484614 \r\nz\r\n\" style=\"fill:#f2cab5;fill-opacity:0.8;\"/>\r\n    <path clip-path=\"url(#p362f777379)\" d=\"M 258.40934 168.441815 \r\nL 267.974312 163.07052 \r\nL 273.974436 171.414311 \r\nL 264.333277 188.270421 \r\nz\r\n\" style=\"fill:#82a6fb;fill-opacity:0.8;\"/>\r\n    <path clip-path=\"url(#p362f777379)\" d=\"M 158.120734 65.898019 \r\nL 167.388819 67.410364 \r\nL 173.989729 66.822666 \r\nL 164.753499 65.318748 \r\nz\r\n\" style=\"fill:#d24b40;fill-opacity:0.8;\"/>\r\n    <path clip-path=\"url(#p362f777379)\" d=\"M 201.806876 120.378425 \r\nL 211.321225 133.990011 \r\nL 217.778853 142.546581 \r\nL 208.389365 131.448787 \r\nz\r\n\" style=\"fill:#d9dce1;fill-opacity:0.8;\"/>\r\n    <path clip-path=\"url(#p362f777379)\" d=\"M 324.184641 115.484753 \r\nL 333.673121 119.488197 \r\nL 339.938978 106.678008 \r\nL 330.358202 105.093044 \r\nz\r\n\" style=\"fill:#f4c6af;fill-opacity:0.8;\"/>\r\n    <path clip-path=\"url(#p362f777379)\" d=\"M 186.269573 82.671283 \r\nL 195.718027 91.504428 \r\nL 202.139839 88.388397 \r\nL 192.692933 77.1591 \r\nz\r\n\" style=\"fill:#ee8669;fill-opacity:0.8;\"/>\r\n    <path clip-path=\"url(#p362f777379)\" d=\"M 211.321225 133.990011 \r\nL 220.710497 135.638323 \r\nL 227.074408 137.095661 \r\nL 217.778853 142.546581 \r\nz\r\n\" style=\"fill:#d1dae9;fill-opacity:0.8;\"/>\r\n    <path clip-path=\"url(#p362f777379)\" d=\"M 374.424797 113.069269 \r\nL 384.249175 112.267591 \r\nL 390.092299 106.660437 \r\nL 380.280251 107.475845 \r\nz\r\n\" style=\"fill:#f5c1a9;fill-opacity:0.8;\"/>\r\n    <path clip-path=\"url(#p362f777379)\" d=\"M 299.24526 110.693564 \r\nL 308.726251 114.699671 \r\nL 314.78837 109.090343 \r\nL 305.329368 105.101796 \r\nz\r\n\" style=\"fill:#f5c1a9;fill-opacity:0.8;\"/>\r\n    <path clip-path=\"url(#p362f777379)\" d=\"M 333.673121 119.488197 \r\nL 343.180865 123.499769 \r\nL 349.240644 115.47588 \r\nL 339.938978 106.678008 \r\nz\r\n\" style=\"fill:#f1ccb8;fill-opacity:0.8;\"/>\r\n    <path clip-path=\"url(#p362f777379)\" d=\"M 280.114841 165.659916 \r\nL 290.017865 146.101391 \r\nL 296.32398 133.219725 \r\nL 286.35773 152.907518 \r\nz\r\n\" style=\"fill:#bad0f8;fill-opacity:0.8;\"/>\r\n    <path clip-path=\"url(#p362f777379)\" d=\"M 198.64987 98.649548 \r\nL 208.389365 131.448787 \r\nL 214.587003 111.524701 \r\nL 205.091861 95.490202 \r\nz\r\n\" style=\"fill:#f6bfa6;fill-opacity:0.8;\"/>\r\n    <path clip-path=\"url(#p362f777379)\" d=\"M 220.710497 135.638323 \r\nL 230.148371 142.068376 \r\nL 236.458297 152.925992 \r\nL 227.074408 137.095661 \r\nz\r\n\" style=\"fill:#cad8ef;fill-opacity:0.8;\"/>\r\n    <path clip-path=\"url(#p362f777379)\" d=\"M 167.388819 67.410364 \r\nL 176.749114 71.378121 \r\nL 183.311477 70.770655 \r\nL 173.989729 66.822666 \r\nz\r\n\" style=\"fill:#d55042;fill-opacity:0.8;\"/>\r\n    <path clip-path=\"url(#p362f777379)\" d=\"M 142.33591 69.864905 \r\nL 151.66208 73.831488 \r\nL 158.120734 65.898019 \r\nL 148.970212 66.831003 \r\nz\r\n\" style=\"fill:#d55042;fill-opacity:0.8;\"/>\r\n    <path clip-path=\"url(#p362f777379)\" d=\"M 358.86873 117.082823 \r\nL 368.658224 116.291928 \r\nL 374.424797 113.069269 \r\nL 364.656863 113.86634 \r\nz\r\n\" style=\"fill:#f2cab5;fill-opacity:0.8;\"/>\r\n    <path clip-path=\"url(#p362f777379)\" d=\"M 176.749114 71.378121 \r\nL 186.269573 82.671283 \r\nL 192.692933 77.1591 \r\nL 183.311477 70.770655 \r\nz\r\n\" style=\"fill:#e16751;fill-opacity:0.8;\"/>\r\n    <path clip-path=\"url(#p362f777379)\" d=\"M 308.726251 114.699671 \r\nL 318.226528 118.713928 \r\nL 324.184641 115.484753 \r\nL 314.78837 109.090343 \r\nz\r\n\" style=\"fill:#f3c8b2;fill-opacity:0.8;\"/>\r\n    <path clip-path=\"url(#p362f777379)\" d=\"M 343.180865 123.499769 \r\nL 352.925879 122.727363 \r\nL 358.86873 117.082823 \r\nL 349.240644 115.47588 \r\nz\r\n\" style=\"fill:#efcfbf;fill-opacity:0.8;\"/>\r\n    <path clip-path=\"url(#p362f777379)\" d=\"M 318.226528 118.713928 \r\nL 327.66065 125.134685 \r\nL 333.673121 119.488197 \r\nL 324.184641 115.484753 \r\nz\r\n\" style=\"fill:#efcfbf;fill-opacity:0.8;\"/>\r\n    <path clip-path=\"url(#p362f777379)\" d=\"M 286.35773 152.907518 \r\nL 296.32398 133.219725 \r\nL 302.690072 117.935155 \r\nL 292.913118 125.908437 \r\nz\r\n\" style=\"fill:#dcdddd;fill-opacity:0.8;\"/>\r\n    <path clip-path=\"url(#p362f777379)\" d=\"M 273.974436 171.414311 \r\nL 283.887733 149.471491 \r\nL 290.017865 146.101391 \r\nL 280.114841 165.659916 \r\nz\r\n\" style=\"fill:#aac7fd;fill-opacity:0.8;\"/>\r\n    <path clip-path=\"url(#p362f777379)\" d=\"M 151.66208 73.831488 \r\nL 161.077816 80.245265 \r\nL 167.388819 67.410364 \r\nL 158.120734 65.898019 \r\nz\r\n\" style=\"fill:#d85646;fill-opacity:0.8;\"/>\r\n    <path clip-path=\"url(#p362f777379)\" d=\"M 327.66065 125.134685 \r\nL 337.190648 129.163979 \r\nL 343.180865 123.499769 \r\nL 333.673121 119.488197 \r\nz\r\n\" style=\"fill:#ead5c9;fill-opacity:0.8;\"/>\r\n    <path clip-path=\"url(#p362f777379)\" d=\"M 170.556728 89.088837 \r\nL 179.966705 95.498884 \r\nL 186.269573 82.671283 \r\nL 176.749114 71.378121 \r\nz\r\n\" style=\"fill:#ec7f63;fill-opacity:0.8;\"/>\r\n    <path clip-path=\"url(#p362f777379)\" d=\"M 292.913118 125.908437 \r\nL 302.690072 117.935155 \r\nL 308.726251 114.699671 \r\nL 299.24526 110.693564 \r\nz\r\n\" style=\"fill:#f2cbb7;fill-opacity:0.8;\"/>\r\n    <path clip-path=\"url(#p362f777379)\" d=\"M 179.966705 95.498884 \r\nL 189.201521 92.214138 \r\nL 195.718027 91.504428 \r\nL 186.269573 82.671283 \r\nz\r\n\" style=\"fill:#f18f71;fill-opacity:0.8;\"/>\r\n    <path clip-path=\"url(#p362f777379)\" d=\"M 161.077816 80.245265 \r\nL 170.556728 89.088837 \r\nL 176.749114 71.378121 \r\nL 167.388819 67.410364 \r\nz\r\n\" style=\"fill:#e16751;fill-opacity:0.8;\"/>\r\n    <path clip-path=\"url(#p362f777379)\" d=\"M 384.249175 112.267591 \r\nL 394.130489 111.461267 \r\nL 399.808111 108.251518 \r\nL 390.092299 106.660437 \r\nz\r\n\" style=\"fill:#f6bda2;fill-opacity:0.8;\"/>\r\n    <path clip-path=\"url(#p362f777379)\" d=\"M 154.688123 90.657079 \r\nL 164.183008 99.501549 \r\nL 170.556728 89.088837 \r\nL 161.077816 80.245265 \r\nz\r\n\" style=\"fill:#f18d6f;fill-opacity:0.8;\"/>\r\n    <path clip-path=\"url(#p362f777379)\" d=\"M 164.183008 99.501549 \r\nL 173.485045 101.083253 \r\nL 179.966705 95.498884 \r\nL 170.556728 89.088837 \r\nz\r\n\" style=\"fill:#f59d7e;fill-opacity:0.8;\"/>\r\n    <path clip-path=\"url(#p362f777379)\" d=\"M 368.658224 116.291928 \r\nL 378.50451 115.496446 \r\nL 384.249175 112.267591 \r\nL 374.424797 113.069269 \r\nz\r\n\" style=\"fill:#f5c4ac;fill-opacity:0.8;\"/>\r\n    <path clip-path=\"url(#p362f777379)\" d=\"M 189.201521 92.214138 \r\nL 198.64987 98.649548 \r\nL 205.091861 95.490202 \r\nL 195.718027 91.504428 \r\nz\r\n\" style=\"fill:#f4987a;fill-opacity:0.8;\"/>\r\n    <path clip-path=\"url(#p362f777379)\" d=\"M 145.09132 79.354986 \r\nL 154.688123 90.657079 \r\nL 161.077816 80.245265 \r\nL 151.66208 73.831488 \r\nz\r\n\" style=\"fill:#e57058;fill-opacity:0.8;\"/>\r\n    <path clip-path=\"url(#p362f777379)\" d=\"M 135.554832 70.469734 \r\nL 145.09132 79.354986 \r\nL 151.66208 73.831488 \r\nL 142.33591 69.864905 \r\nz\r\n\" style=\"fill:#d85646;fill-opacity:0.8;\"/>\r\n    <path clip-path=\"url(#p362f777379)\" d=\"M 352.925879 122.727363 \r\nL 362.727433 121.950476 \r\nL 368.658224 116.291928 \r\nL 358.86873 117.082823 \r\nz\r\n\" style=\"fill:#f1ccb8;fill-opacity:0.8;\"/>\r\n    <path clip-path=\"url(#p362f777379)\" d=\"M 337.190648 129.163979 \r\nL 346.947452 128.405695 \r\nL 352.925879 122.727363 \r\nL 343.180865 123.499769 \r\nz\r\n\" style=\"fill:#ead5c9;fill-opacity:0.8;\"/>\r\n    <path clip-path=\"url(#p362f777379)\" d=\"M 233.273584 159.006315 \r\nL 242.730409 163.079976 \r\nL 248.993372 162.026113 \r\nL 239.581868 153.245224 \r\nz\r\n\" style=\"fill:#abc8fd;fill-opacity:0.8;\"/>\r\n    <path clip-path=\"url(#p362f777379)\" d=\"M 192.031529 94.511755 \r\nL 201.806876 120.378425 \r\nL 208.389365 131.448787 \r\nL 198.64987 98.649548 \r\nz\r\n\" style=\"fill:#f6bda2;fill-opacity:0.8;\"/>\r\n    <path clip-path=\"url(#p362f777379)\" d=\"M 302.690072 117.935155 \r\nL 312.292853 119.557951 \r\nL 318.226528 118.713928 \r\nL 308.726251 114.699671 \r\nz\r\n\" style=\"fill:#f3c8b2;fill-opacity:0.8;\"/>\r\n    <path clip-path=\"url(#p362f777379)\" d=\"M 242.730409 163.079976 \r\nL 252.236287 162.418479 \r\nL 258.40934 168.441815 \r\nL 248.993372 162.026113 \r\nz\r\n\" style=\"fill:#a3c2fe;fill-opacity:0.8;\"/>\r\n    <path clip-path=\"url(#p362f777379)\" d=\"M 223.800491 147.806369 \r\nL 233.273584 159.006315 \r\nL 239.581868 153.245224 \r\nL 230.148371 142.068376 \r\nz\r\n\" style=\"fill:#c0d4f5;fill-opacity:0.8;\"/>\r\n    <path clip-path=\"url(#p362f777379)\" d=\"M 148.035508 93.803415 \r\nL 157.64748 105.103641 \r\nL 164.183008 99.501549 \r\nL 154.688123 90.657079 \r\nz\r\n\" style=\"fill:#f59c7d;fill-opacity:0.8;\"/>\r\n    <path clip-path=\"url(#p362f777379)\" d=\"M 312.292853 119.557951 \r\nL 321.772511 126.010096 \r\nL 327.66065 125.134685 \r\nL 318.226528 118.713928 \r\nz\r\n\" style=\"fill:#efcebd;fill-opacity:0.8;\"/>\r\n    <path clip-path=\"url(#p362f777379)\" d=\"M 157.64748 105.103641 \r\nL 166.899141 104.274142 \r\nL 173.485045 101.083253 \r\nL 164.183008 99.501549 \r\nz\r\n\" style=\"fill:#f7a889;fill-opacity:0.8;\"/>\r\n    <path clip-path=\"url(#p362f777379)\" d=\"M 321.772511 126.010096 \r\nL 331.343018 130.05996 \r\nL 337.190648 129.163979 \r\nL 327.66065 125.134685 \r\nz\r\n\" style=\"fill:#ead5c9;fill-opacity:0.8;\"/>\r\n    <path clip-path=\"url(#p362f777379)\" d=\"M 226.963137 174.253379 \r\nL 236.406234 173.625502 \r\nL 242.730409 163.079976 \r\nL 233.273584 159.006315 \r\nz\r\n\" style=\"fill:#9ebeff;fill-opacity:0.8;\"/>\r\n    <path clip-path=\"url(#p362f777379)\" d=\"M 173.485045 101.083253 \r\nL 182.519569 88.032988 \r\nL 189.201521 92.214138 \r\nL 179.966705 95.498884 \r\nz\r\n\" style=\"fill:#f29274;fill-opacity:0.8;\"/>\r\n    <path clip-path=\"url(#p362f777379)\" d=\"M 214.293244 136.566043 \r\nL 223.800491 147.806369 \r\nL 230.148371 142.068376 \r\nL 220.710497 135.638323 \r\nz\r\n\" style=\"fill:#d5dbe5;fill-opacity:0.8;\"/>\r\n    <path clip-path=\"url(#p362f777379)\" d=\"M 217.46814 160.718488 \r\nL 226.963137 174.253379 \r\nL 233.273584 159.006315 \r\nL 223.800491 147.806369 \r\nz\r\n\" style=\"fill:#adc9fd;fill-opacity:0.8;\"/>\r\n    <path clip-path=\"url(#p362f777379)\" d=\"M 378.50451 115.496446 \r\nL 388.408083 114.696335 \r\nL 394.130489 111.461267 \r\nL 384.249175 112.267591 \r\nz\r\n\" style=\"fill:#f6bea4;fill-opacity:0.8;\"/>\r\n    <path clip-path=\"url(#p362f777379)\" d=\"M 204.751659 125.285119 \r\nL 214.293244 136.566043 \r\nL 220.710497 135.638323 \r\nL 211.321225 133.990011 \r\nz\r\n\" style=\"fill:#e2dad5;fill-opacity:0.8;\"/>\r\n    <path clip-path=\"url(#p362f777379)\" d=\"M 138.296402 80.008654 \r\nL 148.035508 93.803415 \r\nL 154.688123 90.657079 \r\nL 145.09132 79.354986 \r\nz\r\n\" style=\"fill:#e9785d;fill-opacity:0.8;\"/>\r\n    <path clip-path=\"url(#p362f777379)\" d=\"M 362.727433 121.950476 \r\nL 372.714486 118.750796 \r\nL 378.50451 115.496446 \r\nL 368.658224 116.291928 \r\nz\r\n\" style=\"fill:#f4c6af;fill-opacity:0.8;\"/>\r\n    <path clip-path=\"url(#p362f777379)\" d=\"M 346.947452 128.405695 \r\nL 356.87458 125.23061 \r\nL 362.727433 121.950476 \r\nL 352.925879 122.727363 \r\nz\r\n\" style=\"fill:#efcfbf;fill-opacity:0.8;\"/>\r\n    <path clip-path=\"url(#p362f777379)\" d=\"M 211.085913 168.903311 \r\nL 220.588095 177.73246 \r\nL 226.963137 174.253379 \r\nL 217.46814 160.718488 \r\nz\r\n\" style=\"fill:#9abbff;fill-opacity:0.8;\"/>\r\n    <path clip-path=\"url(#p362f777379)\" d=\"M 331.343018 130.05996 \r\nL 341.031748 131.71162 \r\nL 346.947452 128.405695 \r\nL 337.190648 129.163979 \r\nz\r\n\" style=\"fill:#e9d5cb;fill-opacity:0.8;\"/>\r\n    <path clip-path=\"url(#p362f777379)\" d=\"M 296.32398 133.219725 \r\nL 306.301012 120.410248 \r\nL 312.292853 119.557951 \r\nL 302.690072 117.935155 \r\nz\r\n\" style=\"fill:#f1ccb8;fill-opacity:0.8;\"/>\r\n    <path clip-path=\"url(#p362f777379)\" d=\"M 267.974312 163.07052 \r\nL 277.905215 140.840341 \r\nL 283.887733 149.471491 \r\nL 273.974436 171.414311 \r\nz\r\n\" style=\"fill:#bad0f8;fill-opacity:0.8;\"/>\r\n    <path clip-path=\"url(#p362f777379)\" d=\"M 195.097393 109.094486 \r\nL 204.751659 125.285119 \r\nL 211.321225 133.990011 \r\nL 201.806876 120.378425 \r\nz\r\n\" style=\"fill:#f2cbb7;fill-opacity:0.8;\"/>\r\n    <path clip-path=\"url(#p362f777379)\" d=\"M 128.707385 71.080484 \r\nL 138.296402 80.008654 \r\nL 145.09132 79.354986 \r\nL 135.554832 70.469734 \r\nz\r\n\" style=\"fill:#d55042;fill-opacity:0.8;\"/>\r\n    <path clip-path=\"url(#p362f777379)\" d=\"M 252.236287 162.418479 \r\nL 261.918042 149.777683 \r\nL 267.974312 163.07052 \r\nL 258.40934 168.441815 \r\nz\r\n\" style=\"fill:#b1cbfc;fill-opacity:0.8;\"/>\r\n    <path clip-path=\"url(#p362f777379)\" d=\"M 207.867088 142.31512 \r\nL 217.46814 160.718488 \r\nL 223.800491 147.806369 \r\nL 214.293244 136.566043 \r\nz\r\n\" style=\"fill:#cedaeb;fill-opacity:0.8;\"/>\r\n    <path clip-path=\"url(#p362f777379)\" d=\"M 182.519569 88.032988 \r\nL 192.031529 94.511755 \r\nL 198.64987 98.649548 \r\nL 189.201521 92.214138 \r\nz\r\n\" style=\"fill:#ef886b;fill-opacity:0.8;\"/>\r\n    <path clip-path=\"url(#p362f777379)\" d=\"M 220.588095 177.73246 \r\nL 230.025724 167.606512 \r\nL 236.406234 173.625502 \r\nL 226.963137 174.253379 \r\nz\r\n\" style=\"fill:#96b7ff;fill-opacity:0.8;\"/>\r\n    <path clip-path=\"url(#p362f777379)\" d=\"M 236.406234 173.625502 \r\nL 245.949207 161.093391 \r\nL 252.236287 162.418479 \r\nL 242.730409 163.079976 \r\nz\r\n\" style=\"fill:#aac7fd;fill-opacity:0.8;\"/>\r\n    <path clip-path=\"url(#p362f777379)\" d=\"M 290.017865 146.101391 \r\nL 300.189571 123.70359 \r\nL 306.301012 120.410248 \r\nL 296.32398 133.219725 \r\nz\r\n\" style=\"fill:#ead5c9;fill-opacity:0.8;\"/>\r\n    <path clip-path=\"url(#p362f777379)\" d=\"M 372.714486 118.750796 \r\nL 382.640362 117.957022 \r\nL 388.408083 114.696335 \r\nL 378.50451 115.496446 \r\nz\r\n\" style=\"fill:#f6bea4;fill-opacity:0.8;\"/>\r\n    <path clip-path=\"url(#p362f777379)\" d=\"M 166.899141 104.274142 \r\nL 175.976365 93.654485 \r\nL 182.519569 88.032988 \r\nL 173.485045 101.083253 \r\nz\r\n\" style=\"fill:#f18f71;fill-opacity:0.8;\"/>\r\n    <path clip-path=\"url(#p362f777379)\" d=\"M 140.969746 87.165473 \r\nL 150.668941 98.565222 \r\nL 157.64748 105.103641 \r\nL 148.035508 93.803415 \r\nz\r\n\" style=\"fill:#f18d6f;fill-opacity:0.8;\"/>\r\n    <path clip-path=\"url(#p362f777379)\" d=\"M 150.668941 98.565222 \r\nL 160.11685 102.609465 \r\nL 166.899141 104.274142 \r\nL 157.64748 105.103641 \r\nz\r\n\" style=\"fill:#f59d7e;fill-opacity:0.8;\"/>\r\n    <path clip-path=\"url(#p362f777379)\" d=\"M 341.031748 131.71162 \r\nL 350.866914 130.95556 \r\nL 356.87458 125.23061 \r\nL 346.947452 128.405695 \r\nz\r\n\" style=\"fill:#edd2c3;fill-opacity:0.8;\"/>\r\n    <path clip-path=\"url(#p362f777379)\" d=\"M 356.87458 125.23061 \r\nL 366.878562 122.030944 \r\nL 372.714486 118.750796 \r\nL 362.727433 121.950476 \r\nz\r\n\" style=\"fill:#f3c7b1;fill-opacity:0.8;\"/>\r\n    <path clip-path=\"url(#p362f777379)\" d=\"M 306.301012 120.410248 \r\nL 315.977069 122.049113 \r\nL 321.772511 126.010096 \r\nL 312.292853 119.557951 \r\nz\r\n\" style=\"fill:#f3c7b1;fill-opacity:0.8;\"/>\r\n    <path clip-path=\"url(#p362f777379)\" d=\"M 201.402148 148.098893 \r\nL 211.085913 168.903311 \r\nL 217.46814 160.718488 \r\nL 207.867088 142.31512 \r\nz\r\n\" style=\"fill:#c1d4f4;fill-opacity:0.8;\"/>\r\n    <path clip-path=\"url(#p362f777379)\" d=\"M 204.677356 177.121899 \r\nL 214.078095 171.739094 \r\nL 220.588095 177.73246 \r\nL 211.085913 168.903311 \r\nz\r\n\" style=\"fill:#9abbff;fill-opacity:0.8;\"/>\r\n    <path clip-path=\"url(#p362f777379)\" d=\"M 315.977069 122.049113 \r\nL 325.606806 126.122487 \r\nL 331.343018 130.05996 \r\nL 321.772511 126.010096 \r\nz\r\n\" style=\"fill:#f1ccb8;fill-opacity:0.8;\"/>\r\n    <path clip-path=\"url(#p362f777379)\" d=\"M 198.212752 126.168184 \r\nL 207.867088 142.31512 \r\nL 214.293244 136.566043 \r\nL 204.751659 125.285119 \r\nz\r\n\" style=\"fill:#ead5c9;fill-opacity:0.8;\"/>\r\n    <path clip-path=\"url(#p362f777379)\" d=\"M 131.43471 80.668745 \r\nL 140.969746 87.165473 \r\nL 148.035508 93.803415 \r\nL 138.296402 80.008654 \r\nz\r\n\" style=\"fill:#e26952;fill-opacity:0.8;\"/>\r\n    <path clip-path=\"url(#p362f777379)\" d=\"M 185.419783 95.244668 \r\nL 195.097393 109.094486 \r\nL 201.806876 120.378425 \r\nL 192.031529 94.511755 \r\nz\r\n\" style=\"fill:#f5a081;fill-opacity:0.8;\"/>\r\n    <path clip-path=\"url(#p362f777379)\" d=\"M 121.901234 74.17308 \r\nL 131.43471 80.668745 \r\nL 138.296402 80.008654 \r\nL 128.707385 71.080484 \r\nz\r\n\" style=\"fill:#d1493f;fill-opacity:0.8;\"/>\r\n    <path clip-path=\"url(#p362f777379)\" d=\"M 325.606806 126.122487 \r\nL 335.256404 130.204262 \r\nL 341.031748 131.71162 \r\nL 331.343018 130.05996 \r\nz\r\n\" style=\"fill:#efcfbf;fill-opacity:0.8;\"/>\r\n    <path clip-path=\"url(#p362f777379)\" d=\"M 283.887733 149.471491 \r\nL 294.084332 124.584004 \r\nL 300.189571 123.70359 \r\nL 290.017865 146.101391 \r\nz\r\n\" style=\"fill:#e6d7cf;fill-opacity:0.8;\"/>\r\n    <path clip-path=\"url(#p362f777379)\" d=\"M 194.937516 156.320482 \r\nL 204.677356 177.121899 \r\nL 211.085913 168.903311 \r\nL 201.402148 148.098893 \r\nz\r\n\" style=\"fill:#b6cefa;fill-opacity:0.8;\"/>\r\n    <path clip-path=\"url(#p362f777379)\" d=\"M 366.878562 122.030944 \r\nL 376.826784 121.243632 \r\nL 382.640362 117.957022 \r\nL 372.714486 118.750796 \r\nz\r\n\" style=\"fill:#f6bea4;fill-opacity:0.8;\"/>\r\n    <path clip-path=\"url(#p362f777379)\" d=\"M 350.866914 130.95556 \r\nL 360.877837 127.768441 \r\nL 366.878562 122.030944 \r\nL 356.87458 125.23061 \r\nz\r\n\" style=\"fill:#f2cab5;fill-opacity:0.8;\"/>\r\n    <path clip-path=\"url(#p362f777379)\" d=\"M 175.976365 93.654485 \r\nL 185.419783 95.244668 \r\nL 192.031529 94.511755 \r\nL 182.519569 88.032988 \r\nz\r\n\" style=\"fill:#e97a5f;fill-opacity:0.8;\"/>\r\n    <path clip-path=\"url(#p362f777379)\" d=\"M 160.11685 102.609465 \r\nL 169.329741 96.850017 \r\nL 175.976365 93.654485 \r\nL 166.899141 104.274142 \r\nz\r\n\" style=\"fill:#f18d6f;fill-opacity:0.8;\"/>\r\n    <path clip-path=\"url(#p362f777379)\" d=\"M 335.256404 130.204262 \r\nL 344.925923 134.294464 \r\nL 350.866914 130.95556 \r\nL 341.031748 131.71162 \r\nz\r\n\" style=\"fill:#eed0c0;fill-opacity:0.8;\"/>\r\n    <path clip-path=\"url(#p362f777379)\" d=\"M 188.440804 107.448284 \r\nL 198.212752 126.168184 \r\nL 204.751659 125.285119 \r\nL 195.097393 109.094486 \r\nz\r\n\" style=\"fill:#f7b79b;fill-opacity:0.8;\"/>\r\n    <path clip-path=\"url(#p362f777379)\" d=\"M 198.169894 180.63638 \r\nL 207.576573 175.249148 \r\nL 214.078095 171.739094 \r\nL 204.677356 177.121899 \r\nz\r\n\" style=\"fill:#9ebeff;fill-opacity:0.8;\"/>\r\n    <path clip-path=\"url(#p362f777379)\" d=\"M 230.025724 167.606512 \r\nL 239.603103 147.661169 \r\nL 245.949207 161.093391 \r\nL 236.406234 173.625502 \r\nz\r\n\" style=\"fill:#bbd1f8;fill-opacity:0.8;\"/>\r\n    <path clip-path=\"url(#p362f777379)\" d=\"M 191.566474 124.62071 \r\nL 201.402148 148.098893 \r\nL 207.867088 142.31512 \r\nL 198.212752 126.168184 \r\nz\r\n\" style=\"fill:#ebd3c6;fill-opacity:0.8;\"/>\r\n    <path clip-path=\"url(#p362f777379)\" d=\"M 300.189571 123.70359 \r\nL 310.032004 120.479053 \r\nL 315.977069 122.049113 \r\nL 306.301012 120.410248 \r\nz\r\n\" style=\"fill:#f6bea4;fill-opacity:0.8;\"/>\r\n    <path clip-path=\"url(#p362f777379)\" d=\"M 143.846335 99.318889 \r\nL 153.412826 105.837886 \r\nL 160.11685 102.609465 \r\nL 150.668941 98.565222 \r\nz\r\n\" style=\"fill:#f18f71;fill-opacity:0.8;\"/>\r\n    <path clip-path=\"url(#p362f777379)\" d=\"M 188.354507 159.771794 \r\nL 198.169894 180.63638 \r\nL 204.677356 177.121899 \r\nL 194.937516 156.320482 \r\nz\r\n\" style=\"fill:#afcafc;fill-opacity:0.8;\"/>\r\n    <path clip-path=\"url(#p362f777379)\" d=\"M 214.078095 171.739094 \r\nL 223.520772 156.664307 \r\nL 230.025724 167.606512 \r\nL 220.588095 177.73246 \r\nz\r\n\" style=\"fill:#afcafc;fill-opacity:0.8;\"/>\r\n    <path clip-path=\"url(#p362f777379)\" d=\"M 134.184203 90.33494 \r\nL 143.846335 99.318889 \r\nL 150.668941 98.565222 \r\nL 140.969746 87.165473 \r\nz\r\n\" style=\"fill:#e9785d;fill-opacity:0.8;\"/>\r\n    <path clip-path=\"url(#p362f777379)\" d=\"M 115.156282 79.768317 \r\nL 124.718063 86.284105 \r\nL 131.43471 80.668745 \r\nL 121.901234 74.17308 \r\nz\r\n\" style=\"fill:#d24b40;fill-opacity:0.8;\"/>\r\n    <path clip-path=\"url(#p362f777379)\" d=\"M 261.918042 149.777683 \r\nL 271.783453 134.50157 \r\nL 277.905215 140.840341 \r\nL 267.974312 163.07052 \r\nz\r\n\" style=\"fill:#d9dce1;fill-opacity:0.8;\"/>\r\n    <path clip-path=\"url(#p362f777379)\" d=\"M 245.949207 161.093391 \r\nL 255.694787 141.080753 \r\nL 261.918042 149.777683 \r\nL 252.236287 162.418479 \r\nz\r\n\" style=\"fill:#cedaeb;fill-opacity:0.8;\"/>\r\n    <path clip-path=\"url(#p362f777379)\" d=\"M 124.718063 86.284105 \r\nL 134.184203 90.33494 \r\nL 140.969746 87.165473 \r\nL 131.43471 80.668745 \r\nz\r\n\" style=\"fill:#dd5f4b;fill-opacity:0.8;\"/>\r\n    <path clip-path=\"url(#p362f777379)\" d=\"M 344.925923 134.294464 \r\nL 354.727952 135.96925 \r\nL 360.877837 127.768441 \r\nL 350.866914 130.95556 \r\nz\r\n\" style=\"fill:#efcebd;fill-opacity:0.8;\"/>\r\n    <path clip-path=\"url(#p362f777379)\" d=\"M 360.877837 127.768441 \r\nL 370.838597 126.995615 \r\nL 376.826784 121.243632 \r\nL 366.878562 122.030944 \r\nz\r\n\" style=\"fill:#f5c1a9;fill-opacity:0.8;\"/>\r\n    <path clip-path=\"url(#p362f777379)\" d=\"M 310.032004 120.479053 \r\nL 319.712386 124.574828 \r\nL 325.606806 126.122487 \r\nL 315.977069 122.049113 \r\nz\r\n\" style=\"fill:#f6bea4;fill-opacity:0.8;\"/>\r\n    <path clip-path=\"url(#p362f777379)\" d=\"M 169.329741 96.850017 \r\nL 178.797614 98.452904 \r\nL 185.419783 95.244668 \r\nL 175.976365 93.654485 \r\nz\r\n\" style=\"fill:#e97a5f;fill-opacity:0.8;\"/>\r\n    <path clip-path=\"url(#p362f777379)\" d=\"M 182.031217 177.646778 \r\nL 191.695761 188.92904 \r\nL 198.169894 180.63638 \r\nL 188.354507 159.771794 \r\nz\r\n\" style=\"fill:#a1c0ff;fill-opacity:0.8;\"/>\r\n    <path clip-path=\"url(#p362f777379)\" d=\"M 178.797614 98.452904 \r\nL 188.440804 107.448284 \r\nL 195.097393 109.094486 \r\nL 185.419783 95.244668 \r\nz\r\n\" style=\"fill:#f18d6f;fill-opacity:0.8;\"/>\r\n    <path clip-path=\"url(#p362f777379)\" d=\"M 153.412826 105.837886 \r\nL 162.700421 102.537855 \r\nL 169.329741 96.850017 \r\nL 160.11685 102.609465 \r\nz\r\n\" style=\"fill:#f08b6e;fill-opacity:0.8;\"/>\r\n    <path clip-path=\"url(#p362f777379)\" d=\"M 319.712386 124.574828 \r\nL 329.324152 131.116888 \r\nL 335.256404 130.204262 \r\nL 325.606806 126.122487 \r\nz\r\n\" style=\"fill:#f4c6af;fill-opacity:0.8;\"/>\r\n    <path clip-path=\"url(#p362f777379)\" d=\"M 108.370375 85.39753 \r\nL 118.07349 94.402992 \r\nL 124.718063 86.284105 \r\nL 115.156282 79.768317 \r\nz\r\n\" style=\"fill:#d95847;fill-opacity:0.8;\"/>\r\n    <path clip-path=\"url(#p362f777379)\" d=\"M 118.07349 94.402992 \r\nL 127.656195 100.934078 \r\nL 134.184203 90.33494 \r\nL 124.718063 86.284105 \r\nz\r\n\" style=\"fill:#e46e56;fill-opacity:0.8;\"/>\r\n    <path clip-path=\"url(#p362f777379)\" d=\"M 277.905215 140.840341 \r\nL 288.066906 118.093545 \r\nL 294.084332 124.584004 \r\nL 283.887733 149.471491 \r\nz\r\n\" style=\"fill:#f0cdbb;fill-opacity:0.8;\"/>\r\n    <path clip-path=\"url(#p362f777379)\" d=\"M 329.324152 131.116888 \r\nL 339.035388 135.228285 \r\nL 344.925923 134.294464 \r\nL 335.256404 130.204262 \r\nz\r\n\" style=\"fill:#f1ccb8;fill-opacity:0.8;\"/>\r\n    <path clip-path=\"url(#p362f777379)\" d=\"M 127.656195 100.934078 \r\nL 137.145877 105.008863 \r\nL 143.846335 99.318889 \r\nL 134.184203 90.33494 \r\nz\r\n\" style=\"fill:#ec7f63;fill-opacity:0.8;\"/>\r\n    <path clip-path=\"url(#p362f777379)\" d=\"M 184.890773 125.510096 \r\nL 194.937516 156.320482 \r\nL 201.402148 148.098893 \r\nL 191.566474 124.62071 \r\nz\r\n\" style=\"fill:#ebd3c6;fill-opacity:0.8;\"/>\r\n    <path clip-path=\"url(#p362f777379)\" d=\"M 191.695761 188.92904 \r\nL 200.921111 171.577566 \r\nL 207.576573 175.249148 \r\nL 198.169894 180.63638 \r\nz\r\n\" style=\"fill:#9fbfff;fill-opacity:0.8;\"/>\r\n    <path clip-path=\"url(#p362f777379)\" d=\"M 137.145877 105.008863 \r\nL 146.655243 109.0921 \r\nL 153.412826 105.837886 \r\nL 143.846335 99.318889 \r\nz\r\n\" style=\"fill:#f18f71;fill-opacity:0.8;\"/>\r\n    <path clip-path=\"url(#p362f777379)\" d=\"M 354.727952 135.96925 \r\nL 364.691363 135.218982 \r\nL 370.838597 126.995615 \r\nL 360.877837 127.768441 \r\nz\r\n\" style=\"fill:#f2cab5;fill-opacity:0.8;\"/>\r\n    <path clip-path=\"url(#p362f777379)\" d=\"M 339.035388 135.228285 \r\nL 348.659512 141.77855 \r\nL 354.727952 135.96925 \r\nL 344.925923 134.294464 \r\nz\r\n\" style=\"fill:#eed0c0;fill-opacity:0.8;\"/>\r\n    <path clip-path=\"url(#p362f777379)\" d=\"M 181.652806 103.309053 \r\nL 191.566474 124.62071 \r\nL 198.212752 126.168184 \r\nL 188.440804 107.448284 \r\nz\r\n\" style=\"fill:#f7a889;fill-opacity:0.8;\"/>\r\n    <path clip-path=\"url(#p362f777379)\" d=\"M 175.439988 183.580675 \r\nL 184.850955 180.571933 \r\nL 191.695761 188.92904 \r\nL 182.031217 177.646778 \r\nz\r\n\" style=\"fill:#9abbff;fill-opacity:0.8;\"/>\r\n    <path clip-path=\"url(#p362f777379)\" d=\"M 294.084332 124.584004 \r\nL 304.081301 116.429139 \r\nL 310.032004 120.479053 \r\nL 300.189571 123.70359 \r\nz\r\n\" style=\"fill:#f7b497;fill-opacity:0.8;\"/>\r\n    <path clip-path=\"url(#p362f777379)\" d=\"M 146.655243 109.0921 \r\nL 156.107588 110.724451 \r\nL 162.700421 102.537855 \r\nL 153.412826 105.837886 \r\nz\r\n\" style=\"fill:#f29274;fill-opacity:0.8;\"/>\r\n    <path clip-path=\"url(#p362f777379)\" d=\"M 111.162035 97.617435 \r\nL 120.782523 104.174926 \r\nL 127.656195 100.934078 \r\nL 118.07349 94.402992 \r\nz\r\n\" style=\"fill:#e97a5f;fill-opacity:0.8;\"/>\r\n    <path clip-path=\"url(#p362f777379)\" d=\"M 162.700421 102.537855 \r\nL 171.999008 96.732365 \r\nL 178.797614 98.452904 \r\nL 169.329741 96.850017 \r\nz\r\n\" style=\"fill:#e9785d;fill-opacity:0.8;\"/>\r\n    <path clip-path=\"url(#p362f777379)\" d=\"M 207.576573 175.249148 \r\nL 217.000448 160.144395 \r\nL 223.520772 156.664307 \r\nL 214.078095 171.739094 \r\nz\r\n\" style=\"fill:#c0d4f5;fill-opacity:0.8;\"/>\r\n    <path clip-path=\"url(#p362f777379)\" d=\"M 101.414009 88.578713 \r\nL 111.162035 97.617435 \r\nL 118.07349 94.402992 \r\nL 108.370375 85.39753 \r\nz\r\n\" style=\"fill:#de614d;fill-opacity:0.8;\"/>\r\n    <path clip-path=\"url(#p362f777379)\" d=\"M 348.659512 141.77855 \r\nL 358.635371 141.043167 \r\nL 364.691363 135.218982 \r\nL 354.727952 135.96925 \r\nz\r\n\" style=\"fill:#eed0c0;fill-opacity:0.8;\"/>\r\n    <path clip-path=\"url(#p362f777379)\" d=\"M 120.782523 104.174926 \r\nL 130.303075 108.269408 \r\nL 137.145877 105.008863 \r\nL 127.656195 100.934078 \r\nz\r\n\" style=\"fill:#ef886b;fill-opacity:0.8;\"/>\r\n    <path clip-path=\"url(#p362f777379)\" d=\"M 165.766155 174.633764 \r\nL 175.439988 183.580675 \r\nL 182.031217 177.646778 \r\nL 171.900675 149.404917 \r\nz\r\n\" style=\"fill:#b6cefa;fill-opacity:0.8;\"/>\r\n    <path clip-path=\"url(#p362f777379)\" d=\"M 178.204485 128.870255 \r\nL 188.354507 159.771794 \r\nL 194.937516 156.320482 \r\nL 184.890773 125.510096 \r\nz\r\n\" style=\"fill:#ead5c9;fill-opacity:0.8;\"/>\r\n    <path clip-path=\"url(#p362f777379)\" d=\"M 130.303075 108.269408 \r\nL 139.843454 112.372416 \r\nL 146.655243 109.0921 \r\nL 137.145877 105.008863 \r\nz\r\n\" style=\"fill:#f29274;fill-opacity:0.8;\"/>\r\n    <path clip-path=\"url(#p362f777379)\" d=\"M 171.999008 96.732365 \r\nL 181.652806 103.309053 \r\nL 188.440804 107.448284 \r\nL 178.797614 98.452904 \r\nz\r\n\" style=\"fill:#eb7d62;fill-opacity:0.8;\"/>\r\n    <path clip-path=\"url(#p362f777379)\" d=\"M 304.081301 116.429139 \r\nL 313.748012 123.008802 \r\nL 319.712386 124.574828 \r\nL 310.032004 120.479053 \r\nz\r\n\" style=\"fill:#f7af91;fill-opacity:0.8;\"/>\r\n    <path clip-path=\"url(#p362f777379)\" d=\"M 313.748012 123.008802 \r\nL 323.332933 132.038585 \r\nL 329.324152 131.116888 \r\nL 319.712386 124.574828 \r\nz\r\n\" style=\"fill:#f6bda2;fill-opacity:0.8;\"/>\r\n    <path clip-path=\"url(#p362f777379)\" d=\"M 323.332933 132.038585 \r\nL 333.086239 136.171399 \r\nL 339.035388 135.228285 \r\nL 329.324152 131.116888 \r\nz\r\n\" style=\"fill:#f3c7b1;fill-opacity:0.8;\"/>\r\n    <path clip-path=\"url(#p362f777379)\" d=\"M 223.520772 156.664307 \r\nL 233.132322 143.777846 \r\nL 239.603103 147.661169 \r\nL 230.025724 167.606512 \r\nz\r\n\" style=\"fill:#d9dce1;fill-opacity:0.8;\"/>\r\n    <path clip-path=\"url(#p362f777379)\" d=\"M 171.900675 149.404917 \r\nL 182.031217 177.646778 \r\nL 188.354507 159.771794 \r\nL 178.204485 128.870255 \r\nz\r\n\" style=\"fill:#d9dce1;fill-opacity:0.8;\"/>\r\n    <path clip-path=\"url(#p362f777379)\" d=\"M 333.086239 136.171399 \r\nL 342.757756 142.754333 \r\nL 348.659512 141.77855 \r\nL 339.035388 135.228285 \r\nz\r\n\" style=\"fill:#efcebd;fill-opacity:0.8;\"/>\r\n    <path clip-path=\"url(#p362f777379)\" d=\"M 139.843454 112.372416 \r\nL 149.320136 114.017901 \r\nL 156.107588 110.724451 \r\nL 146.655243 109.0921 \r\nz\r\n\" style=\"fill:#f39577;fill-opacity:0.8;\"/>\r\n    <path clip-path=\"url(#p362f777379)\" d=\"M 156.107588 110.724451 \r\nL 165.461687 107.423724 \r\nL 171.999008 96.732365 \r\nL 162.700421 102.537855 \r\nz\r\n\" style=\"fill:#ec8165;fill-opacity:0.8;\"/>\r\n    <path clip-path=\"url(#p362f777379)\" d=\"M 239.603103 147.661169 \r\nL 249.373568 129.760923 \r\nL 255.694787 141.080753 \r\nL 245.949207 161.093391 \r\nz\r\n\" style=\"fill:#e9d5cb;fill-opacity:0.8;\"/>\r\n    <path clip-path=\"url(#p362f777379)\" d=\"M 255.694787 141.080753 \r\nL 265.621313 123.118004 \r\nL 271.783453 134.50157 \r\nL 261.918042 149.777683 \r\nz\r\n\" style=\"fill:#f2cbb7;fill-opacity:0.8;\"/>\r\n    <path clip-path=\"url(#p362f777379)\" d=\"M 113.971216 109.914031 \r\nL 123.622127 116.493119 \r\nL 130.303075 108.269408 \r\nL 120.782523 104.174926 \r\nz\r\n\" style=\"fill:#f18f71;fill-opacity:0.8;\"/>\r\n    <path clip-path=\"url(#p362f777379)\" d=\"M 342.757756 142.754333 \r\nL 352.542325 146.902988 \r\nL 358.635371 141.043167 \r\nL 348.659512 141.77855 \r\nz\r\n\" style=\"fill:#ecd3c5;fill-opacity:0.8;\"/>\r\n    <path clip-path=\"url(#p362f777379)\" d=\"M 104.067931 98.374624 \r\nL 113.971216 109.914031 \r\nL 120.782523 104.174926 \r\nL 111.162035 97.617435 \r\nz\r\n\" style=\"fill:#e97a5f;fill-opacity:0.8;\"/>\r\n    <path clip-path=\"url(#p362f777379)\" d=\"M 184.850955 180.571933 \r\nL 194.091487 162.984659 \r\nL 200.921111 171.577566 \r\nL 191.695761 188.92904 \r\nz\r\n\" style=\"fill:#b2ccfb;fill-opacity:0.8;\"/>\r\n    <path clip-path=\"url(#p362f777379)\" d=\"M 174.889492 104.096989 \r\nL 184.890773 125.510096 \r\nL 191.566474 124.62071 \r\nL 181.652806 103.309053 \r\nz\r\n\" style=\"fill:#f49a7b;fill-opacity:0.8;\"/>\r\n    <path clip-path=\"url(#p362f777379)\" d=\"M 158.801788 170.946944 \r\nL 168.352214 172.716425 \r\nL 175.439988 183.580675 \r\nL 165.766155 174.633764 \r\nz\r\n\" style=\"fill:#b5cdfa;fill-opacity:0.8;\"/>\r\n    <path clip-path=\"url(#p362f777379)\" d=\"M 123.622127 116.493119 \r\nL 133.076274 118.148606 \r\nL 139.843454 112.372416 \r\nL 130.303075 108.269408 \r\nz\r\n\" style=\"fill:#f4987a;fill-opacity:0.8;\"/>\r\n    <path clip-path=\"url(#p362f777379)\" d=\"M 271.783453 134.50157 \r\nL 281.909967 113.990649 \r\nL 288.066906 118.093545 \r\nL 277.905215 140.840341 \r\nz\r\n\" style=\"fill:#f7b79b;fill-opacity:0.8;\"/>\r\n    <path clip-path=\"url(#p362f777379)\" d=\"M 94.128146 86.792686 \r\nL 104.067931 98.374624 \r\nL 111.162035 97.617435 \r\nL 101.414009 88.578713 \r\nz\r\n\" style=\"fill:#d95847;fill-opacity:0.8;\"/>\r\n    <path clip-path=\"url(#p362f777379)\" d=\"M 288.066906 118.093545 \r\nL 297.988523 114.805276 \r\nL 304.081301 116.429139 \r\nL 294.084332 124.584004 \r\nz\r\n\" style=\"fill:#f6a283;fill-opacity:0.8;\"/>\r\n    <path clip-path=\"url(#p362f777379)\" d=\"M 200.921111 171.577566 \r\nL 210.351982 156.335521 \r\nL 217.000448 160.144395 \r\nL 207.576573 175.249148 \r\nz\r\n\" style=\"fill:#cad8ef;fill-opacity:0.8;\"/>\r\n    <path clip-path=\"url(#p362f777379)\" d=\"M 155.533849 148.697937 \r\nL 165.766155 174.633764 \r\nL 171.900675 149.404917 \r\nL 162.027513 135.481413 \r\nz\r\n\" style=\"fill:#e1dad6;fill-opacity:0.8;\"/>\r\n    <path clip-path=\"url(#p362f777379)\" d=\"M 149.320136 114.017901 \r\nL 158.685231 110.716833 \r\nL 165.461687 107.423724 \r\nL 156.107588 110.724451 \r\nz\r\n\" style=\"fill:#f18d6f;fill-opacity:0.8;\"/>\r\n    <path clip-path=\"url(#p362f777379)\" d=\"M 165.461687 107.423724 \r\nL 174.889492 104.096989 \r\nL 181.652806 103.309053 \r\nL 171.999008 96.732365 \r\nz\r\n\" style=\"fill:#e8765c;fill-opacity:0.8;\"/>\r\n    <path clip-path=\"url(#p362f777379)\" d=\"M 133.076274 118.148606 \r\nL 142.568426 119.810748 \r\nL 149.320136 114.017901 \r\nL 139.843454 112.372416 \r\nz\r\n\" style=\"fill:#f49a7b;fill-opacity:0.8;\"/>\r\n    <path clip-path=\"url(#p362f777379)\" d=\"M 106.993594 113.214079 \r\nL 116.798083 122.288041 \r\nL 123.622127 116.493119 \r\nL 113.971216 109.914031 \r\nz\r\n\" style=\"fill:#f4987a;fill-opacity:0.8;\"/>\r\n    <path clip-path=\"url(#p362f777379)\" d=\"M 148.784677 154.611647 \r\nL 158.801788 170.946944 \r\nL 165.766155 174.633764 \r\nL 155.533849 148.697937 \r\nz\r\n\" style=\"fill:#d3dbe7;fill-opacity:0.8;\"/>\r\n    <path clip-path=\"url(#p362f777379)\" d=\"M 168.352214 172.716425 \r\nL 177.71425 164.758232 \r\nL 184.850955 180.571933 \r\nL 175.439988 183.580675 \r\nz\r\n\" style=\"fill:#bad0f8;fill-opacity:0.8;\"/>\r\n    <path clip-path=\"url(#p362f777379)\" d=\"M 116.798083 122.288041 \r\nL 126.373673 126.426945 \r\nL 133.076274 118.148606 \r\nL 123.622127 116.493119 \r\nz\r\n\" style=\"fill:#f6a385;fill-opacity:0.8;\"/>\r\n    <path clip-path=\"url(#p362f777379)\" d=\"M 317.359836 130.509114 \r\nL 327.077597 137.123944 \r\nL 333.086239 136.171399 \r\nL 323.332933 132.038585 \r\nz\r\n\" style=\"fill:#f6bfa6;fill-opacity:0.8;\"/>\r\n    <path clip-path=\"url(#p362f777379)\" d=\"M 307.71243 121.42408 \r\nL 317.359836 130.509114 \r\nL 323.332933 132.038585 \r\nL 313.748012 123.008802 \r\nz\r\n\" style=\"fill:#f7b194;fill-opacity:0.8;\"/>\r\n    <path clip-path=\"url(#p362f777379)\" d=\"M 327.077597 137.123944 \r\nL 336.796976 143.739876 \r\nL 342.757756 142.754333 \r\nL 333.086239 136.171399 \r\nz\r\n\" style=\"fill:#f2cab5;fill-opacity:0.8;\"/>\r\n    <path clip-path=\"url(#p362f777379)\" d=\"M 297.988523 114.805276 \r\nL 307.71243 121.42408 \r\nL 313.748012 123.008802 \r\nL 304.081301 116.429139 \r\nz\r\n\" style=\"fill:#f59d7e;fill-opacity:0.8;\"/>\r\n    <path clip-path=\"url(#p362f777379)\" d=\"M 96.902771 99.139396 \r\nL 106.993594 113.214079 \r\nL 113.971216 109.914031 \r\nL 104.067931 98.374624 \r\nz\r\n\" style=\"fill:#e9785d;fill-opacity:0.8;\"/>\r\n    <path clip-path=\"url(#p362f777379)\" d=\"M 336.796976 143.739876 \r\nL 346.624272 147.910331 \r\nL 352.542325 146.902988 \r\nL 342.757756 142.754333 \r\nz\r\n\" style=\"fill:#eed0c0;fill-opacity:0.8;\"/>\r\n    <path clip-path=\"url(#p362f777379)\" d=\"M 217.000448 160.144395 \r\nL 226.599883 147.232966 \r\nL 233.132322 143.777846 \r\nL 223.520772 156.664307 \r\nz\r\n\" style=\"fill:#e5d8d1;fill-opacity:0.8;\"/>\r\n    <path clip-path=\"url(#p362f777379)\" d=\"M 142.568426 119.810748 \r\nL 152.261317 126.417656 \r\nL 158.685231 110.716833 \r\nL 149.320136 114.017901 \r\nz\r\n\" style=\"fill:#f49a7b;fill-opacity:0.8;\"/>\r\n    <path clip-path=\"url(#p362f777379)\" d=\"M 162.027513 135.481413 \r\nL 171.900675 149.404917 \r\nL 178.204485 128.870255 \r\nL 168.124417 107.38965 \r\nz\r\n\" style=\"fill:#f7b79b;fill-opacity:0.8;\"/>\r\n    <path clip-path=\"url(#p362f777379)\" d=\"M 168.124417 107.38965 \r\nL 178.204485 128.870255 \r\nL 184.890773 125.510096 \r\nL 174.889492 104.096989 \r\nz\r\n\" style=\"fill:#f39577;fill-opacity:0.8;\"/>\r\n    <path clip-path=\"url(#p362f777379)\" d=\"M 145.585114 134.730798 \r\nL 155.533849 148.697937 \r\nL 162.027513 135.481413 \r\nL 152.261317 126.417656 \r\nz\r\n\" style=\"fill:#f5c1a9;fill-opacity:0.8;\"/>\r\n    <path clip-path=\"url(#p362f777379)\" d=\"M 126.373673 126.426945 \r\nL 135.775164 125.639245 \r\nL 142.568426 119.810748 \r\nL 133.076274 118.148606 \r\nz\r\n\" style=\"fill:#f6a385;fill-opacity:0.8;\"/>\r\n    <path clip-path=\"url(#p362f777379)\" d=\"M 158.685231 110.716833 \r\nL 168.124417 107.38965 \r\nL 174.889492 104.096989 \r\nL 165.461687 107.423724 \r\nz\r\n\" style=\"fill:#e97a5f;fill-opacity:0.8;\"/>\r\n    <path clip-path=\"url(#p362f777379)\" d=\"M 152.261317 126.417656 \r\nL 162.027513 135.481413 \r\nL 168.124417 107.38965 \r\nL 158.685231 110.716833 \r\nz\r\n\" style=\"fill:#f59c7d;fill-opacity:0.8;\"/>\r\n    <path clip-path=\"url(#p362f777379)\" d=\"M 135.775164 125.639245 \r\nL 145.585114 134.730798 \r\nL 152.261317 126.417656 \r\nL 142.568426 119.810748 \r\nz\r\n\" style=\"fill:#f7ac8e;fill-opacity:0.8;\"/>\r\n    <path clip-path=\"url(#p362f777379)\" d=\"M 86.609841 82.464874 \r\nL 96.902771 99.139396 \r\nL 104.067931 98.374624 \r\nL 94.128146 86.792686 \r\nz\r\n\" style=\"fill:#cf453c;fill-opacity:0.8;\"/>\r\n    <path clip-path=\"url(#p362f777379)\" d=\"M 138.786217 140.618123 \r\nL 148.784677 154.611647 \r\nL 155.533849 148.697937 \r\nL 145.585114 134.730798 \r\nz\r\n\" style=\"fill:#f1ccb8;fill-opacity:0.8;\"/>\r\n    <path clip-path=\"url(#p362f777379)\" d=\"M 233.132322 143.777846 \r\nL 242.901284 128.203895 \r\nL 249.373568 129.760923 \r\nL 239.603103 147.661169 \r\nz\r\n\" style=\"fill:#f6bfa6;fill-opacity:0.8;\"/>\r\n    <path clip-path=\"url(#p362f777379)\" d=\"M 99.562345 109.068897 \r\nL 109.44168 118.209709 \r\nL 116.798083 122.288041 \r\nL 106.993594 113.214079 \r\nz\r\n\" style=\"fill:#f18d6f;fill-opacity:0.8;\"/>\r\n    <path clip-path=\"url(#p362f777379)\" d=\"M 109.44168 118.209709 \r\nL 119.07626 122.373163 \r\nL 126.373673 126.426945 \r\nL 116.798083 122.288041 \r\nz\r\n\" style=\"fill:#f59d7e;fill-opacity:0.8;\"/>\r\n    <path clip-path=\"url(#p362f777379)\" d=\"M 281.909967 113.990649 \r\nL 291.822573 113.16191 \r\nL 297.988523 114.805276 \r\nL 288.066906 118.093545 \r\nz\r\n\" style=\"fill:#f08b6e;fill-opacity:0.8;\"/>\r\n    <path clip-path=\"url(#p362f777379)\" d=\"M 320.926661 140.551659 \r\nL 330.684913 147.194688 \r\nL 336.796976 143.739876 \r\nL 327.077597 137.123944 \r\nz\r\n\" style=\"fill:#f3c7b1;fill-opacity:0.8;\"/>\r\n    <path clip-path=\"url(#p362f777379)\" d=\"M 265.621313 123.118004 \r\nL 275.590439 114.839677 \r\nL 281.909967 113.990649 \r\nL 271.783453 134.50157 \r\nz\r\n\" style=\"fill:#f59c7d;fill-opacity:0.8;\"/>\r\n    <path clip-path=\"url(#p362f777379)\" d=\"M 249.373568 129.760923 \r\nL 259.26964 119.025161 \r\nL 265.621313 123.118004 \r\nL 255.694787 141.080753 \r\nz\r\n\" style=\"fill:#f7ac8e;fill-opacity:0.8;\"/>\r\n    <path clip-path=\"url(#p362f777379)\" d=\"M 311.242481 131.437913 \r\nL 320.926661 140.551659 \r\nL 327.077597 137.123944 \r\nL 317.359836 130.509114 \r\nz\r\n\" style=\"fill:#f7b99e;fill-opacity:0.8;\"/>\r\n    <path clip-path=\"url(#p362f777379)\" d=\"M 301.541134 122.308011 \r\nL 311.242481 131.437913 \r\nL 317.359836 130.509114 \r\nL 307.71243 121.42408 \r\nz\r\n\" style=\"fill:#f7a688;fill-opacity:0.8;\"/>\r\n    <path clip-path=\"url(#p362f777379)\" d=\"M 330.684913 147.194688 \r\nL 340.646672 148.927811 \r\nL 346.624272 147.910331 \r\nL 336.796976 143.739876 \r\nz\r\n\" style=\"fill:#f0cdbb;fill-opacity:0.8;\"/>\r\n    <path clip-path=\"url(#p362f777379)\" d=\"M 194.091487 162.984659 \r\nL 203.610429 152.473318 \r\nL 210.351982 156.335521 \r\nL 200.921111 171.577566 \r\nz\r\n\" style=\"fill:#dddcdc;fill-opacity:0.8;\"/>\r\n    <path clip-path=\"url(#p362f777379)\" d=\"M 119.07626 122.373163 \r\nL 128.835669 129.026968 \r\nL 135.775164 125.639245 \r\nL 126.373673 126.426945 \r\nz\r\n\" style=\"fill:#f6a385;fill-opacity:0.8;\"/>\r\n    <path clip-path=\"url(#p362f777379)\" d=\"M 128.835669 129.026968 \r\nL 138.786217 140.618123 \r\nL 145.585114 134.730798 \r\nL 135.775164 125.639245 \r\nz\r\n\" style=\"fill:#f7b396;fill-opacity:0.8;\"/>\r\n    <path clip-path=\"url(#p362f777379)\" d=\"M 89.522849 97.400428 \r\nL 99.562345 109.068897 \r\nL 106.993594 113.214079 \r\nL 96.902771 99.139396 \r\nz\r\n\" style=\"fill:#e26952;fill-opacity:0.8;\"/>\r\n    <path clip-path=\"url(#p362f777379)\" d=\"M 291.822573 113.16191 \r\nL 301.541134 122.308011 \r\nL 307.71243 121.42408 \r\nL 297.988523 114.805276 \r\nz\r\n\" style=\"fill:#f18f71;fill-opacity:0.8;\"/>\r\n    <path clip-path=\"url(#p362f777379)\" d=\"M 210.351982 156.335521 \r\nL 219.982289 145.779273 \r\nL 226.599883 147.232966 \r\nL 217.000448 160.144395 \r\nz\r\n\" style=\"fill:#ebd3c6;fill-opacity:0.8;\"/>\r\n    <path clip-path=\"url(#p362f777379)\" d=\"M 141.626503 150.745149 \r\nL 151.493606 159.872196 \r\nL 158.801788 170.946944 \r\nL 148.784677 154.611647 \r\nz\r\n\" style=\"fill:#e1dad6;fill-opacity:0.8;\"/>\r\n    <path clip-path=\"url(#p362f777379)\" d=\"M 177.71425 164.758232 \r\nL 187.091189 151.764897 \r\nL 194.091487 162.984659 \r\nL 184.850955 180.571933 \r\nz\r\n\" style=\"fill:#d8dce2;fill-opacity:0.8;\"/>\r\n    <path clip-path=\"url(#p362f777379)\" d=\"M 151.493606 159.872196 \r\nL 160.903276 154.247359 \r\nL 168.352214 172.716425 \r\nL 158.801788 170.946944 \r\nz\r\n\" style=\"fill:#d9dce1;fill-opacity:0.8;\"/>\r\n    <path clip-path=\"url(#p362f777379)\" d=\"M 131.741849 141.601868 \r\nL 141.626503 150.745149 \r\nL 148.784677 154.611647 \r\nL 138.786217 140.618123 \r\nz\r\n\" style=\"fill:#f2cab5;fill-opacity:0.8;\"/>\r\n    <path clip-path=\"url(#p362f777379)\" d=\"M 79.292943 83.156044 \r\nL 89.522849 97.400428 \r\nL 96.902771 99.139396 \r\nL 86.609841 82.464874 \r\nz\r\n\" style=\"fill:#c32e31;fill-opacity:0.8;\"/>\r\n    <path clip-path=\"url(#p362f777379)\" d=\"M 304.929885 137.338038 \r\nL 314.725676 144.007266 \r\nL 320.926661 140.551659 \r\nL 311.242481 131.437913 \r\nz\r\n\" style=\"fill:#f7b99e;fill-opacity:0.8;\"/>\r\n    <path clip-path=\"url(#p362f777379)\" d=\"M 314.725676 144.007266 \r\nL 324.608856 148.211624 \r\nL 330.684913 147.194688 \r\nL 320.926661 140.551659 \r\nz\r\n\" style=\"fill:#f4c6af;fill-opacity:0.8;\"/>\r\n    <path clip-path=\"url(#p362f777379)\" d=\"M 226.599883 147.232966 \r\nL 236.350787 131.626017 \r\nL 242.901284 128.203895 \r\nL 233.132322 143.777846 \r\nz\r\n\" style=\"fill:#f7b89c;fill-opacity:0.8;\"/>\r\n    <path clip-path=\"url(#p362f777379)\" d=\"M 295.250101 125.695413 \r\nL 304.929885 137.338038 \r\nL 311.242481 131.437913 \r\nL 301.541134 122.308011 \r\nz\r\n\" style=\"fill:#f6a385;fill-opacity:0.8;\"/>\r\n    <path clip-path=\"url(#p362f777379)\" d=\"M 275.590439 114.839677 \r\nL 285.438513 119.015854 \r\nL 291.822573 113.16191 \r\nL 281.909967 113.990649 \r\nz\r\n\" style=\"fill:#ec7f63;fill-opacity:0.8;\"/>\r\n    <path clip-path=\"url(#p362f777379)\" d=\"M 121.72785 129.953949 \r\nL 131.741849 141.601868 \r\nL 138.786217 140.618123 \r\nL 128.835669 129.026968 \r\nz\r\n\" style=\"fill:#f7b194;fill-opacity:0.8;\"/>\r\n    <path clip-path=\"url(#p362f777379)\" d=\"M 324.608856 148.211624 \r\nL 334.704471 147.481455 \r\nL 340.646672 148.927811 \r\nL 330.684913 147.194688 \r\nz\r\n\" style=\"fill:#f3c8b2;fill-opacity:0.8;\"/>\r\n    <path clip-path=\"url(#p362f777379)\" d=\"M 285.438513 119.015854 \r\nL 295.250101 125.695413 \r\nL 301.541134 122.308011 \r\nL 291.822573 113.16191 \r\nz\r\n\" style=\"fill:#f08b6e;fill-opacity:0.8;\"/>\r\n    <path clip-path=\"url(#p362f777379)\" d=\"M 259.26964 119.025161 \r\nL 269.142863 120.710821 \r\nL 275.590439 114.839677 \r\nL 265.621313 123.118004 \r\nz\r\n\" style=\"fill:#ef886b;fill-opacity:0.8;\"/>\r\n    <path clip-path=\"url(#p362f777379)\" d=\"M 160.903276 154.247359 \r\nL 170.40688 148.56637 \r\nL 177.71425 164.758232 \r\nL 168.352214 172.716425 \r\nz\r\n\" style=\"fill:#e6d7cf;fill-opacity:0.8;\"/>\r\n    <path clip-path=\"url(#p362f777379)\" d=\"M 242.901284 128.203895 \r\nL 252.780345 122.412743 \r\nL 259.26964 119.025161 \r\nL 249.373568 129.760923 \r\nz\r\n\" style=\"fill:#f39577;fill-opacity:0.8;\"/>\r\n    <path clip-path=\"url(#p362f777379)\" d=\"M 111.676406 118.262474 \r\nL 121.72785 129.953949 \r\nL 128.835669 129.026968 \r\nL 119.07626 122.373163 \r\nz\r\n\" style=\"fill:#f39577;fill-opacity:0.8;\"/>\r\n    <path clip-path=\"url(#p362f777379)\" d=\"M 92.026794 104.865535 \r\nL 101.850771 111.56344 \r\nL 109.44168 118.209709 \r\nL 99.562345 109.068897 \r\nz\r\n\" style=\"fill:#e46e56;fill-opacity:0.8;\"/>\r\n    <path clip-path=\"url(#p362f777379)\" d=\"M 101.850771 111.56344 \r\nL 111.676406 118.262474 \r\nL 119.07626 122.373163 \r\nL 109.44168 118.209709 \r\nz\r\n\" style=\"fill:#ec8165;fill-opacity:0.8;\"/>\r\n    <path clip-path=\"url(#p362f777379)\" d=\"M 298.63875 140.794341 \r\nL 308.40376 149.965248 \r\nL 314.725676 144.007266 \r\nL 304.929885 137.338038 \r\nz\r\n\" style=\"fill:#f6bda2;fill-opacity:0.8;\"/>\r\n    <path clip-path=\"url(#p362f777379)\" d=\"M 82.053683 95.640431 \r\nL 92.026794 104.865535 \r\nL 99.562345 109.068897 \r\nL 89.522849 97.400428 \r\nz\r\n\" style=\"fill:#d44e41;fill-opacity:0.8;\"/>\r\n    <path clip-path=\"url(#p362f777379)\" d=\"M 203.610429 152.473318 \r\nL 213.28446 144.307955 \r\nL 219.982289 145.779273 \r\nL 210.351982 156.335521 \r\nz\r\n\" style=\"fill:#f3c8b2;fill-opacity:0.8;\"/>\r\n    <path clip-path=\"url(#p362f777379)\" d=\"M 308.40376 149.965248 \r\nL 318.390986 151.716356 \r\nL 324.608856 148.211624 \r\nL 314.725676 144.007266 \r\nz\r\n\" style=\"fill:#f4c6af;fill-opacity:0.8;\"/>\r\n    <path clip-path=\"url(#p362f777379)\" d=\"M 288.856304 131.60706 \r\nL 298.63875 140.794341 \r\nL 304.929885 137.338038 \r\nL 295.250101 125.695413 \r\nz\r\n\" style=\"fill:#f7a889;fill-opacity:0.8;\"/>\r\n    <path clip-path=\"url(#p362f777379)\" d=\"M 269.142863 120.710821 \r\nL 279.014731 124.906222 \r\nL 285.438513 119.015854 \r\nL 275.590439 114.839677 \r\nz\r\n\" style=\"fill:#ee8468;fill-opacity:0.8;\"/>\r\n    <path clip-path=\"url(#p362f777379)\" d=\"M 187.091189 151.764897 \r\nL 196.773819 148.556658 \r\nL 203.610429 152.473318 \r\nL 194.091487 162.984659 \r\nz\r\n\" style=\"fill:#f0cdbb;fill-opacity:0.8;\"/>\r\n    <path clip-path=\"url(#p362f777379)\" d=\"M 219.982289 145.779273 \r\nL 229.746507 135.076237 \r\nL 236.350787 131.626017 \r\nL 226.599883 147.232966 \r\nz\r\n\" style=\"fill:#f7b497;fill-opacity:0.8;\"/>\r\n    <path clip-path=\"url(#p362f777379)\" d=\"M 279.014731 124.906222 \r\nL 288.856304 131.60706 \r\nL 295.250101 125.695413 \r\nL 285.438513 119.015854 \r\nz\r\n\" style=\"fill:#f29274;fill-opacity:0.8;\"/>\r\n    <path clip-path=\"url(#p362f777379)\" d=\"M 71.901731 83.854233 \r\nL 82.053683 95.640431 \r\nL 89.522849 97.400428 \r\nL 79.292943 83.156044 \r\nz\r\n\" style=\"fill:#b70d28;fill-opacity:0.8;\"/>\r\n    <path clip-path=\"url(#p362f777379)\" d=\"M 134.367601 146.824244 \r\nL 144.129925 151.061904 \r\nL 151.493606 159.872196 \r\nL 141.626503 150.745149 \r\nz\r\n\" style=\"fill:#f2cab5;fill-opacity:0.8;\"/>\r\n    <path clip-path=\"url(#p362f777379)\" d=\"M 124.51654 140.106767 \r\nL 134.367601 146.824244 \r\nL 141.626503 150.745149 \r\nL 131.741849 141.601868 \r\nz\r\n\" style=\"fill:#f6bda2;fill-opacity:0.8;\"/>\r\n    <path clip-path=\"url(#p362f777379)\" d=\"M 318.390986 151.716356 \r\nL 328.419024 153.474619 \r\nL 334.704471 147.481455 \r\nL 324.608856 148.211624 \r\nz\r\n\" style=\"fill:#f4c6af;fill-opacity:0.8;\"/>\r\n    <path clip-path=\"url(#p362f777379)\" d=\"M 252.780345 122.412743 \r\nL 262.680784 124.11224 \r\nL 269.142863 120.710821 \r\nL 259.26964 119.025161 \r\nz\r\n\" style=\"fill:#ee8468;fill-opacity:0.8;\"/>\r\n    <path clip-path=\"url(#p362f777379)\" d=\"M 114.428218 128.385369 \r\nL 124.51654 140.106767 \r\nL 131.741849 141.601868 \r\nL 121.72785 129.953949 \r\nz\r\n\" style=\"fill:#f7a688;fill-opacity:0.8;\"/>\r\n    <path clip-path=\"url(#p362f777379)\" d=\"M 236.350787 131.626017 \r\nL 246.237722 125.828163 \r\nL 252.780345 122.412743 \r\nL 242.901284 128.203895 \r\nz\r\n\" style=\"fill:#f29274;fill-opacity:0.8;\"/>\r\n    <path clip-path=\"url(#p362f777379)\" d=\"M 144.129925 151.061904 \r\nL 153.750773 150.335107 \r\nL 160.903276 154.247359 \r\nL 151.493606 159.872196 \r\nz\r\n\" style=\"fill:#f2cab5;fill-opacity:0.8;\"/>\r\n    <path clip-path=\"url(#p362f777379)\" d=\"M 292.296008 144.278997 \r\nL 302.171091 151.003525 \r\nL 308.40376 149.965248 \r\nL 298.63875 140.794341 \r\nz\r\n\" style=\"fill:#f6bda2;fill-opacity:0.8;\"/>\r\n    <path clip-path=\"url(#p362f777379)\" d=\"M 170.40688 148.56637 \r\nL 180.116917 147.831285 \r\nL 187.091189 151.764897 \r\nL 177.71425 164.758232 \r\nz\r\n\" style=\"fill:#f3c8b2;fill-opacity:0.8;\"/>\r\n    <path clip-path=\"url(#p362f777379)\" d=\"M 262.680784 124.11224 \r\nL 272.586288 128.328488 \r\nL 279.014731 124.906222 \r\nL 269.142863 120.710821 \r\nz\r\n\" style=\"fill:#ef886b;fill-opacity:0.8;\"/>\r\n    <path clip-path=\"url(#p362f777379)\" d=\"M 302.171091 151.003525 \r\nL 312.122052 155.24987 \r\nL 318.390986 151.716356 \r\nL 308.40376 149.965248 \r\nz\r\n\" style=\"fill:#f4c6af;fill-opacity:0.8;\"/>\r\n    <path clip-path=\"url(#p362f777379)\" d=\"M 282.467718 135.057123 \r\nL 292.296008 144.278997 \r\nL 298.63875 140.794341 \r\nL 288.856304 131.60706 \r\nz\r\n\" style=\"fill:#f7a98b;fill-opacity:0.8;\"/>\r\n    <path clip-path=\"url(#p362f777379)\" d=\"M 272.586288 128.328488 \r\nL 282.467718 135.057123 \r\nL 288.856304 131.60706 \r\nL 279.014731 124.906222 \r\nz\r\n\" style=\"fill:#f39577;fill-opacity:0.8;\"/>\r\n    <path clip-path=\"url(#p362f777379)\" d=\"M 104.171938 114.093672 \r\nL 114.428218 128.385369 \r\nL 121.72785 129.953949 \r\nL 111.676406 118.262474 \r\nz\r\n\" style=\"fill:#ec8165;fill-opacity:0.8;\"/>\r\n    <path clip-path=\"url(#p362f777379)\" d=\"M 74.811604 98.944912 \r\nL 84.683293 105.675839 \r\nL 92.026794 104.865535 \r\nL 82.053683 95.640431 \r\nz\r\n\" style=\"fill:#ca3b37;fill-opacity:0.8;\"/>\r\n    <path clip-path=\"url(#p362f777379)\" d=\"M 84.683293 105.675839 \r\nL 94.277493 107.347643 \r\nL 101.850771 111.56344 \r\nL 92.026794 104.865535 \r\nz\r\n\" style=\"fill:#d55042;fill-opacity:0.8;\"/>\r\n    <path clip-path=\"url(#p362f777379)\" d=\"M 196.773819 148.556658 \r\nL 206.563845 147.821552 \r\nL 213.28446 144.307955 \r\nL 203.610429 152.473318 \r\nz\r\n\" style=\"fill:#f6bda2;fill-opacity:0.8;\"/>\r\n    <path clip-path=\"url(#p362f777379)\" d=\"M 213.28446 144.307955 \r\nL 223.087779 138.554902 \r\nL 229.746507 135.076237 \r\nL 219.982289 145.779273 \r\nz\r\n\" style=\"fill:#f7ad90;fill-opacity:0.8;\"/>\r\n    <path clip-path=\"url(#p362f777379)\" d=\"M 312.122052 155.24987 \r\nL 322.178491 157.022618 \r\nL 328.419024 153.474619 \r\nL 318.390986 151.716356 \r\nz\r\n\" style=\"fill:#f3c7b1;fill-opacity:0.8;\"/>\r\n    <path clip-path=\"url(#p362f777379)\" d=\"M 64.773081 89.668282 \r\nL 74.811604 98.944912 \r\nL 82.053683 95.640431 \r\nL 71.901731 83.854233 \r\nz\r\n\" style=\"fill:#b40426;fill-opacity:0.8;\"/>\r\n    <path clip-path=\"url(#p362f777379)\" d=\"M 94.277493 107.347643 \r\nL 104.171938 114.093672 \r\nL 111.676406 118.262474 \r\nL 101.850771 111.56344 \r\nz\r\n\" style=\"fill:#de614d;fill-opacity:0.8;\"/>\r\n    <path clip-path=\"url(#p362f777379)\" d=\"M 246.237722 125.828163 \r\nL 256.165493 127.54167 \r\nL 262.680784 124.11224 \r\nL 252.780345 122.412743 \r\nz\r\n\" style=\"fill:#ee8468;fill-opacity:0.8;\"/>\r\n    <path clip-path=\"url(#p362f777379)\" d=\"M 229.746507 135.076237 \r\nL 239.63795 131.788524 \r\nL 246.237722 125.828163 \r\nL 236.350787 131.626017 \r\nz\r\n\" style=\"fill:#f39475;fill-opacity:0.8;\"/>\r\n    <path clip-path=\"url(#p362f777379)\" d=\"M 153.750773 150.335107 \r\nL 163.35812 147.101474 \r\nL 170.40688 148.56637 \r\nL 160.903276 154.247359 \r\nz\r\n\" style=\"fill:#f6bda2;fill-opacity:0.8;\"/>\r\n    <path clip-path=\"url(#p362f777379)\" d=\"M 285.901023 147.792355 \r\nL 295.816236 154.544878 \r\nL 302.171091 151.003525 \r\nL 292.296008 144.278997 \r\nz\r\n\" style=\"fill:#f7ba9f;fill-opacity:0.8;\"/>\r\n    <path clip-path=\"url(#p362f777379)\" d=\"M 180.116917 147.831285 \r\nL 189.93204 149.594112 \r\nL 196.773819 148.556658 \r\nL 187.091189 151.764897 \r\nz\r\n\" style=\"fill:#f7ba9f;fill-opacity:0.8;\"/>\r\n    <path clip-path=\"url(#p362f777379)\" d=\"M 256.165493 127.54167 \r\nL 266.104853 131.778966 \r\nL 272.586288 128.328488 \r\nL 262.680784 124.11224 \r\nz\r\n\" style=\"fill:#ef886b;fill-opacity:0.8;\"/>\r\n    <path clip-path=\"url(#p362f777379)\" d=\"M 276.026463 138.53563 \r\nL 285.901023 147.792355 \r\nL 292.296008 144.278997 \r\nL 282.467718 135.057123 \r\nz\r\n\" style=\"fill:#f7a98b;fill-opacity:0.8;\"/>\r\n    <path clip-path=\"url(#p362f777379)\" d=\"M 295.816236 154.544878 \r\nL 305.801423 158.812523 \r\nL 312.122052 155.24987 \r\nL 302.171091 151.003525 \r\nz\r\n\" style=\"fill:#f5c4ac;fill-opacity:0.8;\"/>\r\n    <path clip-path=\"url(#p362f777379)\" d=\"M 266.104853 131.778966 \r\nL 276.026463 138.53563 \r\nL 282.467718 135.057123 \r\nL 272.586288 128.328488 \r\nz\r\n\" style=\"fill:#f39577;fill-opacity:0.8;\"/>\r\n    <path clip-path=\"url(#p362f777379)\" d=\"M 206.563845 147.821552 \r\nL 216.413534 147.081966 \r\nL 223.087779 138.554902 \r\nL 213.28446 144.307955 \r\nz\r\n\" style=\"fill:#f7ad90;fill-opacity:0.8;\"/>\r\n    <path clip-path=\"url(#p362f777379)\" d=\"M 305.801423 158.812523 \r\nL 315.88639 160.599934 \r\nL 322.178491 157.022618 \r\nL 312.122052 155.24987 \r\nz\r\n\" style=\"fill:#f3c7b1;fill-opacity:0.8;\"/>\r\n    <path clip-path=\"url(#p362f777379)\" d=\"M 239.63795 131.788524 \r\nL 249.583334 133.519692 \r\nL 256.165493 127.54167 \r\nL 246.237722 125.828163 \r\nz\r\n\" style=\"fill:#ef886b;fill-opacity:0.8;\"/>\r\n    <path clip-path=\"url(#p362f777379)\" d=\"M 223.087779 138.554902 \r\nL 232.996644 137.786394 \r\nL 239.63795 131.788524 \r\nL 229.746507 135.076237 \r\nz\r\n\" style=\"fill:#f4987a;fill-opacity:0.8;\"/>\r\n    <path clip-path=\"url(#p362f777379)\" d=\"M 189.93204 149.594112 \r\nL 199.787642 151.36421 \r\nL 206.563845 147.821552 \r\nL 196.773819 148.556658 \r\nz\r\n\" style=\"fill:#f7b79b;fill-opacity:0.8;\"/>\r\n    <path clip-path=\"url(#p362f777379)\" d=\"M 163.35812 147.101474 \r\nL 173.168733 148.868198 \r\nL 180.116917 147.831285 \r\nL 170.40688 148.56637 \r\nz\r\n\" style=\"fill:#f7b396;fill-opacity:0.8;\"/>\r\n    <path clip-path=\"url(#p362f777379)\" d=\"M 249.583334 133.519692 \r\nL 259.546902 137.776738 \r\nL 266.104853 131.778966 \r\nL 256.165493 127.54167 \r\nz\r\n\" style=\"fill:#f18d6f;fill-opacity:0.8;\"/>\r\n    <path clip-path=\"url(#p362f777379)\" d=\"M 279.453145 151.334772 \r\nL 289.408815 158.115524 \r\nL 295.816236 154.544878 \r\nL 285.901023 147.792355 \r\nz\r\n\" style=\"fill:#f7ba9f;fill-opacity:0.8;\"/>\r\n    <path clip-path=\"url(#p362f777379)\" d=\"M 269.499175 144.555176 \r\nL 279.453145 151.334772 \r\nL 285.901023 147.792355 \r\nL 276.026463 138.53563 \r\nz\r\n\" style=\"fill:#f7ac8e;fill-opacity:0.8;\"/>\r\n    <path clip-path=\"url(#p362f777379)\" d=\"M 259.546902 137.776738 \r\nL 269.499175 144.555176 \r\nL 276.026463 138.53563 \r\nL 266.104853 131.778966 \r\nz\r\n\" style=\"fill:#f49a7b;fill-opacity:0.8;\"/>\r\n    <path clip-path=\"url(#p362f777379)\" d=\"M 289.408815 158.115524 \r\nL 299.490852 159.906979 \r\nL 305.801423 158.812523 \r\nL 295.816236 154.544878 \r\nz\r\n\" style=\"fill:#f5c2aa;fill-opacity:0.8;\"/>\r\n    <path clip-path=\"url(#p362f777379)\" d=\"M 199.787642 151.36421 \r\nL 209.683974 153.141624 \r\nL 216.413534 147.081966 \r\nL 206.563845 147.821552 \r\nz\r\n\" style=\"fill:#f7b396;fill-opacity:0.8;\"/>\r\n    <path clip-path=\"url(#p362f777379)\" d=\"M 173.168733 148.868198 \r\nL 183.072833 153.151478 \r\nL 189.93204 149.594112 \r\nL 180.116917 147.831285 \r\nz\r\n\" style=\"fill:#f7b396;fill-opacity:0.8;\"/>\r\n    <path clip-path=\"url(#p362f777379)\" d=\"M 232.996644 137.786394 \r\nL 242.959666 139.535412 \r\nL 249.583334 133.519692 \r\nL 239.63795 131.788524 \r\nz\r\n\" style=\"fill:#f29274;fill-opacity:0.8;\"/>\r\n    <path clip-path=\"url(#p362f777379)\" d=\"M 216.413534 147.081966 \r\nL 226.323433 146.337858 \r\nL 232.996644 137.786394 \r\nL 223.087779 138.554902 \r\nz\r\n\" style=\"fill:#f6a283;fill-opacity:0.8;\"/>\r\n    <path clip-path=\"url(#p362f777379)\" d=\"M 299.490852 159.906979 \r\nL 309.469661 166.703058 \r\nL 315.88639 160.599934 \r\nL 305.801423 158.812523 \r\nz\r\n\" style=\"fill:#f3c7b1;fill-opacity:0.8;\"/>\r\n    <path clip-path=\"url(#p362f777379)\" d=\"M 242.959666 139.535412 \r\nL 252.947552 143.812374 \r\nL 259.546902 137.776738 \r\nL 249.583334 133.519692 \r\nz\r\n\" style=\"fill:#f39577;fill-opacity:0.8;\"/>\r\n    <path clip-path=\"url(#p362f777379)\" d=\"M 183.072833 153.151478 \r\nL 192.95516 154.936293 \r\nL 199.787642 151.36421 \r\nL 189.93204 149.594112 \r\nz\r\n\" style=\"fill:#f7b497;fill-opacity:0.8;\"/>\r\n    <path clip-path=\"url(#p362f777379)\" d=\"M 209.683974 153.141624 \r\nL 219.637958 157.434071 \r\nL 226.323433 146.337858 \r\nL 216.413534 147.081966 \r\nz\r\n\" style=\"fill:#f7b194;fill-opacity:0.8;\"/>\r\n    <path clip-path=\"url(#p362f777379)\" d=\"M 252.947552 143.812374 \r\nL 262.956972 148.098557 \r\nL 269.499175 144.555176 \r\nL 259.546902 137.776738 \r\nz\r\n\" style=\"fill:#f5a081;fill-opacity:0.8;\"/>\r\n    <path clip-path=\"url(#p362f777379)\" d=\"M 226.323433 146.337858 \r\nL 236.294371 150.622561 \r\nL 242.959666 139.535412 \r\nL 232.996644 137.786394 \r\nz\r\n\" style=\"fill:#f5a081;fill-opacity:0.8;\"/>\r\n    <path clip-path=\"url(#p362f777379)\" d=\"M 262.956972 148.098557 \r\nL 272.987997 152.393991 \r\nL 279.453145 151.334772 \r\nL 269.499175 144.555176 \r\nz\r\n\" style=\"fill:#f7ac8e;fill-opacity:0.8;\"/>\r\n    <path clip-path=\"url(#p362f777379)\" d=\"M 272.987997 152.393991 \r\nL 283.040695 156.698707 \r\nL 289.408815 158.115524 \r\nL 279.453145 151.334772 \r\nz\r\n\" style=\"fill:#f7b79b;fill-opacity:0.8;\"/>\r\n    <path clip-path=\"url(#p362f777379)\" d=\"M 219.637958 157.434071 \r\nL 229.613407 161.735774 \r\nL 236.294371 150.622561 \r\nL 226.323433 146.337858 \r\nz\r\n\" style=\"fill:#f7b497;fill-opacity:0.8;\"/>\r\n    <path clip-path=\"url(#p362f777379)\" d=\"M 192.95516 154.936293 \r\nL 202.878498 156.728514 \r\nL 209.683974 153.141624 \r\nL 199.787642 151.36421 \r\nz\r\n\" style=\"fill:#f7b497;fill-opacity:0.8;\"/>\r\n    <path clip-path=\"url(#p362f777379)\" d=\"M 236.294371 150.622561 \r\nL 246.296599 152.403867 \r\nL 252.947552 143.812374 \r\nL 242.959666 139.535412 \r\nz\r\n\" style=\"fill:#f6a385;fill-opacity:0.8;\"/>\r\n    <path clip-path=\"url(#p362f777379)\" d=\"M 283.040695 156.698707 \r\nL 293.115139 161.012734 \r\nL 299.490852 159.906979 \r\nL 289.408815 158.115524 \r\nz\r\n\" style=\"fill:#f6bda2;fill-opacity:0.8;\"/>\r\n    <path clip-path=\"url(#p362f777379)\" d=\"M 202.878498 156.728514 \r\nL 212.913419 166.056798 \r\nL 219.637958 157.434071 \r\nL 209.683974 153.141624 \r\nz\r\n\" style=\"fill:#f7ba9f;fill-opacity:0.8;\"/>\r\n    <path clip-path=\"url(#p362f777379)\" d=\"M 293.115139 161.012734 \r\nL 303.078551 170.346883 \r\nL 309.469661 166.703058 \r\nL 299.490852 159.906979 \r\nz\r\n\" style=\"fill:#f4c6af;fill-opacity:0.8;\"/>\r\n    <path clip-path=\"url(#p362f777379)\" d=\"M 246.296599 152.403867 \r\nL 256.340375 154.192571 \r\nL 262.956972 148.098557 \r\nL 252.947552 143.812374 \r\nz\r\n\" style=\"fill:#f7a889;fill-opacity:0.8;\"/>\r\n    <path clip-path=\"url(#p362f777379)\" d=\"M 229.613407 161.735774 \r\nL 239.616719 161.032726 \r\nL 246.296599 152.403867 \r\nL 236.294371 150.622561 \r\nz\r\n\" style=\"fill:#f7b79b;fill-opacity:0.8;\"/>\r\n    <path clip-path=\"url(#p362f777379)\" d=\"M 212.913419 166.056798 \r\nL 222.889804 167.874213 \r\nL 229.613407 161.735774 \r\nL 219.637958 157.434071 \r\nz\r\n\" style=\"fill:#f5c2aa;fill-opacity:0.8;\"/>\r\n    <path clip-path=\"url(#p362f777379)\" d=\"M 256.340375 154.192571 \r\nL 266.425959 155.988722 \r\nL 272.987997 152.393991 \r\nL 262.956972 148.098557 \r\nz\r\n\" style=\"fill:#f7ac8e;fill-opacity:0.8;\"/>\r\n    <path clip-path=\"url(#p362f777379)\" d=\"M 222.889804 167.874213 \r\nL 232.907724 169.699196 \r\nL 239.616719 161.032726 \r\nL 229.613407 161.735774 \r\nz\r\n\" style=\"fill:#f5c2aa;fill-opacity:0.8;\"/>\r\n    <path clip-path=\"url(#p362f777379)\" d=\"M 239.616719 161.032726 \r\nL 249.668478 162.843289 \r\nL 256.340375 154.192571 \r\nL 246.296599 152.403867 \r\nz\r\n\" style=\"fill:#f7b497;fill-opacity:0.8;\"/>\r\n    <path clip-path=\"url(#p362f777379)\" d=\"M 266.425959 155.988722 \r\nL 276.553613 157.792364 \r\nL 283.040695 156.698707 \r\nL 272.987997 152.393991 \r\nz\r\n\" style=\"fill:#f7af91;fill-opacity:0.8;\"/>\r\n    <path clip-path=\"url(#p362f777379)\" d=\"M 276.553613 157.792364 \r\nL 286.673271 162.129962 \r\nL 293.115139 161.012734 \r\nL 283.040695 156.698707 \r\nz\r\n\" style=\"fill:#f7b497;fill-opacity:0.8;\"/>\r\n    <path clip-path=\"url(#p362f777379)\" d=\"M 232.907724 169.699196 \r\nL 242.96744 171.531792 \r\nL 249.668478 162.843289 \r\nL 239.616719 161.032726 \r\nz\r\n\" style=\"fill:#f5c1a9;fill-opacity:0.8;\"/>\r\n    <path clip-path=\"url(#p362f777379)\" d=\"M 249.668478 162.843289 \r\nL 259.785517 162.140023 \r\nL 266.425959 155.988722 \r\nL 256.340375 154.192571 \r\nz\r\n\" style=\"fill:#f7b396;fill-opacity:0.8;\"/>\r\n    <path clip-path=\"url(#p362f777379)\" d=\"M 286.673271 162.129962 \r\nL 296.87551 163.952192 \r\nL 303.078551 170.346883 \r\nL 293.115139 161.012734 \r\nz\r\n\" style=\"fill:#f6bda2;fill-opacity:0.8;\"/>\r\n    <path clip-path=\"url(#p362f777379)\" d=\"M 242.96744 171.531792 \r\nL 253.069213 173.372049 \r\nL 259.785517 162.140023 \r\nL 249.668478 162.843289 \r\nz\r\n\" style=\"fill:#f6bfa6;fill-opacity:0.8;\"/>\r\n    <path clip-path=\"url(#p362f777379)\" d=\"M 259.785517 162.140023 \r\nL 269.931617 163.962295 \r\nL 276.553613 157.792364 \r\nL 266.425959 155.988722 \r\nz\r\n\" style=\"fill:#f7b194;fill-opacity:0.8;\"/>\r\n    <path clip-path=\"url(#p362f777379)\" d=\"M 269.931617 163.962295 \r\nL 280.208249 160.720375 \r\nL 286.673271 162.129962 \r\nL 276.553613 157.792364 \r\nz\r\n\" style=\"fill:#f7af91;fill-opacity:0.8;\"/>\r\n    <path clip-path=\"url(#p362f777379)\" d=\"M 253.069213 173.372049 \r\nL 263.267195 170.171756 \r\nL 269.931617 163.962295 \r\nL 259.785517 162.140023 \r\nz\r\n\" style=\"fill:#f7ba9f;fill-opacity:0.8;\"/>\r\n    <path clip-path=\"url(#p362f777379)\" d=\"M 280.208249 160.720375 \r\nL 290.569804 157.451665 \r\nL 296.87551 163.952192 \r\nL 286.673271 162.129962 \r\nz\r\n\" style=\"fill:#f7a98b;fill-opacity:0.8;\"/>\r\n    <path clip-path=\"url(#p362f777379)\" d=\"M 263.267195 170.171756 \r\nL 273.511914 169.485385 \r\nL 280.208249 160.720375 \r\nL 269.931617 163.962295 \r\nz\r\n\" style=\"fill:#f7b396;fill-opacity:0.8;\"/>\r\n    <path clip-path=\"url(#p362f777379)\" d=\"M 273.511914 169.485385 \r\nL 283.965011 161.132228 \r\nL 290.569804 157.451665 \r\nL 280.208249 160.720375 \r\nz\r\n\" style=\"fill:#f6a283;fill-opacity:0.8;\"/>\r\n   </g>\r\n  </g>\r\n  <g id=\"axes_2\">\r\n   <g id=\"patch_6\">\r\n    <path clip-path=\"url(#p575fdc5c5c)\" d=\"M 481.5 279 \r\nL 481.5 277.938281 \r\nL 481.5 8.261719 \r\nL 481.5 7.2 \r\nL 495.09 7.2 \r\nL 495.09 8.261719 \r\nL 495.09 277.938281 \r\nL 495.09 279 \r\nz\r\n\" style=\"fill:#ffffff;stroke:#ffffff;stroke-linejoin:miter;stroke-width:0.01;\"/>\r\n   </g>\r\n   <image height=\"272\" id=\"image982f2f5c9b\" transform=\"scale(1 -1)translate(0 -272)\" width=\"13\" x=\"482\" xlink:href=\"data:image/png;base64,\r\niVBORw0KGgoAAAANSUhEUgAAAA0AAAEQCAYAAABr1P6NAAAABHNCSVQICAgIfAhkiAAAAZpJREFUaIHtl8tNA0EQRLtHToYYSIGgCYA7wYBnuDiBfkhPpdX6Xqqu36zc7x+fXzX8Par7bQzq1VNMPboXACGmBZjWBTUhpuVp6v4eg6oLFFbTtFBOjRphgcRGwBrNQWzu2eHCJyx6uSt7GmL3vBoxpjHGPc8Ld4wxR9hFPp/MvTHGncYYQ7snGgGY4AgJk+geANHztBFOIfgJY+ECEMzJAnlzD3fPawQFWSNk5505KNzyRTSZ5yEmomlOpJ7nhVtkhOS8qkP+SAImrxHwjYg+j2kaQ3hOlibExArLNIHlohGGWw4LG30eY7o1/Qu0CSh7hAh0kBE304sp/DzChDShPRGmQiM82xqhZnl54RImdp5meYlGRIcLc7JGyHLa0TmZ3dPOu6DlxTRp56ERwpzIcgnT1hoRXlhixMm2/HiWa0xME1suGGF8I6xwj1YjpklzjxVWe428RhQZ4UEjvGBhve6FM3lfjXAjmHtshOCPJDpvP69neXiNoOW3phdI+xI+wZfQM4IxPbMbQUD7lzD9XJEJhOtpKjDCP9uqZvfLFzCBAAAAAElFTkSuQmCC\" y=\"-7\"/>\r\n   <g id=\"matplotlib.axis_1\"/>\r\n   <g id=\"matplotlib.axis_2\">\r\n    <g id=\"ytick_1\">\r\n     <g id=\"line2d_22\">\r\n      <defs>\r\n       <path d=\"M 0 0 \r\nL 3.5 0 \r\n\" id=\"mc256306835\" style=\"stroke:#000000;stroke-width:0.8;\"/>\r\n      </defs>\r\n      <g>\r\n       <use style=\"stroke:#000000;stroke-width:0.8;\" x=\"495.09\" xlink:href=\"#mc256306835\" y=\"228.821538\"/>\r\n      </g>\r\n     </g>\r\n     <g id=\"text_23\">\r\n      <!-- 140 -->\r\n      <g transform=\"translate(502.09 232.620757)scale(0.1 -0.1)\">\r\n       <use xlink:href=\"#DejaVuSans-49\"/>\r\n       <use x=\"63.623047\" xlink:href=\"#DejaVuSans-52\"/>\r\n       <use x=\"127.246094\" xlink:href=\"#DejaVuSans-48\"/>\r\n      </g>\r\n     </g>\r\n    </g>\r\n    <g id=\"ytick_2\">\r\n     <g id=\"line2d_23\">\r\n      <g>\r\n       <use style=\"stroke:#000000;stroke-width:0.8;\" x=\"495.09\" xlink:href=\"#mc256306835\" y=\"173.067692\"/>\r\n      </g>\r\n     </g>\r\n     <g id=\"text_24\">\r\n      <!-- 150 -->\r\n      <g transform=\"translate(502.09 176.866911)scale(0.1 -0.1)\">\r\n       <use xlink:href=\"#DejaVuSans-49\"/>\r\n       <use x=\"63.623047\" xlink:href=\"#DejaVuSans-53\"/>\r\n       <use x=\"127.246094\" xlink:href=\"#DejaVuSans-48\"/>\r\n      </g>\r\n     </g>\r\n    </g>\r\n    <g id=\"ytick_3\">\r\n     <g id=\"line2d_24\">\r\n      <g>\r\n       <use style=\"stroke:#000000;stroke-width:0.8;\" x=\"495.09\" xlink:href=\"#mc256306835\" y=\"117.313846\"/>\r\n      </g>\r\n     </g>\r\n     <g id=\"text_25\">\r\n      <!-- 160 -->\r\n      <g transform=\"translate(502.09 121.113065)scale(0.1 -0.1)\">\r\n       <use xlink:href=\"#DejaVuSans-49\"/>\r\n       <use x=\"63.623047\" xlink:href=\"#DejaVuSans-54\"/>\r\n       <use x=\"127.246094\" xlink:href=\"#DejaVuSans-48\"/>\r\n      </g>\r\n     </g>\r\n    </g>\r\n    <g id=\"ytick_4\">\r\n     <g id=\"line2d_25\">\r\n      <g>\r\n       <use style=\"stroke:#000000;stroke-width:0.8;\" x=\"495.09\" xlink:href=\"#mc256306835\" y=\"61.56\"/>\r\n      </g>\r\n     </g>\r\n     <g id=\"text_26\">\r\n      <!-- 170 -->\r\n      <g transform=\"translate(502.09 65.359219)scale(0.1 -0.1)\">\r\n       <use xlink:href=\"#DejaVuSans-49\"/>\r\n       <use x=\"63.623047\" xlink:href=\"#DejaVuSans-55\"/>\r\n       <use x=\"127.246094\" xlink:href=\"#DejaVuSans-48\"/>\r\n      </g>\r\n     </g>\r\n    </g>\r\n    <g id=\"text_27\">\r\n     <!-- m -->\r\n     <g transform=\"translate(532.775938 147.970312)rotate(-90)scale(0.1 -0.1)\">\r\n      <use xlink:href=\"#DejaVuSans-109\"/>\r\n     </g>\r\n    </g>\r\n   </g>\r\n   <g id=\"patch_7\">\r\n    <path d=\"M 481.5 279 \r\nL 481.5 277.938281 \r\nL 481.5 8.261719 \r\nL 481.5 7.2 \r\nL 495.09 7.2 \r\nL 495.09 8.261719 \r\nL 495.09 277.938281 \r\nL 495.09 279 \r\nz\r\n\" style=\"fill:none;stroke:#000000;stroke-linejoin:miter;stroke-width:0.8;\"/>\r\n   </g>\r\n  </g>\r\n </g>\r\n <defs>\r\n  <clipPath id=\"p362f777379\">\r\n   <rect height=\"271.8\" width=\"446.4\" x=\"7.2\" y=\"7.2\"/>\r\n  </clipPath>\r\n  <clipPath id=\"p575fdc5c5c\">\r\n   <rect height=\"271.8\" width=\"13.59\" x=\"481.5\" y=\"7.2\"/>\r\n  </clipPath>\r\n </defs>\r\n</svg>\r\n",
      "image/png": "[encoded data removed]"
     },
     "metadata": {
      "needs_background": "light"
     }
    }
   ],
   "source": [
    "fig = plt.figure(figsize=(10,5))\n",
    "ax = fig.gca(projection='3d')\n",
    "# ax.plot_surface(X, Y, band1, rstride=8, cstride=8, alpha=0.3)\n",
    "surf = ax.plot_surface(X, Y, band1,  cmap=cm.coolwarm, alpha=0.8)\n",
    "cset = ax.contour(X, Y, band1, zdir='z', offset=band1.min(), cmap=cm.coolwarm)\n",
    "cset = ax.contour(X, Y, band1, zdir='x', offset=min(x), cmap=cm.coolwarm)\n",
    "cset = ax.contour(X, Y, band1, zdir='y', offset=max(y), cmap=cm.coolwarm)\n",
    "\n",
    "ax.set_xlabel('lon')\n",
    "ax.set_xlim(min(x), max(x))\n",
    "ax.set_ylabel('lat')\n",
    "ax.set_ylim(min(y), max(y))\n",
    "ax.set_zlabel('altitude (m)')\n",
    "ax.set_zlim(np.nanmin(band1), np.nanmax(band1))\n",
    "colo = fig.colorbar(surf)\n",
    "colo.ax.set_ylabel('m')\n",
    "plt.show()"
   ]
  },
  {
   "cell_type": "markdown",
   "metadata": {},
   "source": [
    "static 2d view"
   ]
  },
  {
   "cell_type": "code",
   "execution_count": 6,
   "metadata": {},
   "outputs": [
    {
     "output_type": "display_data",
     "data": {
      "text/plain": "<Figure size 432x288 with 0 Axes>"
     },
     "metadata": {}
    },
    {
     "output_type": "display_data",
     "data": {
      "text/plain": "<Figure size 360x216 with 2 Axes>",
      "image/svg+xml": "<?xml version=\"1.0\" encoding=\"utf-8\" standalone=\"no\"?>\r\n<!DOCTYPE svg PUBLIC \"-//W3C//DTD SVG 1.1//EN\"\r\n  \"http://www.w3.org/Graphics/SVG/1.1/DTD/svg11.dtd\">\r\n<!-- Created with matplotlib (https://matplotlib.org/) -->\r\n<svg height=\"198.477031pt\" version=\"1.1\" viewBox=\"0 0 243.63576 198.477031\" width=\"243.63576pt\" xmlns=\"http://www.w3.org/2000/svg\" xmlns:xlink=\"http://www.w3.org/1999/xlink\">\r\n <defs>\r\n  <style type=\"text/css\">\r\n*{stroke-linecap:butt;stroke-linejoin:round;}\r\n  </style>\r\n </defs>\r\n <g id=\"figure_1\">\r\n  <g id=\"patch_1\">\r\n   <path d=\"M 0 198.477031 \r\nL 243.63576 198.477031 \r\nL 243.63576 0 \r\nL 0 0 \r\nz\r\n\" style=\"fill:none;\"/>\r\n  </g>\r\n  <g id=\"axes_1\">\r\n   <g id=\"patch_2\">\r\n    <path d=\"M 10.7 185.398125 \r\nL 198.242 185.398125 \r\nL 198.242 22.318125 \r\nL 10.7 22.318125 \r\nz\r\n\" style=\"fill:#ffffff;\"/>\r\n   </g>\r\n   <g clip-path=\"url(#p4b16013a6e)\">\r\n    <image height=\"164\" id=\"imagebada82060a\" transform=\"scale(1 -1)translate(0 -164)\" width=\"188\" x=\"10.7\" xlink:href=\"data:image/png;base64,\r\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\" y=\"-21.398125\"/>\r\n   </g>\r\n   <g id=\"matplotlib.axis_1\"/>\r\n   <g id=\"matplotlib.axis_2\"/>\r\n   <g id=\"patch_3\">\r\n    <path d=\"M 10.7 185.398125 \r\nL 10.7 22.318125 \r\n\" style=\"fill:none;stroke:#000000;stroke-linecap:square;stroke-linejoin:miter;stroke-width:0.8;\"/>\r\n   </g>\r\n   <g id=\"patch_4\">\r\n    <path d=\"M 198.242 185.398125 \r\nL 198.242 22.318125 \r\n\" style=\"fill:none;stroke:#000000;stroke-linecap:square;stroke-linejoin:miter;stroke-width:0.8;\"/>\r\n   </g>\r\n   <g id=\"patch_5\">\r\n    <path d=\"M 10.7 185.398125 \r\nL 198.242 185.398125 \r\n\" style=\"fill:none;stroke:#000000;stroke-linecap:square;stroke-linejoin:miter;stroke-width:0.8;\"/>\r\n   </g>\r\n   <g id=\"patch_6\">\r\n    <path d=\"M 10.7 22.318125 \r\nL 198.242 22.318125 \r\n\" style=\"fill:none;stroke:#000000;stroke-linecap:square;stroke-linejoin:miter;stroke-width:0.8;\"/>\r\n   </g>\r\n   <g id=\"text_1\">\r\n    <!-- DEM -->\r\n    <defs>\r\n     <path d=\"M 19.671875 64.796875 \r\nL 19.671875 8.109375 \r\nL 31.59375 8.109375 \r\nQ 46.6875 8.109375 53.6875 14.9375 \r\nQ 60.6875 21.78125 60.6875 36.53125 \r\nQ 60.6875 51.171875 53.6875 57.984375 \r\nQ 46.6875 64.796875 31.59375 64.796875 \r\nz\r\nM 9.8125 72.90625 \r\nL 30.078125 72.90625 \r\nQ 51.265625 72.90625 61.171875 64.09375 \r\nQ 71.09375 55.28125 71.09375 36.53125 \r\nQ 71.09375 17.671875 61.125 8.828125 \r\nQ 51.171875 0 30.078125 0 \r\nL 9.8125 0 \r\nz\r\n\" id=\"DejaVuSans-68\"/>\r\n     <path d=\"M 9.8125 72.90625 \r\nL 55.90625 72.90625 \r\nL 55.90625 64.59375 \r\nL 19.671875 64.59375 \r\nL 19.671875 43.015625 \r\nL 54.390625 43.015625 \r\nL 54.390625 34.71875 \r\nL 19.671875 34.71875 \r\nL 19.671875 8.296875 \r\nL 56.78125 8.296875 \r\nL 56.78125 0 \r\nL 9.8125 0 \r\nz\r\n\" id=\"DejaVuSans-69\"/>\r\n     <path d=\"M 9.8125 72.90625 \r\nL 24.515625 72.90625 \r\nL 43.109375 23.296875 \r\nL 61.8125 72.90625 \r\nL 76.515625 72.90625 \r\nL 76.515625 0 \r\nL 66.890625 0 \r\nL 66.890625 64.015625 \r\nL 48.09375 14.015625 \r\nL 38.1875 14.015625 \r\nL 19.390625 64.015625 \r\nL 19.390625 0 \r\nL 9.8125 0 \r\nz\r\n\" id=\"DejaVuSans-77\"/>\r\n    </defs>\r\n    <g transform=\"translate(90.882875 16.318125)scale(0.12 -0.12)\">\r\n     <use xlink:href=\"#DejaVuSans-68\"/>\r\n     <use x=\"77.001953\" xlink:href=\"#DejaVuSans-69\"/>\r\n     <use x=\"140.185547\" xlink:href=\"#DejaVuSans-77\"/>\r\n    </g>\r\n   </g>\r\n  </g>\r\n  <g id=\"axes_2\">\r\n   <g id=\"patch_7\">\r\n    <path clip-path=\"url(#pc38c0e6e71)\" d=\"M 204.722 185.398125 \r\nL 204.722 184.761094 \r\nL 204.722 22.955156 \r\nL 204.722 22.318125 \r\nL 210.34826 22.318125 \r\nL 210.34826 22.955156 \r\nL 210.34826 184.761094 \r\nL 210.34826 185.398125 \r\nz\r\n\" style=\"fill:#ffffff;stroke:#ffffff;stroke-linejoin:miter;stroke-width:0.01;\"/>\r\n   </g>\r\n   <image height=\"163\" id=\"image0d15d2938f\" transform=\"scale(1 -1)translate(0 -163)\" width=\"5\" x=\"205\" xlink:href=\"data:image/png;base64,\r\niVBORw0KGgoAAAANSUhEUgAAAAUAAACjCAYAAABCKtQWAAAABHNCSVQICAgIfAhkiAAAATJJREFUSInV18FuwzAMA1BJVnrY7sP+Yf//eWt3r18ABcUGLEeCpCg7ip3M+HrE09MZn89YdMa7wA+BbwCPG8DasOjslFxMyg/Jzfwjz1JHIXlJbubcs5WTi+ztEDjfuLnn+oVI9Nyx6FwAvciSl+TeDkU6YTInI93BJBjbuEdnfsuTTBaCPC1/qVAwfLE6e5+u0kmkeZvTVbrS+3iLL4Sf9n5IXhik1nQ1XuTorv2lvyIXk5GOMVOzfUXOL4M8McRXmMuRxJSnmfTciS9Xd+/c9/+8nnnXh3qfreh86JDaRzM6xkx6nlQXqPAvdkRmxX7j6cRx2IWrlcHEWd4LV6tOXBrOPMWU50khRCrcYzpx6netaaQlZhXv3irUU+YaM+l5oZB/HFSIzCXmDUwXGsvF/AFRvjJ842XyqgAAAABJRU5ErkJggg==\" y=\"-22\"/>\r\n   <g id=\"matplotlib.axis_3\"/>\r\n   <g id=\"matplotlib.axis_4\">\r\n    <g id=\"ytick_1\">\r\n     <g id=\"line2d_1\">\r\n      <defs>\r\n       <path d=\"M 0 0 \r\nL 3.5 0 \r\n\" id=\"m476c3ce47c\" style=\"stroke:#000000;stroke-width:0.8;\"/>\r\n      </defs>\r\n      <g>\r\n       <use style=\"stroke:#000000;stroke-width:0.8;\" x=\"210.34826\" xlink:href=\"#m476c3ce47c\" y=\"185.398125\"/>\r\n      </g>\r\n     </g>\r\n     <g id=\"text_2\">\r\n      <!-- 0 -->\r\n      <defs>\r\n       <path d=\"M 31.78125 66.40625 \r\nQ 24.171875 66.40625 20.328125 58.90625 \r\nQ 16.5 51.421875 16.5 36.375 \r\nQ 16.5 21.390625 20.328125 13.890625 \r\nQ 24.171875 6.390625 31.78125 6.390625 \r\nQ 39.453125 6.390625 43.28125 13.890625 \r\nQ 47.125 21.390625 47.125 36.375 \r\nQ 47.125 51.421875 43.28125 58.90625 \r\nQ 39.453125 66.40625 31.78125 66.40625 \r\nz\r\nM 31.78125 74.21875 \r\nQ 44.046875 74.21875 50.515625 64.515625 \r\nQ 56.984375 54.828125 56.984375 36.375 \r\nQ 56.984375 17.96875 50.515625 8.265625 \r\nQ 44.046875 -1.421875 31.78125 -1.421875 \r\nQ 19.53125 -1.421875 13.0625 8.265625 \r\nQ 6.59375 17.96875 6.59375 36.375 \r\nQ 6.59375 54.828125 13.0625 64.515625 \r\nQ 19.53125 74.21875 31.78125 74.21875 \r\nz\r\n\" id=\"DejaVuSans-48\"/>\r\n      </defs>\r\n      <g transform=\"translate(217.34826 189.197344)scale(0.1 -0.1)\">\r\n       <use xlink:href=\"#DejaVuSans-48\"/>\r\n      </g>\r\n     </g>\r\n    </g>\r\n    <g id=\"ytick_2\">\r\n     <g id=\"line2d_2\">\r\n      <g>\r\n       <use style=\"stroke:#000000;stroke-width:0.8;\" x=\"210.34826\" xlink:href=\"#m476c3ce47c\" y=\"153.421654\"/>\r\n      </g>\r\n     </g>\r\n     <g id=\"text_3\">\r\n      <!-- 50 -->\r\n      <defs>\r\n       <path d=\"M 10.796875 72.90625 \r\nL 49.515625 72.90625 \r\nL 49.515625 64.59375 \r\nL 19.828125 64.59375 \r\nL 19.828125 46.734375 \r\nQ 21.96875 47.46875 24.109375 47.828125 \r\nQ 26.265625 48.1875 28.421875 48.1875 \r\nQ 40.625 48.1875 47.75 41.5 \r\nQ 54.890625 34.8125 54.890625 23.390625 \r\nQ 54.890625 11.625 47.5625 5.09375 \r\nQ 40.234375 -1.421875 26.90625 -1.421875 \r\nQ 22.3125 -1.421875 17.546875 -0.640625 \r\nQ 12.796875 0.140625 7.71875 1.703125 \r\nL 7.71875 11.625 \r\nQ 12.109375 9.234375 16.796875 8.0625 \r\nQ 21.484375 6.890625 26.703125 6.890625 \r\nQ 35.15625 6.890625 40.078125 11.328125 \r\nQ 45.015625 15.765625 45.015625 23.390625 \r\nQ 45.015625 31 40.078125 35.4375 \r\nQ 35.15625 39.890625 26.703125 39.890625 \r\nQ 22.75 39.890625 18.8125 39.015625 \r\nQ 14.890625 38.140625 10.796875 36.28125 \r\nz\r\n\" id=\"DejaVuSans-53\"/>\r\n      </defs>\r\n      <g transform=\"translate(217.34826 157.220873)scale(0.1 -0.1)\">\r\n       <use xlink:href=\"#DejaVuSans-53\"/>\r\n       <use x=\"63.623047\" xlink:href=\"#DejaVuSans-48\"/>\r\n      </g>\r\n     </g>\r\n    </g>\r\n    <g id=\"ytick_3\">\r\n     <g id=\"line2d_3\">\r\n      <g>\r\n       <use style=\"stroke:#000000;stroke-width:0.8;\" x=\"210.34826\" xlink:href=\"#m476c3ce47c\" y=\"121.445184\"/>\r\n      </g>\r\n     </g>\r\n     <g id=\"text_4\">\r\n      <!-- 100 -->\r\n      <defs>\r\n       <path d=\"M 12.40625 8.296875 \r\nL 28.515625 8.296875 \r\nL 28.515625 63.921875 \r\nL 10.984375 60.40625 \r\nL 10.984375 69.390625 \r\nL 28.421875 72.90625 \r\nL 38.28125 72.90625 \r\nL 38.28125 8.296875 \r\nL 54.390625 8.296875 \r\nL 54.390625 0 \r\nL 12.40625 0 \r\nz\r\n\" id=\"DejaVuSans-49\"/>\r\n      </defs>\r\n      <g transform=\"translate(217.34826 125.244403)scale(0.1 -0.1)\">\r\n       <use xlink:href=\"#DejaVuSans-49\"/>\r\n       <use x=\"63.623047\" xlink:href=\"#DejaVuSans-48\"/>\r\n       <use x=\"127.246094\" xlink:href=\"#DejaVuSans-48\"/>\r\n      </g>\r\n     </g>\r\n    </g>\r\n    <g id=\"ytick_4\">\r\n     <g id=\"line2d_4\">\r\n      <g>\r\n       <use style=\"stroke:#000000;stroke-width:0.8;\" x=\"210.34826\" xlink:href=\"#m476c3ce47c\" y=\"89.468713\"/>\r\n      </g>\r\n     </g>\r\n     <g id=\"text_5\">\r\n      <!-- 150 -->\r\n      <g transform=\"translate(217.34826 93.267932)scale(0.1 -0.1)\">\r\n       <use xlink:href=\"#DejaVuSans-49\"/>\r\n       <use x=\"63.623047\" xlink:href=\"#DejaVuSans-53\"/>\r\n       <use x=\"127.246094\" xlink:href=\"#DejaVuSans-48\"/>\r\n      </g>\r\n     </g>\r\n    </g>\r\n    <g id=\"ytick_5\">\r\n     <g id=\"line2d_5\">\r\n      <g>\r\n       <use style=\"stroke:#000000;stroke-width:0.8;\" x=\"210.34826\" xlink:href=\"#m476c3ce47c\" y=\"57.492243\"/>\r\n      </g>\r\n     </g>\r\n     <g id=\"text_6\">\r\n      <!-- 200 -->\r\n      <defs>\r\n       <path d=\"M 19.1875 8.296875 \r\nL 53.609375 8.296875 \r\nL 53.609375 0 \r\nL 7.328125 0 \r\nL 7.328125 8.296875 \r\nQ 12.9375 14.109375 22.625 23.890625 \r\nQ 32.328125 33.6875 34.8125 36.53125 \r\nQ 39.546875 41.84375 41.421875 45.53125 \r\nQ 43.3125 49.21875 43.3125 52.78125 \r\nQ 43.3125 58.59375 39.234375 62.25 \r\nQ 35.15625 65.921875 28.609375 65.921875 \r\nQ 23.96875 65.921875 18.8125 64.3125 \r\nQ 13.671875 62.703125 7.8125 59.421875 \r\nL 7.8125 69.390625 \r\nQ 13.765625 71.78125 18.9375 73 \r\nQ 24.125 74.21875 28.421875 74.21875 \r\nQ 39.75 74.21875 46.484375 68.546875 \r\nQ 53.21875 62.890625 53.21875 53.421875 \r\nQ 53.21875 48.921875 51.53125 44.890625 \r\nQ 49.859375 40.875 45.40625 35.40625 \r\nQ 44.1875 33.984375 37.640625 27.21875 \r\nQ 31.109375 20.453125 19.1875 8.296875 \r\nz\r\n\" id=\"DejaVuSans-50\"/>\r\n      </defs>\r\n      <g transform=\"translate(217.34826 61.291461)scale(0.1 -0.1)\">\r\n       <use xlink:href=\"#DejaVuSans-50\"/>\r\n       <use x=\"63.623047\" xlink:href=\"#DejaVuSans-48\"/>\r\n       <use x=\"127.246094\" xlink:href=\"#DejaVuSans-48\"/>\r\n      </g>\r\n     </g>\r\n    </g>\r\n    <g id=\"ytick_6\">\r\n     <g id=\"line2d_6\">\r\n      <g>\r\n       <use style=\"stroke:#000000;stroke-width:0.8;\" x=\"210.34826\" xlink:href=\"#m476c3ce47c\" y=\"25.515772\"/>\r\n      </g>\r\n     </g>\r\n     <g id=\"text_7\">\r\n      <!-- 250 -->\r\n      <g transform=\"translate(217.34826 29.314991)scale(0.1 -0.1)\">\r\n       <use xlink:href=\"#DejaVuSans-50\"/>\r\n       <use x=\"63.623047\" xlink:href=\"#DejaVuSans-53\"/>\r\n       <use x=\"127.246094\" xlink:href=\"#DejaVuSans-48\"/>\r\n      </g>\r\n     </g>\r\n    </g>\r\n   </g>\r\n   <g id=\"patch_8\">\r\n    <path d=\"M 204.722 185.398125 \r\nL 204.722 184.761094 \r\nL 204.722 22.955156 \r\nL 204.722 22.318125 \r\nL 210.34826 22.318125 \r\nL 210.34826 22.955156 \r\nL 210.34826 184.761094 \r\nL 210.34826 185.398125 \r\nz\r\n\" style=\"fill:none;stroke:#000000;stroke-linejoin:miter;stroke-width:0.8;\"/>\r\n   </g>\r\n  </g>\r\n </g>\r\n <defs>\r\n  <clipPath id=\"p4b16013a6e\">\r\n   <rect height=\"163.08\" width=\"187.542\" x=\"10.7\" y=\"22.318125\"/>\r\n  </clipPath>\r\n  <clipPath id=\"pc38c0e6e71\">\r\n   <rect height=\"163.08\" width=\"5.62626\" x=\"204.722\" y=\"22.318125\"/>\r\n  </clipPath>\r\n </defs>\r\n</svg>\r\n",
      "image/png": "[encoded data removed]"
     },
     "metadata": {
      "needs_background": "light"
     }
    }
   ],
   "source": [
    "fig = plt.figure()\n",
    "ep.plot_bands(\n",
    "    band1,\n",
    "    cmap=\"gist_earth\",\n",
    "    title=\"DEM\",\n",
    "    figsize=(5, 3),\n",
    ")\n",
    "plt.show()\n"
   ]
  },
  {
   "cell_type": "markdown",
   "metadata": {},
   "source": [
    "interactive 3d view"
   ]
  },
  {
   "cell_type": "code",
   "execution_count": 3,
   "metadata": {},
   "outputs": [
    {
     "output_type": "display_data",
     "data": {
      "application/vnd.plotly.v1+json": {
       "config": {
        "plotlyServerURL": "https://plot.ly"
       },
       "data": [
        {
         "colorbar": {
          "title": {
           "text": "Elevation (m)"
          }
         },
         "contours": {
          "z": {
           "highlightcolor": "limegreen",
           "project": {
            "z": true
           },
           "show": true,
           "usecolormap": true
          }
         },
         "type": "surface",
         "x": [
          [
           -61.83767365207163,
           -61.83739190773252,
           -61.83711016339341,
           -61.8368284190543,
           -61.83654667471519,
           -61.83626493037608,
           -61.83598318603697,
           -61.83570144169786,
           -61.83541969735875,
           -61.83513795301964,
           -61.83485620868053,
           -61.834574464341415,
           -61.83429272000231,
           -61.8340109756632,
           -61.833729231324085,
           -61.83344748698498,
           -61.83316574264587,
           -61.832883998306755,
           -61.83260225396765,
           -61.83232050962854,
           -61.832038765289425,
           -61.83175702095032,
           -61.83147527661121
          ],
          [
           -61.83767365207163,
           -61.83739190773252,
           -61.83711016339341,
           -61.8368284190543,
           -61.83654667471519,
           -61.83626493037608,
           -61.83598318603697,
           -61.83570144169786,
           -61.83541969735875,
           -61.83513795301964,
           -61.83485620868053,
           -61.834574464341415,
           -61.83429272000231,
           -61.8340109756632,
           -61.833729231324085,
           -61.83344748698498,
           -61.83316574264587,
           -61.832883998306755,
           -61.83260225396765,
           -61.83232050962854,
           -61.832038765289425,
           -61.83175702095032,
           -61.83147527661121
          ],
          [
           -61.83767365207163,
           -61.83739190773252,
           -61.83711016339341,
           -61.8368284190543,
           -61.83654667471519,
           -61.83626493037608,
           -61.83598318603697,
           -61.83570144169786,
           -61.83541969735875,
           -61.83513795301964,
           -61.83485620868053,
           -61.834574464341415,
           -61.83429272000231,
           -61.8340109756632,
           -61.833729231324085,
           -61.83344748698498,
           -61.83316574264587,
           -61.832883998306755,
           -61.83260225396765,
           -61.83232050962854,
           -61.832038765289425,
           -61.83175702095032,
           -61.83147527661121
          ],
          [
           -61.83767365207163,
           -61.83739190773252,
           -61.83711016339341,
           -61.8368284190543,
           -61.83654667471519,
           -61.83626493037608,
           -61.83598318603697,
           -61.83570144169786,
           -61.83541969735875,
           -61.83513795301964,
           -61.83485620868053,
           -61.834574464341415,
           -61.83429272000231,
           -61.8340109756632,
           -61.833729231324085,
           -61.83344748698498,
           -61.83316574264587,
           -61.832883998306755,
           -61.83260225396765,
           -61.83232050962854,
           -61.832038765289425,
           -61.83175702095032,
           -61.83147527661121
          ],
          [
           -61.83767365207163,
           -61.83739190773252,
           -61.83711016339341,
           -61.8368284190543,
           -61.83654667471519,
           -61.83626493037608,
           -61.83598318603697,
           -61.83570144169786,
           -61.83541969735875,
           -61.83513795301964,
           -61.83485620868053,
           -61.834574464341415,
           -61.83429272000231,
           -61.8340109756632,
           -61.833729231324085,
           -61.83344748698498,
           -61.83316574264587,
           -61.832883998306755,
           -61.83260225396765,
           -61.83232050962854,
           -61.832038765289425,
           -61.83175702095032,
           -61.83147527661121
          ],
          [
           -61.83767365207163,
           -61.83739190773252,
           -61.83711016339341,
           -61.8368284190543,
           -61.83654667471519,
           -61.83626493037608,
           -61.83598318603697,
           -61.83570144169786,
           -61.83541969735875,
           -61.83513795301964,
           -61.83485620868053,
           -61.834574464341415,
           -61.83429272000231,
           -61.8340109756632,
           -61.833729231324085,
           -61.83344748698498,
           -61.83316574264587,
           -61.832883998306755,
           -61.83260225396765,
           -61.83232050962854,
           -61.832038765289425,
           -61.83175702095032,
           -61.83147527661121
          ],
          [
           -61.83767365207163,
           -61.83739190773252,
           -61.83711016339341,
           -61.8368284190543,
           -61.83654667471519,
           -61.83626493037608,
           -61.83598318603697,
           -61.83570144169786,
           -61.83541969735875,
           -61.83513795301964,
           -61.83485620868053,
           -61.834574464341415,
           -61.83429272000231,
           -61.8340109756632,
           -61.833729231324085,
           -61.83344748698498,
           -61.83316574264587,
           -61.832883998306755,
           -61.83260225396765,
           -61.83232050962854,
           -61.832038765289425,
           -61.83175702095032,
           -61.83147527661121
          ],
          [
           -61.83767365207163,
           -61.83739190773252,
           -61.83711016339341,
           -61.8368284190543,
           -61.83654667471519,
           -61.83626493037608,
           -61.83598318603697,
           -61.83570144169786,
           -61.83541969735875,
           -61.83513795301964,
           -61.83485620868053,
           -61.834574464341415,
           -61.83429272000231,
           -61.8340109756632,
           -61.833729231324085,
           -61.83344748698498,
           -61.83316574264587,
           -61.832883998306755,
           -61.83260225396765,
           -61.83232050962854,
           -61.832038765289425,
           -61.83175702095032,
           -61.83147527661121
          ],
          [
           -61.83767365207163,
           -61.83739190773252,
           -61.83711016339341,
           -61.8368284190543,
           -61.83654667471519,
           -61.83626493037608,
           -61.83598318603697,
           -61.83570144169786,
           -61.83541969735875,
           -61.83513795301964,
           -61.83485620868053,
           -61.834574464341415,
           -61.83429272000231,
           -61.8340109756632,
           -61.833729231324085,
           -61.83344748698498,
           -61.83316574264587,
           -61.832883998306755,
           -61.83260225396765,
           -61.83232050962854,
           -61.832038765289425,
           -61.83175702095032,
           -61.83147527661121
          ],
          [
           -61.83767365207163,
           -61.83739190773252,
           -61.83711016339341,
           -61.8368284190543,
           -61.83654667471519,
           -61.83626493037608,
           -61.83598318603697,
           -61.83570144169786,
           -61.83541969735875,
           -61.83513795301964,
           -61.83485620868053,
           -61.834574464341415,
           -61.83429272000231,
           -61.8340109756632,
           -61.833729231324085,
           -61.83344748698498,
           -61.83316574264587,
           -61.832883998306755,
           -61.83260225396765,
           -61.83232050962854,
           -61.832038765289425,
           -61.83175702095032,
           -61.83147527661121
          ],
          [
           -61.83767365207163,
           -61.83739190773252,
           -61.83711016339341,
           -61.8368284190543,
           -61.83654667471519,
           -61.83626493037608,
           -61.83598318603697,
           -61.83570144169786,
           -61.83541969735875,
           -61.83513795301964,
           -61.83485620868053,
           -61.834574464341415,
           -61.83429272000231,
           -61.8340109756632,
           -61.833729231324085,
           -61.83344748698498,
           -61.83316574264587,
           -61.832883998306755,
           -61.83260225396765,
           -61.83232050962854,
           -61.832038765289425,
           -61.83175702095032,
           -61.83147527661121
          ],
          [
           -61.83767365207163,
           -61.83739190773252,
           -61.83711016339341,
           -61.8368284190543,
           -61.83654667471519,
           -61.83626493037608,
           -61.83598318603697,
           -61.83570144169786,
           -61.83541969735875,
           -61.83513795301964,
           -61.83485620868053,
           -61.834574464341415,
           -61.83429272000231,
           -61.8340109756632,
           -61.833729231324085,
           -61.83344748698498,
           -61.83316574264587,
           -61.832883998306755,
           -61.83260225396765,
           -61.83232050962854,
           -61.832038765289425,
           -61.83175702095032,
           -61.83147527661121
          ],
          [
           -61.83767365207163,
           -61.83739190773252,
           -61.83711016339341,
           -61.8368284190543,
           -61.83654667471519,
           -61.83626493037608,
           -61.83598318603697,
           -61.83570144169786,
           -61.83541969735875,
           -61.83513795301964,
           -61.83485620868053,
           -61.834574464341415,
           -61.83429272000231,
           -61.8340109756632,
           -61.833729231324085,
           -61.83344748698498,
           -61.83316574264587,
           -61.832883998306755,
           -61.83260225396765,
           -61.83232050962854,
           -61.832038765289425,
           -61.83175702095032,
           -61.83147527661121
          ],
          [
           -61.83767365207163,
           -61.83739190773252,
           -61.83711016339341,
           -61.8368284190543,
           -61.83654667471519,
           -61.83626493037608,
           -61.83598318603697,
           -61.83570144169786,
           -61.83541969735875,
           -61.83513795301964,
           -61.83485620868053,
           -61.834574464341415,
           -61.83429272000231,
           -61.8340109756632,
           -61.833729231324085,
           -61.83344748698498,
           -61.83316574264587,
           -61.832883998306755,
           -61.83260225396765,
           -61.83232050962854,
           -61.832038765289425,
           -61.83175702095032,
           -61.83147527661121
          ],
          [
           -61.83767365207163,
           -61.83739190773252,
           -61.83711016339341,
           -61.8368284190543,
           -61.83654667471519,
           -61.83626493037608,
           -61.83598318603697,
           -61.83570144169786,
           -61.83541969735875,
           -61.83513795301964,
           -61.83485620868053,
           -61.834574464341415,
           -61.83429272000231,
           -61.8340109756632,
           -61.833729231324085,
           -61.83344748698498,
           -61.83316574264587,
           -61.832883998306755,
           -61.83260225396765,
           -61.83232050962854,
           -61.832038765289425,
           -61.83175702095032,
           -61.83147527661121
          ],
          [
           -61.83767365207163,
           -61.83739190773252,
           -61.83711016339341,
           -61.8368284190543,
           -61.83654667471519,
           -61.83626493037608,
           -61.83598318603697,
           -61.83570144169786,
           -61.83541969735875,
           -61.83513795301964,
           -61.83485620868053,
           -61.834574464341415,
           -61.83429272000231,
           -61.8340109756632,
           -61.833729231324085,
           -61.83344748698498,
           -61.83316574264587,
           -61.832883998306755,
           -61.83260225396765,
           -61.83232050962854,
           -61.832038765289425,
           -61.83175702095032,
           -61.83147527661121
          ],
          [
           -61.83767365207163,
           -61.83739190773252,
           -61.83711016339341,
           -61.8368284190543,
           -61.83654667471519,
           -61.83626493037608,
           -61.83598318603697,
           -61.83570144169786,
           -61.83541969735875,
           -61.83513795301964,
           -61.83485620868053,
           -61.834574464341415,
           -61.83429272000231,
           -61.8340109756632,
           -61.833729231324085,
           -61.83344748698498,
           -61.83316574264587,
           -61.832883998306755,
           -61.83260225396765,
           -61.83232050962854,
           -61.832038765289425,
           -61.83175702095032,
           -61.83147527661121
          ],
          [
           -61.83767365207163,
           -61.83739190773252,
           -61.83711016339341,
           -61.8368284190543,
           -61.83654667471519,
           -61.83626493037608,
           -61.83598318603697,
           -61.83570144169786,
           -61.83541969735875,
           -61.83513795301964,
           -61.83485620868053,
           -61.834574464341415,
           -61.83429272000231,
           -61.8340109756632,
           -61.833729231324085,
           -61.83344748698498,
           -61.83316574264587,
           -61.832883998306755,
           -61.83260225396765,
           -61.83232050962854,
           -61.832038765289425,
           -61.83175702095032,
           -61.83147527661121
          ],
          [
           -61.83767365207163,
           -61.83739190773252,
           -61.83711016339341,
           -61.8368284190543,
           -61.83654667471519,
           -61.83626493037608,
           -61.83598318603697,
           -61.83570144169786,
           -61.83541969735875,
           -61.83513795301964,
           -61.83485620868053,
           -61.834574464341415,
           -61.83429272000231,
           -61.8340109756632,
           -61.833729231324085,
           -61.83344748698498,
           -61.83316574264587,
           -61.832883998306755,
           -61.83260225396765,
           -61.83232050962854,
           -61.832038765289425,
           -61.83175702095032,
           -61.83147527661121
          ],
          [
           -61.83767365207163,
           -61.83739190773252,
           -61.83711016339341,
           -61.8368284190543,
           -61.83654667471519,
           -61.83626493037608,
           -61.83598318603697,
           -61.83570144169786,
           -61.83541969735875,
           -61.83513795301964,
           -61.83485620868053,
           -61.834574464341415,
           -61.83429272000231,
           -61.8340109756632,
           -61.833729231324085,
           -61.83344748698498,
           -61.83316574264587,
           -61.832883998306755,
           -61.83260225396765,
           -61.83232050962854,
           -61.832038765289425,
           -61.83175702095032,
           -61.83147527661121
          ]
         ],
         "y": [
          [
           7.37164013945135,
           7.37164013945135,
           7.37164013945135,
           7.37164013945135,
           7.37164013945135,
           7.37164013945135,
           7.37164013945135,
           7.37164013945135,
           7.37164013945135,
           7.37164013945135,
           7.37164013945135,
           7.37164013945135,
           7.37164013945135,
           7.37164013945135,
           7.37164013945135,
           7.37164013945135,
           7.37164013945135,
           7.37164013945135,
           7.37164013945135,
           7.37164013945135,
           7.37164013945135,
           7.37164013945135,
           7.37164013945135
          ],
          [
           7.3719238179621245,
           7.3719238179621245,
           7.3719238179621245,
           7.3719238179621245,
           7.3719238179621245,
           7.3719238179621245,
           7.3719238179621245,
           7.3719238179621245,
           7.3719238179621245,
           7.3719238179621245,
           7.3719238179621245,
           7.3719238179621245,
           7.3719238179621245,
           7.3719238179621245,
           7.3719238179621245,
           7.3719238179621245,
           7.3719238179621245,
           7.3719238179621245,
           7.3719238179621245,
           7.3719238179621245,
           7.3719238179621245,
           7.3719238179621245,
           7.3719238179621245
          ],
          [
           7.3722074964729,
           7.3722074964729,
           7.3722074964729,
           7.3722074964729,
           7.3722074964729,
           7.3722074964729,
           7.3722074964729,
           7.3722074964729,
           7.3722074964729,
           7.3722074964729,
           7.3722074964729,
           7.3722074964729,
           7.3722074964729,
           7.3722074964729,
           7.3722074964729,
           7.3722074964729,
           7.3722074964729,
           7.3722074964729,
           7.3722074964729,
           7.3722074964729,
           7.3722074964729,
           7.3722074964729,
           7.3722074964729
          ],
          [
           7.372491174983674,
           7.372491174983674,
           7.372491174983674,
           7.372491174983674,
           7.372491174983674,
           7.372491174983674,
           7.372491174983674,
           7.372491174983674,
           7.372491174983674,
           7.372491174983674,
           7.372491174983674,
           7.372491174983674,
           7.372491174983674,
           7.372491174983674,
           7.372491174983674,
           7.372491174983674,
           7.372491174983674,
           7.372491174983674,
           7.372491174983674,
           7.372491174983674,
           7.372491174983674,
           7.372491174983674,
           7.372491174983674
          ],
          [
           7.372774853494448,
           7.372774853494448,
           7.372774853494448,
           7.372774853494448,
           7.372774853494448,
           7.372774853494448,
           7.372774853494448,
           7.372774853494448,
           7.372774853494448,
           7.372774853494448,
           7.372774853494448,
           7.372774853494448,
           7.372774853494448,
           7.372774853494448,
           7.372774853494448,
           7.372774853494448,
           7.372774853494448,
           7.372774853494448,
           7.372774853494448,
           7.372774853494448,
           7.372774853494448,
           7.372774853494448,
           7.372774853494448
          ],
          [
           7.373058532005223,
           7.373058532005223,
           7.373058532005223,
           7.373058532005223,
           7.373058532005223,
           7.373058532005223,
           7.373058532005223,
           7.373058532005223,
           7.373058532005223,
           7.373058532005223,
           7.373058532005223,
           7.373058532005223,
           7.373058532005223,
           7.373058532005223,
           7.373058532005223,
           7.373058532005223,
           7.373058532005223,
           7.373058532005223,
           7.373058532005223,
           7.373058532005223,
           7.373058532005223,
           7.373058532005223,
           7.373058532005223
          ],
          [
           7.373342210515998,
           7.373342210515998,
           7.373342210515998,
           7.373342210515998,
           7.373342210515998,
           7.373342210515998,
           7.373342210515998,
           7.373342210515998,
           7.373342210515998,
           7.373342210515998,
           7.373342210515998,
           7.373342210515998,
           7.373342210515998,
           7.373342210515998,
           7.373342210515998,
           7.373342210515998,
           7.373342210515998,
           7.373342210515998,
           7.373342210515998,
           7.373342210515998,
           7.373342210515998,
           7.373342210515998,
           7.373342210515998
          ],
          [
           7.373625889026773,
           7.373625889026773,
           7.373625889026773,
           7.373625889026773,
           7.373625889026773,
           7.373625889026773,
           7.373625889026773,
           7.373625889026773,
           7.373625889026773,
           7.373625889026773,
           7.373625889026773,
           7.373625889026773,
           7.373625889026773,
           7.373625889026773,
           7.373625889026773,
           7.373625889026773,
           7.373625889026773,
           7.373625889026773,
           7.373625889026773,
           7.373625889026773,
           7.373625889026773,
           7.373625889026773,
           7.373625889026773
          ],
          [
           7.373909567537547,
           7.373909567537547,
           7.373909567537547,
           7.373909567537547,
           7.373909567537547,
           7.373909567537547,
           7.373909567537547,
           7.373909567537547,
           7.373909567537547,
           7.373909567537547,
           7.373909567537547,
           7.373909567537547,
           7.373909567537547,
           7.373909567537547,
           7.373909567537547,
           7.373909567537547,
           7.373909567537547,
           7.373909567537547,
           7.373909567537547,
           7.373909567537547,
           7.373909567537547,
           7.373909567537547,
           7.373909567537547
          ],
          [
           7.374193246048321,
           7.374193246048321,
           7.374193246048321,
           7.374193246048321,
           7.374193246048321,
           7.374193246048321,
           7.374193246048321,
           7.374193246048321,
           7.374193246048321,
           7.374193246048321,
           7.374193246048321,
           7.374193246048321,
           7.374193246048321,
           7.374193246048321,
           7.374193246048321,
           7.374193246048321,
           7.374193246048321,
           7.374193246048321,
           7.374193246048321,
           7.374193246048321,
           7.374193246048321,
           7.374193246048321,
           7.374193246048321
          ],
          [
           7.374476924559096,
           7.374476924559096,
           7.374476924559096,
           7.374476924559096,
           7.374476924559096,
           7.374476924559096,
           7.374476924559096,
           7.374476924559096,
           7.374476924559096,
           7.374476924559096,
           7.374476924559096,
           7.374476924559096,
           7.374476924559096,
           7.374476924559096,
           7.374476924559096,
           7.374476924559096,
           7.374476924559096,
           7.374476924559096,
           7.374476924559096,
           7.374476924559096,
           7.374476924559096,
           7.374476924559096,
           7.374476924559096
          ],
          [
           7.374760603069871,
           7.374760603069871,
           7.374760603069871,
           7.374760603069871,
           7.374760603069871,
           7.374760603069871,
           7.374760603069871,
           7.374760603069871,
           7.374760603069871,
           7.374760603069871,
           7.374760603069871,
           7.374760603069871,
           7.374760603069871,
           7.374760603069871,
           7.374760603069871,
           7.374760603069871,
           7.374760603069871,
           7.374760603069871,
           7.374760603069871,
           7.374760603069871,
           7.374760603069871,
           7.374760603069871,
           7.374760603069871
          ],
          [
           7.375044281580645,
           7.375044281580645,
           7.375044281580645,
           7.375044281580645,
           7.375044281580645,
           7.375044281580645,
           7.375044281580645,
           7.375044281580645,
           7.375044281580645,
           7.375044281580645,
           7.375044281580645,
           7.375044281580645,
           7.375044281580645,
           7.375044281580645,
           7.375044281580645,
           7.375044281580645,
           7.375044281580645,
           7.375044281580645,
           7.375044281580645,
           7.375044281580645,
           7.375044281580645,
           7.375044281580645,
           7.375044281580645
          ],
          [
           7.37532796009142,
           7.37532796009142,
           7.37532796009142,
           7.37532796009142,
           7.37532796009142,
           7.37532796009142,
           7.37532796009142,
           7.37532796009142,
           7.37532796009142,
           7.37532796009142,
           7.37532796009142,
           7.37532796009142,
           7.37532796009142,
           7.37532796009142,
           7.37532796009142,
           7.37532796009142,
           7.37532796009142,
           7.37532796009142,
           7.37532796009142,
           7.37532796009142,
           7.37532796009142,
           7.37532796009142,
           7.37532796009142
          ],
          [
           7.375611638602194,
           7.375611638602194,
           7.375611638602194,
           7.375611638602194,
           7.375611638602194,
           7.375611638602194,
           7.375611638602194,
           7.375611638602194,
           7.375611638602194,
           7.375611638602194,
           7.375611638602194,
           7.375611638602194,
           7.375611638602194,
           7.375611638602194,
           7.375611638602194,
           7.375611638602194,
           7.375611638602194,
           7.375611638602194,
           7.375611638602194,
           7.375611638602194,
           7.375611638602194,
           7.375611638602194,
           7.375611638602194
          ],
          [
           7.3758953171129695,
           7.3758953171129695,
           7.3758953171129695,
           7.3758953171129695,
           7.3758953171129695,
           7.3758953171129695,
           7.3758953171129695,
           7.3758953171129695,
           7.3758953171129695,
           7.3758953171129695,
           7.3758953171129695,
           7.3758953171129695,
           7.3758953171129695,
           7.3758953171129695,
           7.3758953171129695,
           7.3758953171129695,
           7.3758953171129695,
           7.3758953171129695,
           7.3758953171129695,
           7.3758953171129695,
           7.3758953171129695,
           7.3758953171129695,
           7.3758953171129695
          ],
          [
           7.376178995623744,
           7.376178995623744,
           7.376178995623744,
           7.376178995623744,
           7.376178995623744,
           7.376178995623744,
           7.376178995623744,
           7.376178995623744,
           7.376178995623744,
           7.376178995623744,
           7.376178995623744,
           7.376178995623744,
           7.376178995623744,
           7.376178995623744,
           7.376178995623744,
           7.376178995623744,
           7.376178995623744,
           7.376178995623744,
           7.376178995623744,
           7.376178995623744,
           7.376178995623744,
           7.376178995623744,
           7.376178995623744
          ],
          [
           7.376462674134518,
           7.376462674134518,
           7.376462674134518,
           7.376462674134518,
           7.376462674134518,
           7.376462674134518,
           7.376462674134518,
           7.376462674134518,
           7.376462674134518,
           7.376462674134518,
           7.376462674134518,
           7.376462674134518,
           7.376462674134518,
           7.376462674134518,
           7.376462674134518,
           7.376462674134518,
           7.376462674134518,
           7.376462674134518,
           7.376462674134518,
           7.376462674134518,
           7.376462674134518,
           7.376462674134518,
           7.376462674134518
          ],
          [
           7.376746352645293,
           7.376746352645293,
           7.376746352645293,
           7.376746352645293,
           7.376746352645293,
           7.376746352645293,
           7.376746352645293,
           7.376746352645293,
           7.376746352645293,
           7.376746352645293,
           7.376746352645293,
           7.376746352645293,
           7.376746352645293,
           7.376746352645293,
           7.376746352645293,
           7.376746352645293,
           7.376746352645293,
           7.376746352645293,
           7.376746352645293,
           7.376746352645293,
           7.376746352645293,
           7.376746352645293,
           7.376746352645293
          ],
          [
           7.3770300311560675,
           7.3770300311560675,
           7.3770300311560675,
           7.3770300311560675,
           7.3770300311560675,
           7.3770300311560675,
           7.3770300311560675,
           7.3770300311560675,
           7.3770300311560675,
           7.3770300311560675,
           7.3770300311560675,
           7.3770300311560675,
           7.3770300311560675,
           7.3770300311560675,
           7.3770300311560675,
           7.3770300311560675,
           7.3770300311560675,
           7.3770300311560675,
           7.3770300311560675,
           7.3770300311560675,
           7.3770300311560675,
           7.3770300311560675,
           7.3770300311560675
          ]
         ],
         "z": [
          [
           181,
           178,
           176,
           176,
           174,
           169,
           165,
           163,
           162,
           163,
           165,
           165,
           164,
           164,
           164,
           161,
           161,
           161,
           161,
           161,
           163,
           164,
           168
          ],
          [
           182,
           178,
           175,
           173,
           171,
           167,
           163,
           160,
           157,
           160,
           163,
           164,
           164,
           164,
           164,
           163,
           162,
           163,
           163,
           164,
           164,
           166,
           168
          ],
          [
           181,
           176,
           172,
           169,
           168,
           166,
           162,
           157,
           151,
           151,
           155,
           161,
           163,
           164,
           165,
           166,
           165,
           165,
           165,
           165,
           165,
           164,
           164
          ],
          [
           180,
           174,
           169,
           166,
           165,
           166,
           163,
           158,
           148,
           145,
           147,
           155,
           160,
           164,
           167,
           168,
           168,
           167,
           166,
           165,
           164,
           163,
           160
          ],
          [
           177,
           173,
           169,
           167,
           167,
           167,
           165,
           162,
           157,
           146,
           142,
           150,
           157,
           162,
           167,
           169,
           169,
           168,
           166,
           164,
           162,
           162,
           160
          ],
          [
           175,
           172,
           170,
           169,
           168,
           168,
           170,
           172,
           164,
           152,
           144,
           147,
           154,
           160,
           167,
           170,
           170,
           169,
           167,
           164,
           162,
           161,
           161
          ],
          [
           175,
           172,
           170,
           169,
           168,
           168,
           170,
           172,
           164,
           152,
           144,
           147,
           154,
           160,
           167,
           170,
           170,
           169,
           167,
           164,
           162,
           161,
           161
          ],
          [
           176,
           174,
           173,
           170,
           168,
           170,
           173,
           171,
           163,
           154,
           146,
           143,
           148,
           157,
           165,
           170,
           170,
           169,
           167,
           164,
           161,
           161,
           161
          ],
          [
           177,
           175,
           173,
           169,
           168,
           171,
           171,
           168,
           161,
           155,
           148,
           143,
           144,
           150,
           159,
           167,
           171,
           170,
           168,
           164,
           162,
           161,
           162
          ],
          [
           177,
           174,
           169,
           165,
           166,
           171,
           171,
           166,
           160,
           156,
           152,
           148,
           147,
           148,
           154,
           161,
           170,
           171,
           168,
           165,
           162,
           160,
           160
          ],
          [
           176,
           173,
           169,
           166,
           166,
           172,
           170,
           160,
           155,
           155,
           153,
           149,
           146,
           144,
           147,
           157,
           167,
           169,
           167,
           164,
           162,
           160,
           159
          ],
          [
           175,
           174,
           172,
           169,
           167,
           169,
           167,
           154,
           150,
           153,
           147,
           139,
           134,
           134,
           142,
           152,
           163,
           167,
           165,
           162,
           161,
           159,
           158
          ],
          [
           175,
           176,
           176,
           175,
           171,
           168,
           167,
           161,
           157,
           149,
           138,
           131,
           129,
           135,
           143,
           152,
           162,
           164,
           163,
           161,
           160,
           158,
           159
          ],
          [
           174,
           175,
           175,
           174,
           172,
           168,
           161,
           157,
           158,
           143,
           135,
           131,
           133,
           138,
           147,
           156,
           162,
           162,
           161,
           160,
           159,
           159,
           160
          ],
          [
           172,
           173,
           172,
           170,
           169,
           165,
           161,
           160,
           150,
           134,
           130,
           133,
           137,
           147,
           157,
           161,
           161,
           159,
           158,
           158,
           159,
           161,
           162
          ],
          [
           171,
           171,
           170,
           168,
           167,
           166,
           166,
           161,
           148,
           134,
           130,
           137,
           147,
           159,
           162,
           161,
           160,
           158,
           157,
           158,
           160,
           162,
           163
          ],
          [
           171,
           170,
           169,
           167,
           165,
           165,
           166,
           160,
           151,
           140,
           139,
           151,
           159,
           162,
           163,
           162,
           160,
           159,
           158,
           159,
           160,
           162,
           163
          ],
          [
           169,
           168,
           167,
           165,
           162,
           162,
           163,
           161,
           152,
           149,
           157,
           160,
           160,
           162,
           163,
           163,
           163,
           163,
           160,
           160,
           161,
           162,
           163
          ],
          [
           168,
           167,
           166,
           164,
           163,
           162,
           162,
           163,
           161,
           162,
           163,
           161,
           158,
           160,
           163,
           162,
           163,
           165,
           162,
           160,
           161,
           162,
           163
          ],
          [
           167,
           167,
           164,
           163,
           163,
           162,
           163,
           162,
           162,
           162,
           164,
           165,
           162,
           161,
           164,
           163,
           162,
           163,
           162,
           161,
           162,
           163,
           163
          ]
         ]
        }
       ],
       "layout": {
        "autosize": false,
        "height": 500,
        "template": {
         "data": {
          "bar": [
           {
            "error_x": {
             "color": "#2a3f5f"
            },
            "error_y": {
             "color": "#2a3f5f"
            },
            "marker": {
             "line": {
              "color": "#E5ECF6",
              "width": 0.5
             }
            },
            "type": "bar"
           }
          ],
          "barpolar": [
           {
            "marker": {
             "line": {
              "color": "#E5ECF6",
              "width": 0.5
             }
            },
            "type": "barpolar"
           }
          ],
          "carpet": [
           {
            "aaxis": {
             "endlinecolor": "#2a3f5f",
             "gridcolor": "white",
             "linecolor": "white",
             "minorgridcolor": "white",
             "startlinecolor": "#2a3f5f"
            },
            "baxis": {
             "endlinecolor": "#2a3f5f",
             "gridcolor": "white",
             "linecolor": "white",
             "minorgridcolor": "white",
             "startlinecolor": "#2a3f5f"
            },
            "type": "carpet"
           }
          ],
          "choropleth": [
           {
            "colorbar": {
             "outlinewidth": 0,
             "ticks": ""
            },
            "type": "choropleth"
           }
          ],
          "contour": [
           {
            "colorbar": {
             "outlinewidth": 0,
             "ticks": ""
            },
            "colorscale": [
             [
              0,
              "#0d0887"
             ],
             [
              0.1111111111111111,
              "#46039f"
             ],
             [
              0.2222222222222222,
              "#7201a8"
             ],
             [
              0.3333333333333333,
              "#9c179e"
             ],
             [
              0.4444444444444444,
              "#bd3786"
             ],
             [
              0.5555555555555556,
              "#d8576b"
             ],
             [
              0.6666666666666666,
              "#ed7953"
             ],
             [
              0.7777777777777778,
              "#fb9f3a"
             ],
             [
              0.8888888888888888,
              "#fdca26"
             ],
             [
              1,
              "#f0f921"
             ]
            ],
            "type": "contour"
           }
          ],
          "contourcarpet": [
           {
            "colorbar": {
             "outlinewidth": 0,
             "ticks": ""
            },
            "type": "contourcarpet"
           }
          ],
          "heatmap": [
           {
            "colorbar": {
             "outlinewidth": 0,
             "ticks": ""
            },
            "colorscale": [
             [
              0,
              "#0d0887"
             ],
             [
              0.1111111111111111,
              "#46039f"
             ],
             [
              0.2222222222222222,
              "#7201a8"
             ],
             [
              0.3333333333333333,
              "#9c179e"
             ],
             [
              0.4444444444444444,
              "#bd3786"
             ],
             [
              0.5555555555555556,
              "#d8576b"
             ],
             [
              0.6666666666666666,
              "#ed7953"
             ],
             [
              0.7777777777777778,
              "#fb9f3a"
             ],
             [
              0.8888888888888888,
              "#fdca26"
             ],
             [
              1,
              "#f0f921"
             ]
            ],
            "type": "heatmap"
           }
          ],
          "heatmapgl": [
           {
            "colorbar": {
             "outlinewidth": 0,
             "ticks": ""
            },
            "colorscale": [
             [
              0,
              "#0d0887"
             ],
             [
              0.1111111111111111,
              "#46039f"
             ],
             [
              0.2222222222222222,
              "#7201a8"
             ],
             [
              0.3333333333333333,
              "#9c179e"
             ],
             [
              0.4444444444444444,
              "#bd3786"
             ],
             [
              0.5555555555555556,
              "#d8576b"
             ],
             [
              0.6666666666666666,
              "#ed7953"
             ],
             [
              0.7777777777777778,
              "#fb9f3a"
             ],
             [
              0.8888888888888888,
              "#fdca26"
             ],
             [
              1,
              "#f0f921"
             ]
            ],
            "type": "heatmapgl"
           }
          ],
          "histogram": [
           {
            "marker": {
             "colorbar": {
              "outlinewidth": 0,
              "ticks": ""
             }
            },
            "type": "histogram"
           }
          ],
          "histogram2d": [
           {
            "colorbar": {
             "outlinewidth": 0,
             "ticks": ""
            },
            "colorscale": [
             [
              0,
              "#0d0887"
             ],
             [
              0.1111111111111111,
              "#46039f"
             ],
             [
              0.2222222222222222,
              "#7201a8"
             ],
             [
              0.3333333333333333,
              "#9c179e"
             ],
             [
              0.4444444444444444,
              "#bd3786"
             ],
             [
              0.5555555555555556,
              "#d8576b"
             ],
             [
              0.6666666666666666,
              "#ed7953"
             ],
             [
              0.7777777777777778,
              "#fb9f3a"
             ],
             [
              0.8888888888888888,
              "#fdca26"
             ],
             [
              1,
              "#f0f921"
             ]
            ],
            "type": "histogram2d"
           }
          ],
          "histogram2dcontour": [
           {
            "colorbar": {
             "outlinewidth": 0,
             "ticks": ""
            },
            "colorscale": [
             [
              0,
              "#0d0887"
             ],
             [
              0.1111111111111111,
              "#46039f"
             ],
             [
              0.2222222222222222,
              "#7201a8"
             ],
             [
              0.3333333333333333,
              "#9c179e"
             ],
             [
              0.4444444444444444,
              "#bd3786"
             ],
             [
              0.5555555555555556,
              "#d8576b"
             ],
             [
              0.6666666666666666,
              "#ed7953"
             ],
             [
              0.7777777777777778,
              "#fb9f3a"
             ],
             [
              0.8888888888888888,
              "#fdca26"
             ],
             [
              1,
              "#f0f921"
             ]
            ],
            "type": "histogram2dcontour"
           }
          ],
          "mesh3d": [
           {
            "colorbar": {
             "outlinewidth": 0,
             "ticks": ""
            },
            "type": "mesh3d"
           }
          ],
          "parcoords": [
           {
            "line": {
             "colorbar": {
              "outlinewidth": 0,
              "ticks": ""
             }
            },
            "type": "parcoords"
           }
          ],
          "pie": [
           {
            "automargin": true,
            "type": "pie"
           }
          ],
          "scatter": [
           {
            "marker": {
             "colorbar": {
              "outlinewidth": 0,
              "ticks": ""
             }
            },
            "type": "scatter"
           }
          ],
          "scatter3d": [
           {
            "line": {
             "colorbar": {
              "outlinewidth": 0,
              "ticks": ""
             }
            },
            "marker": {
             "colorbar": {
              "outlinewidth": 0,
              "ticks": ""
             }
            },
            "type": "scatter3d"
           }
          ],
          "scattercarpet": [
           {
            "marker": {
             "colorbar": {
              "outlinewidth": 0,
              "ticks": ""
             }
            },
            "type": "scattercarpet"
           }
          ],
          "scattergeo": [
           {
            "marker": {
             "colorbar": {
              "outlinewidth": 0,
              "ticks": ""
             }
            },
            "type": "scattergeo"
           }
          ],
          "scattergl": [
           {
            "marker": {
             "colorbar": {
              "outlinewidth": 0,
              "ticks": ""
             }
            },
            "type": "scattergl"
           }
          ],
          "scattermapbox": [
           {
            "marker": {
             "colorbar": {
              "outlinewidth": 0,
              "ticks": ""
             }
            },
            "type": "scattermapbox"
           }
          ],
          "scatterpolar": [
           {
            "marker": {
             "colorbar": {
              "outlinewidth": 0,
              "ticks": ""
             }
            },
            "type": "scatterpolar"
           }
          ],
          "scatterpolargl": [
           {
            "marker": {
             "colorbar": {
              "outlinewidth": 0,
              "ticks": ""
             }
            },
            "type": "scatterpolargl"
           }
          ],
          "scatterternary": [
           {
            "marker": {
             "colorbar": {
              "outlinewidth": 0,
              "ticks": ""
             }
            },
            "type": "scatterternary"
           }
          ],
          "surface": [
           {
            "colorbar": {
             "outlinewidth": 0,
             "ticks": ""
            },
            "colorscale": [
             [
              0,
              "#0d0887"
             ],
             [
              0.1111111111111111,
              "#46039f"
             ],
             [
              0.2222222222222222,
              "#7201a8"
             ],
             [
              0.3333333333333333,
              "#9c179e"
             ],
             [
              0.4444444444444444,
              "#bd3786"
             ],
             [
              0.5555555555555556,
              "#d8576b"
             ],
             [
              0.6666666666666666,
              "#ed7953"
             ],
             [
              0.7777777777777778,
              "#fb9f3a"
             ],
             [
              0.8888888888888888,
              "#fdca26"
             ],
             [
              1,
              "#f0f921"
             ]
            ],
            "type": "surface"
           }
          ],
          "table": [
           {
            "cells": {
             "fill": {
              "color": "#EBF0F8"
             },
             "line": {
              "color": "white"
             }
            },
            "header": {
             "fill": {
              "color": "#C8D4E3"
             },
             "line": {
              "color": "white"
             }
            },
            "type": "table"
           }
          ]
         },
         "layout": {
          "annotationdefaults": {
           "arrowcolor": "#2a3f5f",
           "arrowhead": 0,
           "arrowwidth": 1
          },
          "coloraxis": {
           "colorbar": {
            "outlinewidth": 0,
            "ticks": ""
           }
          },
          "colorscale": {
           "diverging": [
            [
             0,
             "#8e0152"
            ],
            [
             0.1,
             "#c51b7d"
            ],
            [
             0.2,
             "#de77ae"
            ],
            [
             0.3,
             "#f1b6da"
            ],
            [
             0.4,
             "#fde0ef"
            ],
            [
             0.5,
             "#f7f7f7"
            ],
            [
             0.6,
             "#e6f5d0"
            ],
            [
             0.7,
             "#b8e186"
            ],
            [
             0.8,
             "#7fbc41"
            ],
            [
             0.9,
             "#4d9221"
            ],
            [
             1,
             "#276419"
            ]
           ],
           "sequential": [
            [
             0,
             "#0d0887"
            ],
            [
             0.1111111111111111,
             "#46039f"
            ],
            [
             0.2222222222222222,
             "#7201a8"
            ],
            [
             0.3333333333333333,
             "#9c179e"
            ],
            [
             0.4444444444444444,
             "#bd3786"
            ],
            [
             0.5555555555555556,
             "#d8576b"
            ],
            [
             0.6666666666666666,
             "#ed7953"
            ],
            [
             0.7777777777777778,
             "#fb9f3a"
            ],
            [
             0.8888888888888888,
             "#fdca26"
            ],
            [
             1,
             "#f0f921"
            ]
           ],
           "sequentialminus": [
            [
             0,
             "#0d0887"
            ],
            [
             0.1111111111111111,
             "#46039f"
            ],
            [
             0.2222222222222222,
             "#7201a8"
            ],
            [
             0.3333333333333333,
             "#9c179e"
            ],
            [
             0.4444444444444444,
             "#bd3786"
            ],
            [
             0.5555555555555556,
             "#d8576b"
            ],
            [
             0.6666666666666666,
             "#ed7953"
            ],
            [
             0.7777777777777778,
             "#fb9f3a"
            ],
            [
             0.8888888888888888,
             "#fdca26"
            ],
            [
             1,
             "#f0f921"
            ]
           ]
          },
          "colorway": [
           "#636efa",
           "#EF553B",
           "#00cc96",
           "#ab63fa",
           "#FFA15A",
           "#19d3f3",
           "#FF6692",
           "#B6E880",
           "#FF97FF",
           "#FECB52"
          ],
          "font": {
           "color": "#2a3f5f"
          },
          "geo": {
           "bgcolor": "white",
           "lakecolor": "white",
           "landcolor": "#E5ECF6",
           "showlakes": true,
           "showland": true,
           "subunitcolor": "white"
          },
          "hoverlabel": {
           "align": "left"
          },
          "hovermode": "closest",
          "mapbox": {
           "style": "light"
          },
          "paper_bgcolor": "white",
          "plot_bgcolor": "#E5ECF6",
          "polar": {
           "angularaxis": {
            "gridcolor": "white",
            "linecolor": "white",
            "ticks": ""
           },
           "bgcolor": "#E5ECF6",
           "radialaxis": {
            "gridcolor": "white",
            "linecolor": "white",
            "ticks": ""
           }
          },
          "scene": {
           "xaxis": {
            "backgroundcolor": "#E5ECF6",
            "gridcolor": "white",
            "gridwidth": 2,
            "linecolor": "white",
            "showbackground": true,
            "ticks": "",
            "zerolinecolor": "white"
           },
           "yaxis": {
            "backgroundcolor": "#E5ECF6",
            "gridcolor": "white",
            "gridwidth": 2,
            "linecolor": "white",
            "showbackground": true,
            "ticks": "",
            "zerolinecolor": "white"
           },
           "zaxis": {
            "backgroundcolor": "#E5ECF6",
            "gridcolor": "white",
            "gridwidth": 2,
            "linecolor": "white",
            "showbackground": true,
            "ticks": "",
            "zerolinecolor": "white"
           }
          },
          "shapedefaults": {
           "line": {
            "color": "#2a3f5f"
           }
          },
          "ternary": {
           "aaxis": {
            "gridcolor": "white",
            "linecolor": "white",
            "ticks": ""
           },
           "baxis": {
            "gridcolor": "white",
            "linecolor": "white",
            "ticks": ""
           },
           "bgcolor": "#E5ECF6",
           "caxis": {
            "gridcolor": "white",
            "linecolor": "white",
            "ticks": ""
           }
          },
          "title": {
           "x": 0.05
          },
          "xaxis": {
           "automargin": true,
           "gridcolor": "white",
           "linecolor": "white",
           "ticks": "",
           "title": {
            "standoff": 15
           },
           "zerolinecolor": "white",
           "zerolinewidth": 2
          },
          "yaxis": {
           "automargin": true,
           "gridcolor": "white",
           "linecolor": "white",
           "ticks": "",
           "title": {
            "standoff": 15
           },
           "zerolinecolor": "white",
           "zerolinewidth": 2
          }
         }
        },
        "title": {
         "text": "Reservoir 3d View"
        },
        "width": 800
       }
      }
     },
     "metadata": {}
    }
   ],
   "source": [
    "fig = go.Figure(data=go.Surface(\n",
    "    x=X,\n",
    "    y=Y,\n",
    "    z=band1,\n",
    "    colorbar=dict(title=\"Elevation (m)\")\n",
    "    ))\n",
    "\n",
    "fig.update_traces(contours_z=dict(show=True, usecolormap=True,\n",
    "                                  highlightcolor=\"limegreen\", project_z=True))\n",
    "fig.update_layout(title='Reservoir 3d View', autosize=False,height=500,width=800)\n",
    "fig.show()\n",
    "fig.write_html(r\"dataVisualHTML\\dem3d.html\")"
   ]
  },
  {
   "cell_type": "code",
   "execution_count": null,
   "metadata": {},
   "outputs": [],
   "source": []
  }
 ],
 "metadata": {
  "language_info": {
   "codemirror_mode": {
    "name": "ipython",
    "version": 3
   },
   "file_extension": ".py",
   "mimetype": "text/x-python",
   "name": "python",
   "nbconvert_exporter": "python",
   "pygments_lexer": "ipython3",
   "version": "3.7.6-final"
  },
  "orig_nbformat": 2,
  "kernelspec": {
   "name": "python37464bitbasecondac35f21313e8b48f5ba17af10ea5470f3",
   "display_name": "Python 3.7.4 64-bit ('base': conda)"
  }
 },
 "nbformat": 4,
 "nbformat_minor": 2
}